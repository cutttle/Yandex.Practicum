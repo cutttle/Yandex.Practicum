{
 "cells": [
  {
   "cell_type": "markdown",
   "metadata": {
    "id": "VsCiz-gKoMnA",
    "toc": true
   },
   "source": [
    "<h1>Содержание<span class=\"tocSkip\"></span></h1>\n",
    "<div class=\"toc\"><ul class=\"toc-item\"><li><span><a href=\"#Анализ-и-подготовка-данных\" data-toc-modified-id=\"Анализ-и-подготовка-данных-1\"><span class=\"toc-item-num\">1&nbsp;&nbsp;</span>Анализ и подготовка данных</a></span><ul class=\"toc-item\"><li><span><a href=\"#Анализ-данных\" data-toc-modified-id=\"Анализ-данных-1.1\"><span class=\"toc-item-num\">1.1&nbsp;&nbsp;</span>Анализ данных</a></span></li><li><span><a href=\"#Подготовка-данных\" data-toc-modified-id=\"Подготовка-данных-1.2\"><span class=\"toc-item-num\">1.2&nbsp;&nbsp;</span>Подготовка данных</a></span></li></ul></li><li><span><a href=\"#Обучение\" data-toc-modified-id=\"Обучение-2\"><span class=\"toc-item-num\">2&nbsp;&nbsp;</span>Обучение</a></span></li><li><span><a href=\"#Выводы\" data-toc-modified-id=\"Выводы-3\"><span class=\"toc-item-num\">3&nbsp;&nbsp;</span>Выводы</a></span></li></ul></div>"
   ]
  },
  {
   "cell_type": "markdown",
   "metadata": {
    "id": "VlFt9bggoMnH"
   },
   "source": [
    "# Проект для «Викишоп»"
   ]
  },
  {
   "cell_type": "markdown",
   "metadata": {
    "id": "yhNx4KV7oMnJ"
   },
   "source": [
    "Интернет-магазин «Викишоп» запускает новый сервис. Теперь пользователи могут редактировать и дополнять описания товаров, как в вики-сообществах. То есть клиенты предлагают свои правки и комментируют изменения других. Магазину нужен инструмент, который будет искать токсичные комментарии и отправлять их на модерацию. \n",
    "\n",
    "Нужно обучить модель классифицировать комментарии на позитивные и негативные. В нашем распоряжении набор данных с разметкой о токсичности правок.\n",
    "\n",
    "**План выполнения проекта**\n",
    "\n",
    "1. Загрузить и подготовить данные.\n",
    "2. Обучить разные модели. \n",
    "3. Сделать выводы.\n",
    "\n",
    "**Описание данных**\n",
    "\n",
    "Данные находятся в файле `toxic_comments.csv`. Столбец *text* в нём содержит текст комментария, а *toxic* — целевой признак."
   ]
  },
  {
   "cell_type": "markdown",
   "metadata": {
    "id": "j6xGAQJzoMnK"
   },
   "source": [
    "## Анализ и подготовка данных"
   ]
  },
  {
   "cell_type": "markdown",
   "metadata": {
    "id": "_MRgpgakoMnL"
   },
   "source": [
    "Импортируем необходимые инструменты:"
   ]
  },
  {
   "cell_type": "code",
   "execution_count": 1,
   "metadata": {
    "id": "KUp5L5ukoMnM"
   },
   "outputs": [],
   "source": [
    "import pandas as pd\n",
    "import matplotlib.pyplot as plt\n",
    "import re\n",
    "import spacy\n",
    "import nltk\n",
    "from nltk.corpus import stopwords as nltk_stopwords\n",
    "\n",
    "from sklearn.model_selection import train_test_split\n",
    "from sklearn.metrics import f1_score\n",
    "from sklearn.model_selection import GridSearchCV\n",
    "from sklearn.pipeline import Pipeline\n",
    "from sklearn.feature_extraction.text import TfidfVectorizer\n",
    "from sklearn.linear_model import LogisticRegression\n",
    "from sklearn.tree import DecisionTreeClassifier\n",
    "from catboost import CatBoostClassifier\n",
    "from sklearn.model_selection import cross_val_score"
   ]
  },
  {
   "cell_type": "markdown",
   "metadata": {
    "id": "H21vfgLWoMnO"
   },
   "source": [
    "### Анализ данных"
   ]
  },
  {
   "cell_type": "markdown",
   "metadata": {
    "id": "XPPu2AMRoMnP"
   },
   "source": [
    "Загрузим и проанализируем исходные данные:"
   ]
  },
  {
   "cell_type": "code",
   "execution_count": 2,
   "metadata": {
    "id": "DhlbMQd6oMnQ"
   },
   "outputs": [],
   "source": [
    "df = pd.read_csv('toxic_comments.csv')"
   ]
  },
  {
   "cell_type": "code",
   "execution_count": 3,
   "metadata": {
    "colab": {
     "base_uri": "https://localhost:8080/",
     "height": 206
    },
    "id": "Ryil4dkPoMnS",
    "outputId": "7347f414-d0c5-482a-ea44-53d5d3f9b6e5"
   },
   "outputs": [
    {
     "data": {
      "text/html": [
       "<div>\n",
       "<style scoped>\n",
       "    .dataframe tbody tr th:only-of-type {\n",
       "        vertical-align: middle;\n",
       "    }\n",
       "\n",
       "    .dataframe tbody tr th {\n",
       "        vertical-align: top;\n",
       "    }\n",
       "\n",
       "    .dataframe thead th {\n",
       "        text-align: right;\n",
       "    }\n",
       "</style>\n",
       "<table border=\"1\" class=\"dataframe\">\n",
       "  <thead>\n",
       "    <tr style=\"text-align: right;\">\n",
       "      <th></th>\n",
       "      <th>text</th>\n",
       "      <th>toxic</th>\n",
       "    </tr>\n",
       "  </thead>\n",
       "  <tbody>\n",
       "    <tr>\n",
       "      <th>138464</th>\n",
       "      <td>Is Zeno of Elea wrong?\\nOf course Zeno just qu...</td>\n",
       "      <td>0</td>\n",
       "    </tr>\n",
       "    <tr>\n",
       "      <th>147620</th>\n",
       "      <td>apologise for being uncivil.</td>\n",
       "      <td>0</td>\n",
       "    </tr>\n",
       "    <tr>\n",
       "      <th>133063</th>\n",
       "      <td>My bad, I haven't done this in a while! Thanks...</td>\n",
       "      <td>0</td>\n",
       "    </tr>\n",
       "    <tr>\n",
       "      <th>70553</th>\n",
       "      <td>this article could do with being tidied up by ...</td>\n",
       "      <td>0</td>\n",
       "    </tr>\n",
       "    <tr>\n",
       "      <th>40851</th>\n",
       "      <td>Discussion destroying CRAP topic \\n\\nIt seems ...</td>\n",
       "      <td>1</td>\n",
       "    </tr>\n",
       "  </tbody>\n",
       "</table>\n",
       "</div>"
      ],
      "text/plain": [
       "                                                     text  toxic\n",
       "138464  Is Zeno of Elea wrong?\\nOf course Zeno just qu...      0\n",
       "147620                       apologise for being uncivil.      0\n",
       "133063  My bad, I haven't done this in a while! Thanks...      0\n",
       "70553   this article could do with being tidied up by ...      0\n",
       "40851   Discussion destroying CRAP topic \\n\\nIt seems ...      1"
      ]
     },
     "execution_count": 3,
     "metadata": {},
     "output_type": "execute_result"
    }
   ],
   "source": [
    "df.sample(5)"
   ]
  },
  {
   "cell_type": "code",
   "execution_count": 4,
   "metadata": {
    "colab": {
     "base_uri": "https://localhost:8080/"
    },
    "id": "bXicFhA2oMnT",
    "outputId": "02b05fae-8750-4e9e-8e2a-67c643b6e5f1",
    "scrolled": true
   },
   "outputs": [
    {
     "name": "stdout",
     "output_type": "stream",
     "text": [
      "<class 'pandas.core.frame.DataFrame'>\n",
      "RangeIndex: 159571 entries, 0 to 159570\n",
      "Data columns (total 2 columns):\n",
      " #   Column  Non-Null Count   Dtype \n",
      "---  ------  --------------   ----- \n",
      " 0   text    159571 non-null  object\n",
      " 1   toxic   159571 non-null  int64 \n",
      "dtypes: int64(1), object(1)\n",
      "memory usage: 2.4+ MB\n"
     ]
    }
   ],
   "source": [
    "df.info()"
   ]
  },
  {
   "cell_type": "code",
   "execution_count": 5,
   "metadata": {
    "colab": {
     "base_uri": "https://localhost:8080/",
     "height": 278
    },
    "id": "ET08VN3MoMnU",
    "outputId": "d90ca33a-f90c-4bd7-a640-4af31cbdd29c",
    "scrolled": false
   },
   "outputs": [
    {
     "data": {
      "image/png": "[encoded data removed]",
      "text/plain": [
       "<Figure size 432x288 with 1 Axes>"
      ]
     },
     "metadata": {
      "needs_background": "light"
     },
     "output_type": "display_data"
    }
   ],
   "source": [
    "df['toxic'].value_counts()\n",
    "df['toxic'].value_counts().plot(kind='bar', figsize=(6, 4))\n",
    "plt.title('Баланс классов');"
   ]
  },
  {
   "cell_type": "code",
   "execution_count": 6,
   "metadata": {
    "colab": {
     "base_uri": "https://localhost:8080/"
    },
    "id": "D6NyafnyoMnV",
    "outputId": "ee081b46-132b-4d23-e60c-7aa4c2429cef",
    "scrolled": false
   },
   "outputs": [
    {
     "data": {
      "text/plain": [
       "0"
      ]
     },
     "execution_count": 6,
     "metadata": {},
     "output_type": "execute_result"
    }
   ],
   "source": [
    "df.duplicated().sum()"
   ]
  },
  {
   "cell_type": "markdown",
   "metadata": {
    "id": "4z-F6ZHRoMnV"
   },
   "source": [
    "**Вывод**\n",
    "\n",
    "Исходные данные состоят из столбца-признака с текстом комментария и столбца-целевого признака с меткой о токсичности комментария. В данных отсутствуют пропуски и дубликаты, баланс классов не соблюдается - токсичных комментариев примерно в 9 раз меньше. "
   ]
  },
  {
   "cell_type": "markdown",
   "metadata": {
    "id": "Ph27tGS_oMnW"
   },
   "source": [
    "### Подготовка данных"
   ]
  },
  {
   "cell_type": "markdown",
   "metadata": {
    "id": "ZpdwZu-ooMnX"
   },
   "source": [
    "Выполним подготовку данных для модели, включающую токенизацию, лемматизацию, очистку от лишних символов и векторизацию."
   ]
  },
  {
   "cell_type": "markdown",
   "metadata": {
    "id": "MmIbxhZaoMnX"
   },
   "source": [
    "Используем для этого функцию:"
   ]
  },
  {
   "cell_type": "code",
   "execution_count": 14,
   "metadata": {
    "colab": {
     "base_uri": "https://localhost:8080/"
    },
    "id": "DEb3qbWgoMnY",
    "outputId": "3384af6a-c8e4-4060-d380-b8b81c6a3e35",
    "scrolled": false
   },
   "outputs": [
    {
     "name": "stdout",
     "output_type": "stream",
     "text": [
      "Wall time: 53min 44s\n"
     ]
    }
   ],
   "source": [
    "%%time\n",
    "def preprocessing(sentence):\n",
    "    lemmatized_output = \" \".join([token.lemma_ for token in nlp(sentence)])\n",
    "    processed_output = re.sub(r\"[^a-zA-Z ]\", \" \", lemmatized_output).lower()\n",
    "    return processed_output\n",
    "\n",
    "nlp = spacy.load('en_core_web_sm')\n",
    "df['processed_text'] = df['text'].apply(preprocessing)"
   ]
  },
  {
   "cell_type": "markdown",
   "metadata": {
    "id": "iAaL3NZGoMnY"
   },
   "source": [
    "Проверим получившийся результат:"
   ]
  },
  {
   "cell_type": "code",
   "execution_count": 15,
   "metadata": {
    "colab": {
     "base_uri": "https://localhost:8080/",
     "height": 206
    },
    "id": "lTU2VoNwoMnZ",
    "outputId": "99f6ae80-01b4-481b-b470-850401e77683",
    "scrolled": false
   },
   "outputs": [
    {
     "data": {
      "text/html": [
       "<div>\n",
       "<style scoped>\n",
       "    .dataframe tbody tr th:only-of-type {\n",
       "        vertical-align: middle;\n",
       "    }\n",
       "\n",
       "    .dataframe tbody tr th {\n",
       "        vertical-align: top;\n",
       "    }\n",
       "\n",
       "    .dataframe thead th {\n",
       "        text-align: right;\n",
       "    }\n",
       "</style>\n",
       "<table border=\"1\" class=\"dataframe\">\n",
       "  <thead>\n",
       "    <tr style=\"text-align: right;\">\n",
       "      <th></th>\n",
       "      <th>text</th>\n",
       "      <th>toxic</th>\n",
       "      <th>processed_text</th>\n",
       "    </tr>\n",
       "  </thead>\n",
       "  <tbody>\n",
       "    <tr>\n",
       "      <th>0</th>\n",
       "      <td>Explanation\\nWhy the edits made under my usern...</td>\n",
       "      <td>0</td>\n",
       "      <td>explanation   why the edit make under my usern...</td>\n",
       "    </tr>\n",
       "    <tr>\n",
       "      <th>1</th>\n",
       "      <td>D'aww! He matches this background colour I'm s...</td>\n",
       "      <td>0</td>\n",
       "      <td>d aww   he match this background colour i be s...</td>\n",
       "    </tr>\n",
       "    <tr>\n",
       "      <th>2</th>\n",
       "      <td>Hey man, I'm really not trying to edit war. It...</td>\n",
       "      <td>0</td>\n",
       "      <td>hey man   i be really not try to edit war   it...</td>\n",
       "    </tr>\n",
       "    <tr>\n",
       "      <th>3</th>\n",
       "      <td>\"\\nMore\\nI can't make any real suggestions on ...</td>\n",
       "      <td>0</td>\n",
       "      <td>more   i can not make any real suggestion ...</td>\n",
       "    </tr>\n",
       "    <tr>\n",
       "      <th>4</th>\n",
       "      <td>You, sir, are my hero. Any chance you remember...</td>\n",
       "      <td>0</td>\n",
       "      <td>you   sir   be my hero   any chance you rememb...</td>\n",
       "    </tr>\n",
       "  </tbody>\n",
       "</table>\n",
       "</div>"
      ],
      "text/plain": [
       "                                                text  toxic  \\\n",
       "0  Explanation\\nWhy the edits made under my usern...      0   \n",
       "1  D'aww! He matches this background colour I'm s...      0   \n",
       "2  Hey man, I'm really not trying to edit war. It...      0   \n",
       "3  \"\\nMore\\nI can't make any real suggestions on ...      0   \n",
       "4  You, sir, are my hero. Any chance you remember...      0   \n",
       "\n",
       "                                      processed_text  \n",
       "0  explanation   why the edit make under my usern...  \n",
       "1  d aww   he match this background colour i be s...  \n",
       "2  hey man   i be really not try to edit war   it...  \n",
       "3      more   i can not make any real suggestion ...  \n",
       "4  you   sir   be my hero   any chance you rememb...  "
      ]
     },
     "execution_count": 15,
     "metadata": {},
     "output_type": "execute_result"
    }
   ],
   "source": [
    "df.head()"
   ]
  },
  {
   "cell_type": "markdown",
   "metadata": {
    "id": "ebhyye5coMnZ"
   },
   "source": [
    "Исследуем различия токсичных и обычных комментариев, добавив признаки длины комментария, количества слов в нем и средней длины слов:"
   ]
  },
  {
   "cell_type": "code",
   "execution_count": 16,
   "metadata": {
    "colab": {
     "base_uri": "https://localhost:8080/",
     "height": 250
    },
    "id": "3oHNIg3XoMna",
    "outputId": "e5c0e89f-9d28-4458-98b0-c82b5a973ff0",
    "scrolled": true
   },
   "outputs": [
    {
     "data": {
      "text/html": [
       "<div>\n",
       "<style scoped>\n",
       "    .dataframe tbody tr th:only-of-type {\n",
       "        vertical-align: middle;\n",
       "    }\n",
       "\n",
       "    .dataframe tbody tr th {\n",
       "        vertical-align: top;\n",
       "    }\n",
       "\n",
       "    .dataframe thead th {\n",
       "        text-align: right;\n",
       "    }\n",
       "</style>\n",
       "<table border=\"1\" class=\"dataframe\">\n",
       "  <thead>\n",
       "    <tr style=\"text-align: right;\">\n",
       "      <th></th>\n",
       "      <th>text</th>\n",
       "      <th>toxic</th>\n",
       "      <th>processed_text</th>\n",
       "      <th>num_of_words</th>\n",
       "      <th>len_of_words</th>\n",
       "      <th>mean_len_of_words</th>\n",
       "    </tr>\n",
       "  </thead>\n",
       "  <tbody>\n",
       "    <tr>\n",
       "      <th>35538</th>\n",
       "      <td>What I find especially funny is that molecular...</td>\n",
       "      <td>0</td>\n",
       "      <td>what i find especially funny be that molecular...</td>\n",
       "      <td>74</td>\n",
       "      <td>477</td>\n",
       "      <td>5.243243</td>\n",
       "    </tr>\n",
       "    <tr>\n",
       "      <th>123363</th>\n",
       "      <td>however , i dispute vandalism claims, it was a...</td>\n",
       "      <td>0</td>\n",
       "      <td>however   i dispute vandalism claim   it be a ...</td>\n",
       "      <td>15</td>\n",
       "      <td>104</td>\n",
       "      <td>4.666667</td>\n",
       "    </tr>\n",
       "    <tr>\n",
       "      <th>18448</th>\n",
       "      <td>REDIRECT Talk:University of the Philippines Ce...</td>\n",
       "      <td>0</td>\n",
       "      <td>redirect talk   university of the philippines ...</td>\n",
       "      <td>8</td>\n",
       "      <td>58</td>\n",
       "      <td>6.125000</td>\n",
       "    </tr>\n",
       "    <tr>\n",
       "      <th>12075</th>\n",
       "      <td>Yes, Claire apparently had a problem with how ...</td>\n",
       "      <td>0</td>\n",
       "      <td>yes   claire apparently have a problem with ho...</td>\n",
       "      <td>30</td>\n",
       "      <td>177</td>\n",
       "      <td>3.933333</td>\n",
       "    </tr>\n",
       "    <tr>\n",
       "      <th>61878</th>\n",
       "      <td>\"\\n\\nHow is \"\"And You Will Know Us by the Trai...</td>\n",
       "      <td>0</td>\n",
       "      <td>how be     and you will know us by the tr...</td>\n",
       "      <td>26</td>\n",
       "      <td>154</td>\n",
       "      <td>4.000000</td>\n",
       "    </tr>\n",
       "  </tbody>\n",
       "</table>\n",
       "</div>"
      ],
      "text/plain": [
       "                                                     text  toxic  \\\n",
       "35538   What I find especially funny is that molecular...      0   \n",
       "123363  however , i dispute vandalism claims, it was a...      0   \n",
       "18448   REDIRECT Talk:University of the Philippines Ce...      0   \n",
       "12075   Yes, Claire apparently had a problem with how ...      0   \n",
       "61878   \"\\n\\nHow is \"\"And You Will Know Us by the Trai...      0   \n",
       "\n",
       "                                           processed_text  num_of_words  \\\n",
       "35538   what i find especially funny be that molecular...            74   \n",
       "123363  however   i dispute vandalism claim   it be a ...            15   \n",
       "18448   redirect talk   university of the philippines ...             8   \n",
       "12075   yes   claire apparently have a problem with ho...            30   \n",
       "61878        how be     and you will know us by the tr...            26   \n",
       "\n",
       "        len_of_words  mean_len_of_words  \n",
       "35538            477           5.243243  \n",
       "123363           104           4.666667  \n",
       "18448             58           6.125000  \n",
       "12075            177           3.933333  \n",
       "61878            154           4.000000  "
      ]
     },
     "execution_count": 16,
     "metadata": {},
     "output_type": "execute_result"
    }
   ],
   "source": [
    "df['num_of_words'] = df['processed_text'].apply(lambda x: len(x.split()))\n",
    "df['len_of_words'] = df['processed_text'].apply(lambda x: len(x))\n",
    "df['mean_len_of_words'] = df['processed_text'].apply(lambda x: sum(len(y) for y in x.split()) / len(x.split()) \n",
    "                                                     if len(x.split()) != 0 else len(x)) \n",
    "df.sample(5)"
   ]
  },
  {
   "cell_type": "code",
   "execution_count": 17,
   "metadata": {
    "colab": {
     "base_uri": "https://localhost:8080/",
     "height": 583
    },
    "id": "AHE--TVgoMna",
    "outputId": "1b768fac-3a49-42be-a728-bb6572911c78",
    "scrolled": false
   },
   "outputs": [
    {
     "data": {
      "text/html": [
       "<div>\n",
       "<style scoped>\n",
       "    .dataframe tbody tr th:only-of-type {\n",
       "        vertical-align: middle;\n",
       "    }\n",
       "\n",
       "    .dataframe tbody tr th {\n",
       "        vertical-align: top;\n",
       "    }\n",
       "\n",
       "    .dataframe thead th {\n",
       "        text-align: right;\n",
       "    }\n",
       "</style>\n",
       "<table border=\"1\" class=\"dataframe\">\n",
       "  <thead>\n",
       "    <tr style=\"text-align: right;\">\n",
       "      <th></th>\n",
       "      <th>toxic</th>\n",
       "      <th>num_of_words</th>\n",
       "      <th>len_of_words</th>\n",
       "      <th>mean_len_of_words</th>\n",
       "    </tr>\n",
       "  </thead>\n",
       "  <tbody>\n",
       "    <tr>\n",
       "      <th>count</th>\n",
       "      <td>16225.0</td>\n",
       "      <td>16225.000000</td>\n",
       "      <td>16225.000000</td>\n",
       "      <td>16225.000000</td>\n",
       "    </tr>\n",
       "    <tr>\n",
       "      <th>mean</th>\n",
       "      <td>1.0</td>\n",
       "      <td>54.273652</td>\n",
       "      <td>310.215840</td>\n",
       "      <td>4.316973</td>\n",
       "    </tr>\n",
       "    <tr>\n",
       "      <th>std</th>\n",
       "      <td>0.0</td>\n",
       "      <td>110.268176</td>\n",
       "      <td>643.891686</td>\n",
       "      <td>14.934271</td>\n",
       "    </tr>\n",
       "    <tr>\n",
       "      <th>min</th>\n",
       "      <td>1.0</td>\n",
       "      <td>2.000000</td>\n",
       "      <td>8.000000</td>\n",
       "      <td>1.000000</td>\n",
       "    </tr>\n",
       "    <tr>\n",
       "      <th>25%</th>\n",
       "      <td>1.0</td>\n",
       "      <td>11.000000</td>\n",
       "      <td>63.000000</td>\n",
       "      <td>3.620000</td>\n",
       "    </tr>\n",
       "    <tr>\n",
       "      <th>50%</th>\n",
       "      <td>1.0</td>\n",
       "      <td>23.000000</td>\n",
       "      <td>131.000000</td>\n",
       "      <td>3.972477</td>\n",
       "    </tr>\n",
       "    <tr>\n",
       "      <th>75%</th>\n",
       "      <td>1.0</td>\n",
       "      <td>51.000000</td>\n",
       "      <td>286.000000</td>\n",
       "      <td>4.333333</td>\n",
       "    </tr>\n",
       "    <tr>\n",
       "      <th>max</th>\n",
       "      <td>1.0</td>\n",
       "      <td>1403.000000</td>\n",
       "      <td>9912.000000</td>\n",
       "      <td>1240.000000</td>\n",
       "    </tr>\n",
       "  </tbody>\n",
       "</table>\n",
       "</div>"
      ],
      "text/plain": [
       "         toxic  num_of_words  len_of_words  mean_len_of_words\n",
       "count  16225.0  16225.000000  16225.000000       16225.000000\n",
       "mean       1.0     54.273652    310.215840           4.316973\n",
       "std        0.0    110.268176    643.891686          14.934271\n",
       "min        1.0      2.000000      8.000000           1.000000\n",
       "25%        1.0     11.000000     63.000000           3.620000\n",
       "50%        1.0     23.000000    131.000000           3.972477\n",
       "75%        1.0     51.000000    286.000000           4.333333\n",
       "max        1.0   1403.000000   9912.000000        1240.000000"
      ]
     },
     "metadata": {},
     "output_type": "display_data"
    },
    {
     "data": {
      "text/html": [
       "<div>\n",
       "<style scoped>\n",
       "    .dataframe tbody tr th:only-of-type {\n",
       "        vertical-align: middle;\n",
       "    }\n",
       "\n",
       "    .dataframe tbody tr th {\n",
       "        vertical-align: top;\n",
       "    }\n",
       "\n",
       "    .dataframe thead th {\n",
       "        text-align: right;\n",
       "    }\n",
       "</style>\n",
       "<table border=\"1\" class=\"dataframe\">\n",
       "  <thead>\n",
       "    <tr style=\"text-align: right;\">\n",
       "      <th></th>\n",
       "      <th>toxic</th>\n",
       "      <th>num_of_words</th>\n",
       "      <th>len_of_words</th>\n",
       "      <th>mean_len_of_words</th>\n",
       "    </tr>\n",
       "  </thead>\n",
       "  <tbody>\n",
       "    <tr>\n",
       "      <th>count</th>\n",
       "      <td>143346.0</td>\n",
       "      <td>143346.000000</td>\n",
       "      <td>143346.000000</td>\n",
       "      <td>143346.000000</td>\n",
       "    </tr>\n",
       "    <tr>\n",
       "      <th>mean</th>\n",
       "      <td>0.0</td>\n",
       "      <td>69.784424</td>\n",
       "      <td>409.204519</td>\n",
       "      <td>4.306887</td>\n",
       "    </tr>\n",
       "    <tr>\n",
       "      <th>std</th>\n",
       "      <td>0.0</td>\n",
       "      <td>99.778302</td>\n",
       "      <td>592.880780</td>\n",
       "      <td>2.036400</td>\n",
       "    </tr>\n",
       "    <tr>\n",
       "      <th>min</th>\n",
       "      <td>0.0</td>\n",
       "      <td>0.000000</td>\n",
       "      <td>6.000000</td>\n",
       "      <td>1.250000</td>\n",
       "    </tr>\n",
       "    <tr>\n",
       "      <th>25%</th>\n",
       "      <td>0.0</td>\n",
       "      <td>18.000000</td>\n",
       "      <td>104.000000</td>\n",
       "      <td>3.916667</td>\n",
       "    </tr>\n",
       "    <tr>\n",
       "      <th>50%</th>\n",
       "      <td>0.0</td>\n",
       "      <td>38.000000</td>\n",
       "      <td>219.000000</td>\n",
       "      <td>4.250000</td>\n",
       "    </tr>\n",
       "    <tr>\n",
       "      <th>75%</th>\n",
       "      <td>0.0</td>\n",
       "      <td>79.000000</td>\n",
       "      <td>457.000000</td>\n",
       "      <td>4.594845</td>\n",
       "    </tr>\n",
       "    <tr>\n",
       "      <th>max</th>\n",
       "      <td>0.0</td>\n",
       "      <td>1250.000000</td>\n",
       "      <td>7831.000000</td>\n",
       "      <td>708.571429</td>\n",
       "    </tr>\n",
       "  </tbody>\n",
       "</table>\n",
       "</div>"
      ],
      "text/plain": [
       "          toxic   num_of_words   len_of_words  mean_len_of_words\n",
       "count  143346.0  143346.000000  143346.000000      143346.000000\n",
       "mean        0.0      69.784424     409.204519           4.306887\n",
       "std         0.0      99.778302     592.880780           2.036400\n",
       "min         0.0       0.000000       6.000000           1.250000\n",
       "25%         0.0      18.000000     104.000000           3.916667\n",
       "50%         0.0      38.000000     219.000000           4.250000\n",
       "75%         0.0      79.000000     457.000000           4.594845\n",
       "max         0.0    1250.000000    7831.000000         708.571429"
      ]
     },
     "execution_count": 17,
     "metadata": {},
     "output_type": "execute_result"
    }
   ],
   "source": [
    "display(df[df['toxic'] == 1].describe())\n",
    "df[df['toxic'] == 0].describe()"
   ]
  },
  {
   "cell_type": "markdown",
   "metadata": {
    "id": "5Tb4PulQoMnb"
   },
   "source": [
    "В токсичных комментариях в среднем меньше слов, а сами комментарии короче, средняя длина слов примерно одинакова. "
   ]
  },
  {
   "cell_type": "markdown",
   "metadata": {
    "id": "36rYPAnuoMnb"
   },
   "source": [
    "Разделим данные на тренировочную и тестовую части:"
   ]
  },
  {
   "cell_type": "code",
   "execution_count": 18,
   "metadata": {
    "colab": {
     "base_uri": "https://localhost:8080/"
    },
    "id": "OI3GIgdooMnb",
    "outputId": "d7b67369-3940-489c-ceef-81aa4c7d7d2d",
    "scrolled": false
   },
   "outputs": [
    {
     "data": {
      "text/plain": [
       "((119678,), (39893,))"
      ]
     },
     "execution_count": 18,
     "metadata": {},
     "output_type": "execute_result"
    }
   ],
   "source": [
    "features = df['processed_text']\n",
    "target = df['toxic']\n",
    "features_train, features_test, target_train, target_test = train_test_split(\n",
    "    features, target, test_size=0.25, random_state=12345, stratify=target)\n",
    "\n",
    "features_grid = features_train.copy()\n",
    "target_grid = target_train.copy()\n",
    "features_train.shape, features_test.shape"
   ]
  },
  {
   "cell_type": "markdown",
   "metadata": {
    "id": "jVuhhX7_oMnc"
   },
   "source": [
    "**Вывод**\n",
    "\n",
    "Данные токенизированы и лемматизированы, очищены от лишних символов, подготовлены к векторизации и обучению."
   ]
  },
  {
   "cell_type": "markdown",
   "metadata": {
    "id": "FFTbOF6VoMnc"
   },
   "source": [
    "## Обучение"
   ]
  },
  {
   "cell_type": "markdown",
   "metadata": {
    "id": "GlVA_sfqoMnd"
   },
   "source": [
    "Найдем лучшие параметры для совокупности `TfidfVectorizer()` и `LogisticRegression()`:"
   ]
  },
  {
   "cell_type": "code",
   "execution_count": 19,
   "metadata": {
    "colab": {
     "base_uri": "https://localhost:8080/"
    },
    "id": "K_Q2QPoPoMnd",
    "outputId": "1b0bff97-3c70-4397-c9fd-dffb19cb7d88",
    "scrolled": true
   },
   "outputs": [
    {
     "name": "stderr",
     "output_type": "stream",
     "text": [
      "[nltk_data] Downloading package stopwords to\n",
      "[nltk_data]     C:\\Users\\ekate\\AppData\\Roaming\\nltk_data...\n",
      "[nltk_data]   Package stopwords is already up-to-date!\n"
     ]
    },
    {
     "name": "stdout",
     "output_type": "stream",
     "text": [
      "Wall time: 11min 56s\n"
     ]
    },
    {
     "data": {
      "text/plain": [
       "({'clf__C': 20,\n",
       "  'clf__max_iter': 500,\n",
       "  'vect__max_df': 0.5,\n",
       "  'vect__max_features': None},\n",
       " 0.7693408570207912)"
      ]
     },
     "execution_count": 19,
     "metadata": {},
     "output_type": "execute_result"
    }
   ],
   "source": [
    "%%time\n",
    "nltk.download('stopwords')\n",
    "stopwords = set(nltk_stopwords.words('english'))\n",
    "\n",
    "lr_pipe = Pipeline([('vect', TfidfVectorizer(stop_words=stopwords)), ('clf', LogisticRegression(random_state=1703))])\n",
    "params = {'vect__max_df' : [0.5, 1],\n",
    "          'vect__max_features': (None, 1000, 5000),\n",
    "          'clf__C': [20, 40],\n",
    "          'clf__max_iter' : [500, 1000]}\n",
    "lr_grid = GridSearchCV(estimator=lr_pipe, param_grid=params, cv=3, scoring='f1')\n",
    "lr_grid.fit(features_grid, target_grid)\n",
    "\n",
    "scores = []\n",
    "scores.append(lr_grid.best_score_)\n",
    "lr_grid.best_params_, lr_grid.best_score_"
   ]
  },
  {
   "cell_type": "markdown",
   "metadata": {
    "id": "CAZ0sy3AoMnd"
   },
   "source": [
    "Найдем лучшие параметры для совокупности `TfidfVectorizer()` и `DecisionTreeClassifier()`:"
   ]
  },
  {
   "cell_type": "code",
   "execution_count": 20,
   "metadata": {
    "colab": {
     "base_uri": "https://localhost:8080/"
    },
    "id": "AM40gmK8oMne",
    "outputId": "b0d9697e-3b95-4755-cb59-e6143433f76c"
   },
   "outputs": [
    {
     "name": "stdout",
     "output_type": "stream",
     "text": [
      "Wall time: 5min 20s\n"
     ]
    },
    {
     "data": {
      "text/plain": [
       "({'clf__max_depth': 10, 'vect__max_df': 0.5, 'vect__max_features': None},\n",
       " 0.596594900136357)"
      ]
     },
     "execution_count": 20,
     "metadata": {},
     "output_type": "execute_result"
    }
   ],
   "source": [
    "%%time\n",
    "\n",
    "dtc_pipe = Pipeline([('vect', TfidfVectorizer(stop_words=stopwords)), ('clf', DecisionTreeClassifier(random_state=1703))])\n",
    "params = {'vect__max_df' : [0.5, 0.75],\n",
    "          'vect__max_features': (None, 500),\n",
    "          'clf__max_depth': [3, 7, 10]}\n",
    "dtc_grid = GridSearchCV(estimator=dtc_pipe, param_grid=params, cv=3, scoring='f1')\n",
    "dtc_grid.fit(features_grid, target_grid)\n",
    "\n",
    "scores.append(dtc_grid.best_score_)\n",
    "dtc_grid.best_params_, dtc_grid.best_score_"
   ]
  },
  {
   "cell_type": "markdown",
   "metadata": {
    "id": "klQ1W_YgoMne"
   },
   "source": [
    "Найдем предсказания с помощью `CatBoostClassifier()`, предварительно векторизуем данные:"
   ]
  },
  {
   "cell_type": "code",
   "execution_count": 21,
   "metadata": {
    "id": "u8KyicP78knL"
   },
   "outputs": [],
   "source": [
    "vectorizer = TfidfVectorizer(max_df=0.5, stop_words=stopwords)\n",
    "features_grid_train = vectorizer.fit_transform(features_train)\n",
    "features_grid_test = vectorizer.transform(features_test)"
   ]
  },
  {
   "cell_type": "code",
   "execution_count": 22,
   "metadata": {
    "colab": {
     "base_uri": "https://localhost:8080/"
    },
    "id": "eEaqyy7z7HZy",
    "outputId": "9e23b138-3105-4838-c5f6-2bc177c4f545"
   },
   "outputs": [
    {
     "name": "stdout",
     "output_type": "stream",
     "text": [
      "Learning rate set to 0.079478\n",
      "0:\tlearn: 0.6095716\ttotal: 1.15s\tremaining: 19m 13s\n",
      "200:\tlearn: 0.1506600\ttotal: 2m 54s\tremaining: 11m 32s\n",
      "400:\tlearn: 0.1297076\ttotal: 5m 45s\tremaining: 8m 35s\n",
      "600:\tlearn: 0.1185357\ttotal: 8m 39s\tremaining: 5m 45s\n",
      "800:\tlearn: 0.1103563\ttotal: 11m 40s\tremaining: 2m 53s\n",
      "999:\tlearn: 0.1039706\ttotal: 14m 39s\tremaining: 0us\n",
      "Wall time: 14min 48s\n"
     ]
    }
   ],
   "source": [
    "%%time\n",
    "cbc_model = CatBoostClassifier(verbose=200, random_state=1703)\n",
    "cbc_model.fit(features_grid_train, target_train)\n",
    "cbc_pred = cbc_model.predict(features_grid_test)\n",
    "scores.append(f1_score(target_test, cbc_pred))"
   ]
  },
  {
   "cell_type": "markdown",
   "metadata": {
    "id": "nLYyMk74oMnf"
   },
   "source": [
    "Проанализируем получившиеся результаты:"
   ]
  },
  {
   "cell_type": "code",
   "execution_count": 23,
   "metadata": {
    "colab": {
     "base_uri": "https://localhost:8080/",
     "height": 493
    },
    "id": "An09AulFoMnf",
    "outputId": "d62fbba9-36d0-4e40-eaca-3f7f4a78daea"
   },
   "outputs": [
    {
     "data": {
      "text/html": [
       "<div>\n",
       "<style scoped>\n",
       "    .dataframe tbody tr th:only-of-type {\n",
       "        vertical-align: middle;\n",
       "    }\n",
       "\n",
       "    .dataframe tbody tr th {\n",
       "        vertical-align: top;\n",
       "    }\n",
       "\n",
       "    .dataframe thead th {\n",
       "        text-align: right;\n",
       "    }\n",
       "</style>\n",
       "<table border=\"1\" class=\"dataframe\">\n",
       "  <thead>\n",
       "    <tr style=\"text-align: right;\">\n",
       "      <th></th>\n",
       "      <th>F1</th>\n",
       "    </tr>\n",
       "  </thead>\n",
       "  <tbody>\n",
       "    <tr>\n",
       "      <th>LogisticRegressor</th>\n",
       "      <td>0.769341</td>\n",
       "    </tr>\n",
       "    <tr>\n",
       "      <th>DesicionTreeClassifier</th>\n",
       "      <td>0.596595</td>\n",
       "    </tr>\n",
       "    <tr>\n",
       "      <th>CatBoostClassifier</th>\n",
       "      <td>0.759147</td>\n",
       "    </tr>\n",
       "  </tbody>\n",
       "</table>\n",
       "</div>"
      ],
      "text/plain": [
       "                              F1\n",
       "LogisticRegressor       0.769341\n",
       "DesicionTreeClassifier  0.596595\n",
       "CatBoostClassifier      0.759147"
      ]
     },
     "metadata": {},
     "output_type": "display_data"
    },
    {
     "data": {
      "image/png": "[encoded data removed]",
      "text/plain": [
       "<Figure size 432x288 with 1 Axes>"
      ]
     },
     "metadata": {
      "needs_background": "light"
     },
     "output_type": "display_data"
    }
   ],
   "source": [
    "result = pd.DataFrame(scores, columns=['F1'],\n",
    "                        index=['LogisticRegressor', 'DesicionTreeClassifier', 'CatBoostClassifier'])\n",
    "result['F1'].plot(kind='bar', figsize=(6, 4))\n",
    "display(result)"
   ]
  },
  {
   "cell_type": "markdown",
   "metadata": {
    "id": "jzg6epCcoMnf"
   },
   "source": [
    "**Вывод**\n",
    "\n",
    "Модели обучены, получено нужное значение метрики F1, лучших результатов достигла модель логистической регрессии, выберем ее в качестве финальной."
   ]
  },
  {
   "cell_type": "markdown",
   "metadata": {
    "id": "6H5-GgV4oMng"
   },
   "source": [
    "## Выводы"
   ]
  },
  {
   "cell_type": "markdown",
   "metadata": {
    "id": "400Vl1oNoMng"
   },
   "source": [
    "Проведем финальное тестирование модели логистической регрессии:"
   ]
  },
  {
   "cell_type": "code",
   "execution_count": 24,
   "metadata": {
    "colab": {
     "base_uri": "https://localhost:8080/"
    },
    "id": "Pw3zTjY-oMng",
    "outputId": "c61901b9-4fa7-430e-f73b-669f100684e2"
   },
   "outputs": [
    {
     "name": "stdout",
     "output_type": "stream",
     "text": [
      "Итоговый результат:  0.7829171783326512\n"
     ]
    }
   ],
   "source": [
    "final_predictions = lr_grid.best_estimator_.predict(features_test)\n",
    "print('Итоговый результат: ', f1_score(target_test, final_predictions))"
   ]
  },
  {
   "cell_type": "markdown",
   "metadata": {
    "id": "RbZC2i07oMng"
   },
   "source": [
    "Лучший результат классификации комментариев показала модель логистической регрессии с F1 равным 0,785 на тестовой выборке, кроме того, эта модель обучается и предсказывает гораздо быстрее CatBoostClassifier. Выяснилось, что токсичные комментарии отличаются меньшей длиной и меньшим количеством слов. "
   ]
  },
  {
   "cell_type": "markdown",
   "metadata": {
    "id": "XKALK5kgoMng"
   },
   "source": [
    "В ходе работы выполнено следующее:\n",
    "* проанализированы исходные данные, выявлено следующее: в данных отсутствуют пропуски и дубликаты, баланс классов не соблюдается - токсичных комментариев примерно в 9 раз меньше. \n",
    "* выявлены различия токсичных и нейтральных комментариваев: в токсичных комментариях в среднем меньше слов, а сами комментарии короче;\n",
    "* выполнена подготовка данных для модели, включающую в себя:\n",
    "    * токенизацию; \n",
    "    * лемматизацию;\n",
    "    * очистку от лишних символов\n",
    "    * векторизацию;\n",
    "* подобраны гиперпараметры и обучены следующие модели:\n",
    "    * модель логистической регрессии с метрикой F1 на валидационной выборке, равной 0,77;\n",
    "    * модель решающего дерева с F1 = 0,598;\n",
    "    * модель CatBoostClassifier с F1 = 0,76.\n",
    "    \n",
    "Лучший результат классификации комментариев показала модель логистической регрессии с F1 на тестовой выборке равным **0,785** на тестовой выборке, кроме того, эта модель обучается и предсказывает гораздо быстрее CatBoostClassifier."
   ]
  }
 ],
 "metadata": {
  "ExecuteTimeLog": [
   {
    "duration": 0,
    "start_time": "2022-08-16T22:12:12.210Z"
   },
   {
    "duration": 3,
    "start_time": "2022-08-16T22:12:18.888Z"
   },
   {
    "duration": 773,
    "start_time": "2022-08-16T22:12:19.602Z"
   },
   {
    "duration": 33,
    "start_time": "2022-08-16T22:12:24.107Z"
   },
   {
    "duration": 0,
    "start_time": "2022-08-16T22:12:52.317Z"
   },
   {
    "duration": 0,
    "start_time": "2022-08-16T22:12:52.320Z"
   },
   {
    "duration": 128,
    "start_time": "2022-08-16T22:13:16.000Z"
   },
   {
    "duration": 207,
    "start_time": "2022-08-16T22:13:18.343Z"
   },
   {
    "duration": 7,
    "start_time": "2022-08-16T22:13:31.052Z"
   },
   {
    "duration": 112,
    "start_time": "2022-08-16T22:13:40.181Z"
   },
   {
    "duration": 215,
    "start_time": "2022-08-16T22:24:08.670Z"
   },
   {
    "duration": 2,
    "start_time": "2022-08-16T22:24:18.024Z"
   },
   {
    "duration": 1223,
    "start_time": "2022-08-16T22:24:19.059Z"
   },
   {
    "duration": 11,
    "start_time": "2022-08-16T22:24:25.558Z"
   },
   {
    "duration": 794,
    "start_time": "2022-08-16T22:24:59.471Z"
   },
   {
    "duration": 1852,
    "start_time": "2022-08-16T22:25:03.074Z"
   },
   {
    "duration": 11,
    "start_time": "2022-08-16T22:25:07.138Z"
   },
   {
    "duration": 1489,
    "start_time": "2022-08-16T22:25:35.743Z"
   },
   {
    "duration": 10,
    "start_time": "2022-08-16T22:25:37.793Z"
   },
   {
    "duration": 264,
    "start_time": "2022-08-16T22:32:43.141Z"
   },
   {
    "duration": 268,
    "start_time": "2022-08-16T22:33:02.921Z"
   },
   {
    "duration": 1509,
    "start_time": "2022-08-16T22:33:14.956Z"
   },
   {
    "duration": 12,
    "start_time": "2022-08-16T22:33:17.062Z"
   },
   {
    "duration": 272,
    "start_time": "2022-08-16T22:33:49.915Z"
   },
   {
    "duration": 1896,
    "start_time": "2022-08-16T22:34:02.673Z"
   },
   {
    "duration": 21,
    "start_time": "2022-08-16T22:34:05.792Z"
   },
   {
    "duration": 103,
    "start_time": "2022-08-16T22:34:08.873Z"
   },
   {
    "duration": 1481,
    "start_time": "2022-08-17T09:44:58.064Z"
   },
   {
    "duration": 2025,
    "start_time": "2022-08-17T09:45:05.988Z"
   },
   {
    "duration": 1207,
    "start_time": "2022-08-17T09:45:35.524Z"
   },
   {
    "duration": 783,
    "start_time": "2022-08-17T09:45:37.304Z"
   },
   {
    "duration": 3,
    "start_time": "2022-08-17T09:46:07.463Z"
   },
   {
    "duration": 2,
    "start_time": "2022-08-17T09:46:20.760Z"
   },
   {
    "duration": 12,
    "start_time": "2022-08-17T09:46:37.387Z"
   },
   {
    "duration": 3,
    "start_time": "2022-08-17T09:53:22.906Z"
   },
   {
    "duration": 6744,
    "start_time": "2022-08-17T09:55:13.681Z"
   },
   {
    "duration": 2,
    "start_time": "2022-08-17T09:55:33.251Z"
   },
   {
    "duration": 6,
    "start_time": "2022-08-17T09:55:39.336Z"
   },
   {
    "duration": 9,
    "start_time": "2022-08-17T09:55:46.359Z"
   },
   {
    "duration": 252,
    "start_time": "2022-08-17T09:56:20.621Z"
   },
   {
    "duration": 1091,
    "start_time": "2022-08-17T09:57:43.483Z"
   },
   {
    "duration": 7,
    "start_time": "2022-08-17T09:57:46.845Z"
   },
   {
    "duration": 269,
    "start_time": "2022-08-17T09:58:21.656Z"
   },
   {
    "duration": 7,
    "start_time": "2022-08-17T09:58:29.522Z"
   },
   {
    "duration": 6,
    "start_time": "2022-08-17T09:58:32.131Z"
   },
   {
    "duration": 1256,
    "start_time": "2022-08-17T09:59:04.939Z"
   },
   {
    "duration": 835,
    "start_time": "2022-08-17T09:59:08.176Z"
   },
   {
    "duration": 18,
    "start_time": "2022-08-17T09:59:09.937Z"
   },
   {
    "duration": 3,
    "start_time": "2022-08-17T09:59:14.027Z"
   },
   {
    "duration": 2,
    "start_time": "2022-08-17T09:59:15.724Z"
   },
   {
    "duration": 1220,
    "start_time": "2022-08-17T09:59:18.183Z"
   },
   {
    "duration": 6,
    "start_time": "2022-08-17T09:59:19.405Z"
   },
   {
    "duration": 5,
    "start_time": "2022-08-17T09:59:26.955Z"
   },
   {
    "duration": 8,
    "start_time": "2022-08-17T09:59:33.152Z"
   },
   {
    "duration": 4,
    "start_time": "2022-08-17T09:59:59.661Z"
   },
   {
    "duration": 8,
    "start_time": "2022-08-17T10:00:00.452Z"
   },
   {
    "duration": 4,
    "start_time": "2022-08-17T10:00:03.853Z"
   },
   {
    "duration": 7,
    "start_time": "2022-08-17T10:00:04.467Z"
   },
   {
    "duration": 5,
    "start_time": "2022-08-17T10:00:15.450Z"
   },
   {
    "duration": 7,
    "start_time": "2022-08-17T10:00:17.599Z"
   },
   {
    "duration": 5,
    "start_time": "2022-08-17T10:00:35.013Z"
   },
   {
    "duration": 8,
    "start_time": "2022-08-17T10:00:40.181Z"
   },
   {
    "duration": 4,
    "start_time": "2022-08-17T10:01:11.168Z"
   },
   {
    "duration": 7,
    "start_time": "2022-08-17T10:01:11.813Z"
   },
   {
    "duration": 3,
    "start_time": "2022-08-17T10:02:58.283Z"
   },
   {
    "duration": 3,
    "start_time": "2022-08-17T10:03:34.096Z"
   },
   {
    "duration": 2,
    "start_time": "2022-08-17T10:03:34.709Z"
   },
   {
    "duration": 8,
    "start_time": "2022-08-17T10:03:35.263Z"
   },
   {
    "duration": 7,
    "start_time": "2022-08-17T10:03:36.952Z"
   },
   {
    "duration": 122,
    "start_time": "2022-08-17T10:03:38.355Z"
   },
   {
    "duration": 5,
    "start_time": "2022-08-17T10:03:47.634Z"
   },
   {
    "duration": 7,
    "start_time": "2022-08-17T10:04:21.054Z"
   },
   {
    "duration": 7,
    "start_time": "2022-08-17T10:04:23.525Z"
   },
   {
    "duration": 1261,
    "start_time": "2022-08-17T10:04:41.125Z"
   },
   {
    "duration": 821,
    "start_time": "2022-08-17T10:04:43.481Z"
   },
   {
    "duration": 11,
    "start_time": "2022-08-17T10:04:44.304Z"
   },
   {
    "duration": 3,
    "start_time": "2022-08-17T10:04:47.094Z"
   },
   {
    "duration": 2,
    "start_time": "2022-08-17T10:04:52.144Z"
   },
   {
    "duration": 407,
    "start_time": "2022-08-17T10:06:04.209Z"
   },
   {
    "duration": 1108,
    "start_time": "2022-08-17T10:06:19.337Z"
   },
   {
    "duration": 8,
    "start_time": "2022-08-17T10:06:23.721Z"
   },
   {
    "duration": 363,
    "start_time": "2022-08-17T10:08:23.647Z"
   },
   {
    "duration": 3,
    "start_time": "2022-08-17T10:08:48.214Z"
   },
   {
    "duration": 221,
    "start_time": "2022-08-17T10:08:50.430Z"
   },
   {
    "duration": 2,
    "start_time": "2022-08-17T10:09:10.894Z"
   },
   {
    "duration": 3,
    "start_time": "2022-08-17T10:09:14.591Z"
   },
   {
    "duration": 365,
    "start_time": "2022-08-17T10:09:15.235Z"
   },
   {
    "duration": 139,
    "start_time": "2022-08-17T10:09:22.656Z"
   },
   {
    "duration": 8,
    "start_time": "2022-08-17T10:09:27.639Z"
   },
   {
    "duration": 246,
    "start_time": "2022-08-17T10:09:28.351Z"
   },
   {
    "duration": 252,
    "start_time": "2022-08-17T10:10:33.132Z"
   },
   {
    "duration": 6,
    "start_time": "2022-08-17T10:10:39.939Z"
   },
   {
    "duration": 124,
    "start_time": "2022-08-17T10:10:40.548Z"
   },
   {
    "duration": 7,
    "start_time": "2022-08-17T10:10:45.494Z"
   },
   {
    "duration": 2624,
    "start_time": "2022-08-17T10:14:00.470Z"
   },
   {
    "duration": 62,
    "start_time": "2022-08-17T10:14:15.443Z"
   },
   {
    "duration": 12,
    "start_time": "2022-08-17T10:14:31.782Z"
   },
   {
    "duration": 23325,
    "start_time": "2022-08-17T10:16:18.726Z"
   },
   {
    "duration": 58,
    "start_time": "2022-08-17T10:20:59.804Z"
   },
   {
    "duration": 1968,
    "start_time": "2022-08-17T10:21:04.191Z"
   },
   {
    "duration": 58,
    "start_time": "2022-08-17T10:21:13.453Z"
   },
   {
    "duration": 56,
    "start_time": "2022-08-17T10:21:26.034Z"
   },
   {
    "duration": 54,
    "start_time": "2022-08-17T10:21:38.815Z"
   },
   {
    "duration": 52,
    "start_time": "2022-08-17T10:22:15.603Z"
   },
   {
    "duration": 49912,
    "start_time": "2022-08-17T10:23:59.684Z"
   },
   {
    "duration": 57542,
    "start_time": "2022-08-17T10:25:15.477Z"
   },
   {
    "duration": 580,
    "start_time": "2022-08-17T10:27:17.875Z"
   },
   {
    "duration": 47,
    "start_time": "2022-08-17T10:27:32.360Z"
   },
   {
    "duration": 17,
    "start_time": "2022-08-17T10:28:42.532Z"
   },
   {
    "duration": 746,
    "start_time": "2022-08-17T10:28:48.296Z"
   },
   {
    "duration": 798,
    "start_time": "2022-08-17T10:28:49.481Z"
   },
   {
    "duration": 3,
    "start_time": "2022-08-17T10:28:56.782Z"
   },
   {
    "duration": 2035,
    "start_time": "2022-08-17T10:29:01.282Z"
   },
   {
    "duration": 9,
    "start_time": "2022-08-17T10:29:06.451Z"
   },
   {
    "duration": 3,
    "start_time": "2022-08-17T10:29:16.430Z"
   },
   {
    "duration": 365,
    "start_time": "2022-08-17T10:29:16.890Z"
   },
   {
    "duration": 6,
    "start_time": "2022-08-17T10:30:02.656Z"
   },
   {
    "duration": 3,
    "start_time": "2022-08-17T10:30:09.689Z"
   },
   {
    "duration": 400,
    "start_time": "2022-08-17T10:30:10.491Z"
   },
   {
    "duration": 4,
    "start_time": "2022-08-17T10:30:34.067Z"
   },
   {
    "duration": 4,
    "start_time": "2022-08-17T10:30:38.396Z"
   },
   {
    "duration": 1428,
    "start_time": "2022-08-17T10:30:38.945Z"
   },
   {
    "duration": 7,
    "start_time": "2022-08-17T10:30:44.076Z"
   },
   {
    "duration": 1981,
    "start_time": "2022-08-17T10:32:00.543Z"
   },
   {
    "duration": 7,
    "start_time": "2022-08-17T10:32:07.125Z"
   },
   {
    "duration": 2219,
    "start_time": "2022-08-17T10:34:04.547Z"
   },
   {
    "duration": 8,
    "start_time": "2022-08-17T10:34:08.916Z"
   },
   {
    "duration": 1231,
    "start_time": "2022-08-17T10:41:22.318Z"
   },
   {
    "duration": 780,
    "start_time": "2022-08-17T10:41:25.031Z"
   },
   {
    "duration": 3,
    "start_time": "2022-08-17T10:41:29.185Z"
   },
   {
    "duration": 3,
    "start_time": "2022-08-17T10:41:30.614Z"
   },
   {
    "duration": 1244,
    "start_time": "2022-08-17T10:41:32.843Z"
   },
   {
    "duration": 59454,
    "start_time": "2022-08-17T10:41:55.134Z"
   },
   {
    "duration": 17,
    "start_time": "2022-08-17T10:42:57.616Z"
   },
   {
    "duration": 2322,
    "start_time": "2022-08-17T10:43:01.507Z"
   },
   {
    "duration": 10,
    "start_time": "2022-08-17T10:43:04.799Z"
   },
   {
    "duration": 51350,
    "start_time": "2022-08-17T10:57:08.352Z"
   },
   {
    "duration": 727,
    "start_time": "2022-08-17T10:57:59.704Z"
   },
   {
    "duration": 16,
    "start_time": "2022-08-17T10:58:00.433Z"
   },
   {
    "duration": 58,
    "start_time": "2022-08-17T10:58:00.451Z"
   },
   {
    "duration": 467,
    "start_time": "2022-08-17T10:58:00.510Z"
   },
   {
    "duration": 237,
    "start_time": "2022-08-17T10:58:00.979Z"
   },
   {
    "duration": 4,
    "start_time": "2022-08-17T10:58:19.849Z"
   },
   {
    "duration": 8865,
    "start_time": "2022-08-17T10:58:51.852Z"
   },
   {
    "duration": 8,
    "start_time": "2022-08-17T11:00:41.456Z"
   },
   {
    "duration": 9709,
    "start_time": "2022-08-17T11:07:50.787Z"
   },
   {
    "duration": 8,
    "start_time": "2022-08-17T11:08:10.306Z"
   },
   {
    "duration": 4,
    "start_time": "2022-08-17T11:08:18.051Z"
   },
   {
    "duration": 9529,
    "start_time": "2022-08-17T11:08:22.307Z"
   },
   {
    "duration": 10,
    "start_time": "2022-08-17T11:08:31.838Z"
   },
   {
    "duration": 9205,
    "start_time": "2022-08-17T11:12:37.196Z"
   },
   {
    "duration": 8,
    "start_time": "2022-08-17T11:12:46.402Z"
   },
   {
    "duration": 1422,
    "start_time": "2022-08-17T11:15:45.811Z"
   },
   {
    "duration": 1092,
    "start_time": "2022-08-17T11:16:02.146Z"
   },
   {
    "duration": 9534,
    "start_time": "2022-08-17T11:16:17.139Z"
   },
   {
    "duration": 10,
    "start_time": "2022-08-17T11:16:26.676Z"
   },
   {
    "duration": 39,
    "start_time": "2022-08-17T11:16:26.687Z"
   },
   {
    "duration": 229,
    "start_time": "2022-08-17T11:16:59.296Z"
   },
   {
    "duration": 5,
    "start_time": "2022-08-17T11:17:03.288Z"
   },
   {
    "duration": 186,
    "start_time": "2022-08-17T11:17:21.626Z"
   },
   {
    "duration": 383,
    "start_time": "2022-08-17T11:17:25.040Z"
   },
   {
    "duration": 3,
    "start_time": "2022-08-17T11:17:44.698Z"
   },
   {
    "duration": 24,
    "start_time": "2022-08-17T11:17:49.467Z"
   },
   {
    "duration": 3,
    "start_time": "2022-08-17T11:18:02.791Z"
   },
   {
    "duration": 9,
    "start_time": "2022-08-17T11:18:05.916Z"
   },
   {
    "duration": 4,
    "start_time": "2022-08-17T11:18:13.033Z"
   },
   {
    "duration": 3,
    "start_time": "2022-08-17T12:15:09.601Z"
   },
   {
    "duration": 16,
    "start_time": "2022-08-17T12:15:13.600Z"
   },
   {
    "duration": 9,
    "start_time": "2022-08-17T12:15:18.843Z"
   },
   {
    "duration": 3,
    "start_time": "2022-08-17T12:20:08.944Z"
   },
   {
    "duration": 227,
    "start_time": "2022-08-17T12:20:39.011Z"
   },
   {
    "duration": 58854,
    "start_time": "2022-08-17T12:21:25.733Z"
   },
   {
    "duration": 749,
    "start_time": "2022-08-17T12:22:24.589Z"
   },
   {
    "duration": 3,
    "start_time": "2022-08-17T12:22:25.340Z"
   },
   {
    "duration": 780,
    "start_time": "2022-08-17T12:22:25.349Z"
   },
   {
    "duration": 2,
    "start_time": "2022-08-17T12:22:26.131Z"
   },
   {
    "duration": 9396,
    "start_time": "2022-08-17T12:22:26.135Z"
   },
   {
    "duration": 18,
    "start_time": "2022-08-17T12:22:35.533Z"
   },
   {
    "duration": 14,
    "start_time": "2022-08-17T12:22:35.553Z"
   },
   {
    "duration": 166,
    "start_time": "2022-08-17T12:22:35.568Z"
   },
   {
    "duration": 9,
    "start_time": "2022-08-17T12:23:30.380Z"
   },
   {
    "duration": 4,
    "start_time": "2022-08-17T12:23:45.719Z"
   },
   {
    "duration": 2,
    "start_time": "2022-08-17T12:24:37.810Z"
   },
   {
    "duration": 458337,
    "start_time": "2022-08-17T12:24:39.473Z"
   },
   {
    "duration": 7,
    "start_time": "2022-08-17T12:32:17.813Z"
   },
   {
    "duration": 9,
    "start_time": "2022-08-17T12:32:17.822Z"
   },
   {
    "duration": 106,
    "start_time": "2022-08-17T12:32:17.839Z"
   },
   {
    "duration": 53,
    "start_time": "2022-08-17T12:32:17.946Z"
   },
   {
    "duration": 9,
    "start_time": "2022-08-17T12:33:13.307Z"
   },
   {
    "duration": 6,
    "start_time": "2022-08-17T12:33:15.746Z"
   },
   {
    "duration": 87,
    "start_time": "2022-08-17T12:33:18.386Z"
   },
   {
    "duration": 47,
    "start_time": "2022-08-17T12:33:20.883Z"
   },
   {
    "duration": 63,
    "start_time": "2022-08-17T12:33:32.324Z"
   },
   {
    "duration": 30,
    "start_time": "2022-08-17T12:33:43.712Z"
   },
   {
    "duration": 3,
    "start_time": "2022-08-17T12:33:44.915Z"
   },
   {
    "duration": 37,
    "start_time": "2022-08-17T12:35:01.657Z"
   },
   {
    "duration": 4,
    "start_time": "2022-08-17T12:35:02.445Z"
   },
   {
    "duration": 33,
    "start_time": "2022-08-17T12:35:05.826Z"
   },
   {
    "duration": 5,
    "start_time": "2022-08-17T12:35:06.949Z"
   },
   {
    "duration": 8,
    "start_time": "2022-08-17T12:35:41.796Z"
   },
   {
    "duration": 3591966,
    "start_time": "2022-08-17T12:35:59.811Z"
   },
   {
    "duration": 4,
    "start_time": "2022-08-17T13:35:55.757Z"
   },
   {
    "duration": 79340,
    "start_time": "2022-08-17T13:36:00.559Z"
   },
   {
    "duration": 3,
    "start_time": "2022-08-17T13:37:31.198Z"
   },
   {
    "duration": 2452,
    "start_time": "2022-08-17T13:37:34.285Z"
   },
   {
    "duration": 17132,
    "start_time": "2022-08-17T13:38:26.992Z"
   },
   {
    "duration": 3,
    "start_time": "2022-08-17T13:38:45.465Z"
   },
   {
    "duration": 50778,
    "start_time": "2022-08-17T13:38:46.534Z"
   },
   {
    "duration": 2330,
    "start_time": "2022-08-17T13:40:15.966Z"
   },
   {
    "duration": 5,
    "start_time": "2022-08-17T13:43:16.285Z"
   },
   {
    "duration": 11,
    "start_time": "2022-08-17T13:43:39.963Z"
   },
   {
    "duration": 11,
    "start_time": "2022-08-17T13:43:49.780Z"
   },
   {
    "duration": 12,
    "start_time": "2022-08-17T13:44:06.819Z"
   },
   {
    "duration": 10,
    "start_time": "2022-08-17T13:44:16.728Z"
   },
   {
    "duration": 2146,
    "start_time": "2022-08-17T13:45:15.673Z"
   },
   {
    "duration": 2113,
    "start_time": "2022-08-17T13:46:15.550Z"
   },
   {
    "duration": 2174,
    "start_time": "2022-08-17T13:46:54.497Z"
   },
   {
    "duration": 3,
    "start_time": "2022-08-17T13:46:58.137Z"
   },
   {
    "duration": 16269,
    "start_time": "2022-08-17T13:46:59.565Z"
   },
   {
    "duration": 2318145,
    "start_time": "2022-08-17T13:51:17.820Z"
   },
   {
    "duration": 8,
    "start_time": "2022-08-17T14:34:34.355Z"
   },
   {
    "duration": 29,
    "start_time": "2022-08-17T14:35:11.447Z"
   },
   {
    "duration": 10862,
    "start_time": "2022-08-17T14:35:17.616Z"
   },
   {
    "duration": 49673,
    "start_time": "2022-08-17T14:35:42.175Z"
   },
   {
    "duration": 4,
    "start_time": "2022-08-17T14:37:04.361Z"
   },
   {
    "duration": 50342,
    "start_time": "2022-08-17T14:40:01.996Z"
   },
   {
    "duration": 3,
    "start_time": "2022-08-17T14:41:01.231Z"
   },
   {
    "duration": 4,
    "start_time": "2022-08-17T14:41:04.463Z"
   },
   {
    "duration": 50587,
    "start_time": "2022-08-17T14:41:11.757Z"
   },
   {
    "duration": 4,
    "start_time": "2022-08-17T14:42:02.346Z"
   },
   {
    "duration": 48646,
    "start_time": "2022-08-17T14:42:37.103Z"
   },
   {
    "duration": 4,
    "start_time": "2022-08-17T14:43:25.751Z"
   },
   {
    "duration": 48114,
    "start_time": "2022-08-17T14:43:33.725Z"
   },
   {
    "duration": 5,
    "start_time": "2022-08-17T14:44:21.841Z"
   },
   {
    "duration": 5,
    "start_time": "2022-08-17T14:47:13.639Z"
   },
   {
    "duration": 4,
    "start_time": "2022-08-17T14:47:21.582Z"
   },
   {
    "duration": 2,
    "start_time": "2022-08-17T14:51:11.716Z"
   },
   {
    "duration": 67,
    "start_time": "2022-08-17T14:51:23.181Z"
   },
   {
    "duration": 27,
    "start_time": "2022-08-17T14:51:39.816Z"
   },
   {
    "duration": 73,
    "start_time": "2022-08-17T14:51:40.405Z"
   },
   {
    "duration": 3,
    "start_time": "2022-08-17T14:51:48.795Z"
   },
   {
    "duration": 77,
    "start_time": "2022-08-17T14:51:49.380Z"
   },
   {
    "duration": 3,
    "start_time": "2022-08-17T14:52:35.440Z"
   },
   {
    "duration": 10316384,
    "start_time": "2022-08-17T14:52:37.313Z"
   },
   {
    "duration": 3,
    "start_time": "2022-08-17T17:45:33.310Z"
   },
   {
    "duration": 3,
    "start_time": "2022-08-17T17:45:45.881Z"
   },
   {
    "duration": 527602,
    "start_time": "2022-08-17T17:45:49.667Z"
   },
   {
    "duration": 631884,
    "start_time": "2022-08-17T17:55:53.590Z"
   },
   {
    "duration": 46,
    "start_time": "2022-08-18T09:13:00.389Z"
   },
   {
    "duration": 93138,
    "start_time": "2022-08-18T09:13:11.026Z"
   },
   {
    "duration": 2741,
    "start_time": "2022-08-18T09:14:44.166Z"
   },
   {
    "duration": 15,
    "start_time": "2022-08-18T09:14:46.908Z"
   },
   {
    "duration": 38,
    "start_time": "2022-08-18T09:14:46.925Z"
   },
   {
    "duration": 657,
    "start_time": "2022-08-18T09:14:46.965Z"
   },
   {
    "duration": 286,
    "start_time": "2022-08-18T09:14:47.625Z"
   },
   {
    "duration": 3,
    "start_time": "2022-08-18T09:14:47.912Z"
   },
   {
    "duration": 2466658,
    "start_time": "2022-08-18T09:16:10.094Z"
   },
   {
    "duration": 9,
    "start_time": "2022-08-18T09:57:16.754Z"
   },
   {
    "duration": 9429,
    "start_time": "2022-08-18T10:22:12.120Z"
   },
   {
    "duration": 358,
    "start_time": "2022-08-18T10:23:27.416Z"
   },
   {
    "duration": 3003,
    "start_time": "2022-08-18T10:23:38.218Z"
   },
   {
    "duration": 14,
    "start_time": "2022-08-18T10:23:44.811Z"
   },
   {
    "duration": 6026,
    "start_time": "2022-08-18T10:24:24.228Z"
   },
   {
    "duration": 9,
    "start_time": "2022-08-18T10:24:34.808Z"
   },
   {
    "duration": 11,
    "start_time": "2022-08-18T10:24:39.867Z"
   },
   {
    "duration": 30,
    "start_time": "2022-08-18T10:24:51.646Z"
   },
   {
    "duration": 4,
    "start_time": "2022-08-18T10:25:07.727Z"
   },
   {
    "duration": 20,
    "start_time": "2022-08-18T10:25:18.013Z"
   },
   {
    "duration": 4,
    "start_time": "2022-08-18T10:25:30.222Z"
   },
   {
    "duration": 5,
    "start_time": "2022-08-18T10:25:43.256Z"
   },
   {
    "duration": 12102,
    "start_time": "2022-08-18T10:26:25.258Z"
   },
   {
    "duration": 50955,
    "start_time": "2022-08-18T10:26:37.362Z"
   },
   {
    "duration": 4,
    "start_time": "2022-08-18T10:28:24.471Z"
   },
   {
    "duration": 28,
    "start_time": "2022-08-18T10:29:02.503Z"
   },
   {
    "duration": 238136,
    "start_time": "2022-08-18T10:34:27.207Z"
   },
   {
    "duration": 3,
    "start_time": "2022-08-18T10:45:15.272Z"
   },
   {
    "duration": 705,
    "start_time": "2022-08-18T10:45:16.302Z"
   },
   {
    "duration": 11,
    "start_time": "2022-08-18T10:45:35.846Z"
   },
   {
    "duration": 4,
    "start_time": "2022-08-18T10:45:40.214Z"
   },
   {
    "duration": 4,
    "start_time": "2022-08-18T10:45:54.515Z"
   },
   {
    "duration": 149063,
    "start_time": "2022-08-18T10:46:11.613Z"
   },
   {
    "duration": 23,
    "start_time": "2022-08-18T10:48:40.678Z"
   },
   {
    "duration": 728,
    "start_time": "2022-08-18T10:49:19.805Z"
   },
   {
    "duration": 4,
    "start_time": "2022-08-18T10:49:26.784Z"
   },
   {
    "duration": 5960,
    "start_time": "2022-08-18T10:49:56.713Z"
   },
   {
    "duration": 7933,
    "start_time": "2022-08-18T10:50:51.768Z"
   },
   {
    "duration": 8,
    "start_time": "2022-08-18T10:53:06.973Z"
   },
   {
    "duration": 896,
    "start_time": "2022-08-18T10:53:08.874Z"
   },
   {
    "duration": 8088,
    "start_time": "2022-08-18T10:53:13.526Z"
   },
   {
    "duration": 1311,
    "start_time": "2022-08-18T10:56:37.120Z"
   },
   {
    "duration": 5,
    "start_time": "2022-08-18T10:56:58.191Z"
   },
   {
    "duration": 6,
    "start_time": "2022-08-18T10:57:01.271Z"
   },
   {
    "duration": 7,
    "start_time": "2022-08-18T11:01:37.455Z"
   },
   {
    "duration": 31,
    "start_time": "2022-08-18T11:01:41.736Z"
   },
   {
    "duration": 7389,
    "start_time": "2022-08-18T11:01:46.416Z"
   },
   {
    "duration": 11428,
    "start_time": "2022-08-18T11:02:04.104Z"
   },
   {
    "duration": 2,
    "start_time": "2022-08-18T11:09:17.962Z"
   },
   {
    "duration": 699,
    "start_time": "2022-08-18T11:09:25.205Z"
   },
   {
    "duration": 14,
    "start_time": "2022-08-18T11:09:31.078Z"
   },
   {
    "duration": 5110,
    "start_time": "2022-08-18T11:09:42.961Z"
   },
   {
    "duration": 13,
    "start_time": "2022-08-18T11:09:56.760Z"
   },
   {
    "duration": 828,
    "start_time": "2022-08-18T11:14:56.641Z"
   },
   {
    "duration": 5,
    "start_time": "2022-08-18T11:15:12.823Z"
   },
   {
    "duration": 879,
    "start_time": "2022-08-18T11:15:17.490Z"
   },
   {
    "duration": 4,
    "start_time": "2022-08-18T11:15:19.816Z"
   },
   {
    "duration": 5,
    "start_time": "2022-08-18T11:15:52.245Z"
   },
   {
    "duration": 4,
    "start_time": "2022-08-18T11:17:19.538Z"
   },
   {
    "duration": 4,
    "start_time": "2022-08-18T11:17:23.106Z"
   },
   {
    "duration": 4,
    "start_time": "2022-08-18T11:17:28.086Z"
   },
   {
    "duration": 4,
    "start_time": "2022-08-18T11:19:50.332Z"
   },
   {
    "duration": 122,
    "start_time": "2022-08-18T11:24:43.924Z"
   },
   {
    "duration": 6,
    "start_time": "2022-08-18T11:25:12.222Z"
   },
   {
    "duration": 5,
    "start_time": "2022-08-18T11:25:22.565Z"
   },
   {
    "duration": 135,
    "start_time": "2022-08-18T11:25:47.554Z"
   },
   {
    "duration": 218,
    "start_time": "2022-08-18T11:25:54.548Z"
   },
   {
    "duration": 321,
    "start_time": "2022-08-18T11:26:03.656Z"
   },
   {
    "duration": 19,
    "start_time": "2022-08-18T11:29:09.511Z"
   },
   {
    "duration": 91,
    "start_time": "2022-08-18T11:29:21.075Z"
   },
   {
    "duration": 21,
    "start_time": "2022-08-18T11:29:24.283Z"
   },
   {
    "duration": 38,
    "start_time": "2022-08-18T11:29:42.547Z"
   },
   {
    "duration": 56,
    "start_time": "2022-08-18T11:30:03.412Z"
   },
   {
    "duration": 28,
    "start_time": "2022-08-18T11:32:01.624Z"
   },
   {
    "duration": 278,
    "start_time": "2022-08-18T11:32:54.749Z"
   },
   {
    "duration": 830,
    "start_time": "2022-08-18T11:33:39.316Z"
   },
   {
    "duration": 14,
    "start_time": "2022-08-18T11:33:44.813Z"
   },
   {
    "duration": 896,
    "start_time": "2022-08-18T11:34:18.517Z"
   },
   {
    "duration": 18,
    "start_time": "2022-08-18T11:34:20.115Z"
   },
   {
    "duration": 115,
    "start_time": "2022-08-18T11:35:10.729Z"
   },
   {
    "duration": 807,
    "start_time": "2022-08-18T11:36:34.516Z"
   },
   {
    "duration": 142,
    "start_time": "2022-08-18T11:36:36.314Z"
   },
   {
    "duration": 724,
    "start_time": "2022-08-18T11:36:52.140Z"
   },
   {
    "duration": 97,
    "start_time": "2022-08-18T11:36:53.227Z"
   },
   {
    "duration": 14,
    "start_time": "2022-08-18T11:37:20.860Z"
   },
   {
    "duration": 626,
    "start_time": "2022-08-18T11:37:29.544Z"
   },
   {
    "duration": 12,
    "start_time": "2022-08-18T11:37:33.082Z"
   },
   {
    "duration": 370,
    "start_time": "2022-08-18T11:38:06.569Z"
   },
   {
    "duration": 745,
    "start_time": "2022-08-18T11:38:13.409Z"
   },
   {
    "duration": 677,
    "start_time": "2022-08-18T11:38:15.956Z"
   },
   {
    "duration": 14,
    "start_time": "2022-08-18T11:38:20.427Z"
   },
   {
    "duration": 5,
    "start_time": "2022-08-18T11:39:06.646Z"
   },
   {
    "duration": 4,
    "start_time": "2022-08-18T11:39:15.561Z"
   },
   {
    "duration": 3,
    "start_time": "2022-08-18T11:39:27.451Z"
   },
   {
    "duration": 4,
    "start_time": "2022-08-18T11:39:36.937Z"
   },
   {
    "duration": 4,
    "start_time": "2022-08-18T11:39:41.236Z"
   },
   {
    "duration": 659,
    "start_time": "2022-08-18T11:40:24.954Z"
   },
   {
    "duration": 14,
    "start_time": "2022-08-18T11:40:27.085Z"
   },
   {
    "duration": 756,
    "start_time": "2022-08-18T11:41:47.327Z"
   },
   {
    "duration": 110,
    "start_time": "2022-08-18T11:42:21.070Z"
   },
   {
    "duration": 699,
    "start_time": "2022-08-18T11:42:47.824Z"
   },
   {
    "duration": 84,
    "start_time": "2022-08-18T11:42:48.525Z"
   },
   {
    "duration": 679,
    "start_time": "2022-08-18T11:42:53.689Z"
   },
   {
    "duration": 69,
    "start_time": "2022-08-18T11:42:54.369Z"
   },
   {
    "duration": 647,
    "start_time": "2022-08-18T11:42:59.365Z"
   },
   {
    "duration": 57,
    "start_time": "2022-08-18T11:43:00.421Z"
   },
   {
    "duration": 14,
    "start_time": "2022-08-18T11:43:16.055Z"
   },
   {
    "duration": 43,
    "start_time": "2022-08-18T11:43:40.926Z"
   },
   {
    "duration": 14,
    "start_time": "2022-08-18T11:43:44.153Z"
   },
   {
    "duration": 22,
    "start_time": "2022-08-18T11:44:03.152Z"
   },
   {
    "duration": 20,
    "start_time": "2022-08-18T11:44:12.180Z"
   },
   {
    "duration": 4,
    "start_time": "2022-08-18T11:44:17.222Z"
   },
   {
    "duration": 42,
    "start_time": "2022-08-18T11:44:32.624Z"
   },
   {
    "duration": 74,
    "start_time": "2022-08-18T11:46:24.411Z"
   },
   {
    "duration": 4,
    "start_time": "2022-08-18T11:46:32.059Z"
   },
   {
    "duration": 975,
    "start_time": "2022-08-18T11:46:43.243Z"
   },
   {
    "duration": 11,
    "start_time": "2022-08-18T11:46:44.817Z"
   },
   {
    "duration": 121,
    "start_time": "2022-08-18T11:47:13.829Z"
   },
   {
    "duration": 141,
    "start_time": "2022-08-18T11:47:25.241Z"
   },
   {
    "duration": 14,
    "start_time": "2022-08-18T11:47:27.113Z"
   },
   {
    "duration": 71,
    "start_time": "2022-08-18T11:47:42.466Z"
   },
   {
    "duration": 12,
    "start_time": "2022-08-18T11:47:44.713Z"
   },
   {
    "duration": 19,
    "start_time": "2022-08-18T11:51:37.067Z"
   },
   {
    "duration": 1657,
    "start_time": "2022-08-18T11:51:43.722Z"
   },
   {
    "duration": 1815,
    "start_time": "2022-08-18T11:51:52.374Z"
   },
   {
    "duration": 17,
    "start_time": "2022-08-18T11:51:56.660Z"
   },
   {
    "duration": 2088,
    "start_time": "2022-08-18T11:52:09.967Z"
   },
   {
    "duration": 17,
    "start_time": "2022-08-18T11:53:00.362Z"
   },
   {
    "duration": 17,
    "start_time": "2022-08-18T11:53:08.456Z"
   },
   {
    "duration": 19,
    "start_time": "2022-08-18T11:53:16.081Z"
   },
   {
    "duration": 17,
    "start_time": "2022-08-18T11:53:21.460Z"
   },
   {
    "duration": 18,
    "start_time": "2022-08-18T11:53:39.523Z"
   },
   {
    "duration": 19,
    "start_time": "2022-08-18T11:53:57.271Z"
   },
   {
    "duration": 4,
    "start_time": "2022-08-18T11:54:27.385Z"
   },
   {
    "duration": 3379,
    "start_time": "2022-08-18T11:54:41.218Z"
   },
   {
    "duration": 19,
    "start_time": "2022-08-18T11:54:47.612Z"
   },
   {
    "duration": 613,
    "start_time": "2022-08-18T11:55:15.486Z"
   },
   {
    "duration": 14,
    "start_time": "2022-08-18T11:55:18.057Z"
   },
   {
    "duration": 1950,
    "start_time": "2022-08-18T11:55:43.117Z"
   },
   {
    "duration": 1082,
    "start_time": "2022-08-18T11:55:52.221Z"
   },
   {
    "duration": 142,
    "start_time": "2022-08-18T11:55:55.575Z"
   },
   {
    "duration": 235,
    "start_time": "2022-08-18T11:56:01.363Z"
   },
   {
    "duration": 12,
    "start_time": "2022-08-18T11:56:09.627Z"
   },
   {
    "duration": 260,
    "start_time": "2022-08-18T11:56:24.054Z"
   },
   {
    "duration": 783,
    "start_time": "2022-08-18T11:56:35.359Z"
   },
   {
    "duration": 13,
    "start_time": "2022-08-18T11:57:29.015Z"
   },
   {
    "duration": 10,
    "start_time": "2022-08-18T11:57:51.307Z"
   },
   {
    "duration": 11,
    "start_time": "2022-08-18T11:57:54.065Z"
   },
   {
    "duration": 769,
    "start_time": "2022-08-18T11:58:00.377Z"
   },
   {
    "duration": 8,
    "start_time": "2022-08-18T11:58:02.628Z"
   },
   {
    "duration": 28,
    "start_time": "2022-08-18T11:58:09.919Z"
   },
   {
    "duration": 9363,
    "start_time": "2022-08-18T11:58:14.240Z"
   },
   {
    "duration": 4,
    "start_time": "2022-08-18T12:00:55.388Z"
   },
   {
    "duration": 28,
    "start_time": "2022-08-18T12:05:53.830Z"
   },
   {
    "duration": 31,
    "start_time": "2022-08-18T12:06:12.541Z"
   },
   {
    "duration": 8789,
    "start_time": "2022-08-18T12:06:14.717Z"
   },
   {
    "duration": 5,
    "start_time": "2022-08-18T12:06:25.225Z"
   },
   {
    "duration": 561,
    "start_time": "2022-08-18T12:07:34.546Z"
   },
   {
    "duration": 5,
    "start_time": "2022-08-18T12:07:36.229Z"
   },
   {
    "duration": 21,
    "start_time": "2022-08-18T12:07:42.310Z"
   },
   {
    "duration": 29,
    "start_time": "2022-08-18T12:07:45.712Z"
   },
   {
    "duration": 8899,
    "start_time": "2022-08-18T12:07:47.044Z"
   },
   {
    "duration": 960,
    "start_time": "2022-08-18T12:07:55.946Z"
   },
   {
    "duration": 4,
    "start_time": "2022-08-18T12:08:01.957Z"
   },
   {
    "duration": 24,
    "start_time": "2022-08-18T12:08:12.746Z"
   },
   {
    "duration": 5,
    "start_time": "2022-08-18T12:08:13.532Z"
   },
   {
    "duration": 28,
    "start_time": "2022-08-18T12:08:17.178Z"
   },
   {
    "duration": 9157,
    "start_time": "2022-08-18T12:08:18.150Z"
   },
   {
    "duration": 5,
    "start_time": "2022-08-18T12:08:27.309Z"
   },
   {
    "duration": 1586,
    "start_time": "2022-08-18T12:08:27.316Z"
   },
   {
    "duration": 28,
    "start_time": "2022-08-18T12:09:02.247Z"
   },
   {
    "duration": 9494,
    "start_time": "2022-08-18T12:09:03.285Z"
   },
   {
    "duration": 6,
    "start_time": "2022-08-18T12:09:12.781Z"
   },
   {
    "duration": 15811,
    "start_time": "2022-08-18T12:09:12.789Z"
   },
   {
    "duration": 697,
    "start_time": "2022-08-18T12:10:10.763Z"
   },
   {
    "duration": 8,
    "start_time": "2022-08-18T12:10:11.462Z"
   },
   {
    "duration": 29,
    "start_time": "2022-08-18T12:10:11.686Z"
   },
   {
    "duration": 9454,
    "start_time": "2022-08-18T12:10:12.568Z"
   },
   {
    "duration": 4,
    "start_time": "2022-08-18T12:10:22.024Z"
   },
   {
    "duration": 1459,
    "start_time": "2022-08-18T12:10:22.029Z"
   },
   {
    "duration": 29,
    "start_time": "2022-08-18T12:10:34.765Z"
   },
   {
    "duration": 9065,
    "start_time": "2022-08-18T12:10:35.362Z"
   },
   {
    "duration": 3,
    "start_time": "2022-08-18T12:10:44.429Z"
   },
   {
    "duration": 1667,
    "start_time": "2022-08-18T12:10:44.434Z"
   },
   {
    "duration": 28,
    "start_time": "2022-08-18T12:10:54.062Z"
   },
   {
    "duration": 9059,
    "start_time": "2022-08-18T12:10:54.681Z"
   },
   {
    "duration": 4,
    "start_time": "2022-08-18T12:11:03.741Z"
   },
   {
    "duration": 39949,
    "start_time": "2022-08-18T12:11:03.747Z"
   },
   {
    "duration": 23,
    "start_time": "2022-08-18T12:19:04.943Z"
   },
   {
    "duration": 28,
    "start_time": "2022-08-18T12:19:07.115Z"
   },
   {
    "duration": 10034,
    "start_time": "2022-08-18T12:19:08.254Z"
   },
   {
    "duration": 15,
    "start_time": "2022-08-18T12:19:18.291Z"
   },
   {
    "duration": 1765,
    "start_time": "2022-08-18T12:19:18.307Z"
   },
   {
    "duration": 3,
    "start_time": "2022-08-18T12:19:20.074Z"
   },
   {
    "duration": 8390,
    "start_time": "2022-08-18T12:19:20.086Z"
   },
   {
    "duration": 21,
    "start_time": "2022-08-18T12:19:28.478Z"
   },
   {
    "duration": 32,
    "start_time": "2022-08-18T12:20:10.911Z"
   },
   {
    "duration": 9945,
    "start_time": "2022-08-18T12:20:11.875Z"
   },
   {
    "duration": 3,
    "start_time": "2022-08-18T12:20:21.822Z"
   },
   {
    "duration": 14265,
    "start_time": "2022-08-18T12:20:21.849Z"
   },
   {
    "duration": 14,
    "start_time": "2022-08-18T12:20:36.116Z"
   },
   {
    "duration": 4887,
    "start_time": "2022-08-18T12:22:32.219Z"
   },
   {
    "duration": 12,
    "start_time": "2022-08-18T12:22:37.109Z"
   },
   {
    "duration": 2,
    "start_time": "2022-08-18T12:23:40.825Z"
   },
   {
    "duration": 2288,
    "start_time": "2022-08-18T12:24:07.512Z"
   },
   {
    "duration": 2378,
    "start_time": "2022-08-18T12:26:54.939Z"
   },
   {
    "duration": 14,
    "start_time": "2022-08-18T12:27:03.415Z"
   },
   {
    "duration": 1031,
    "start_time": "2022-08-18T12:27:07.932Z"
   },
   {
    "duration": 619,
    "start_time": "2022-08-18T12:27:12.870Z"
   },
   {
    "duration": 1472,
    "start_time": "2022-08-18T12:27:16.738Z"
   },
   {
    "duration": 1752,
    "start_time": "2022-08-18T12:27:21.793Z"
   },
   {
    "duration": 2202,
    "start_time": "2022-08-18T12:27:26.435Z"
   },
   {
    "duration": 1690,
    "start_time": "2022-08-18T12:27:31.760Z"
   },
   {
    "duration": 29,
    "start_time": "2022-08-18T12:27:42.744Z"
   },
   {
    "duration": 8902,
    "start_time": "2022-08-18T12:27:50.539Z"
   },
   {
    "duration": 1976,
    "start_time": "2022-08-18T12:27:59.443Z"
   },
   {
    "duration": 33,
    "start_time": "2022-08-18T12:29:03.845Z"
   },
   {
    "duration": 9234,
    "start_time": "2022-08-18T12:29:07.320Z"
   },
   {
    "duration": 2556,
    "start_time": "2022-08-18T12:29:16.556Z"
   },
   {
    "duration": 33520,
    "start_time": "2022-08-18T12:31:37.786Z"
   },
   {
    "duration": 3136,
    "start_time": "2022-08-18T12:35:37.525Z"
   },
   {
    "duration": 3224,
    "start_time": "2022-08-18T12:36:00.806Z"
   },
   {
    "duration": 132,
    "start_time": "2022-08-18T12:39:15.325Z"
   },
   {
    "duration": 25,
    "start_time": "2022-08-18T12:39:52.305Z"
   },
   {
    "duration": 1347,
    "start_time": "2022-08-18T12:39:56.435Z"
   },
   {
    "duration": 1290,
    "start_time": "2022-08-18T12:40:25.239Z"
   },
   {
    "duration": 1545077,
    "start_time": "2022-08-18T12:40:39.553Z"
   },
   {
    "duration": 48149,
    "start_time": "2022-08-18T13:06:36.263Z"
   },
   {
    "duration": 98818,
    "start_time": "2022-08-18T13:07:45.495Z"
   },
   {
    "duration": 24,
    "start_time": "2022-08-18T13:09:30.922Z"
   },
   {
    "duration": 300,
    "start_time": "2022-08-18T13:10:04.724Z"
   },
   {
    "duration": 238950,
    "start_time": "2022-08-18T13:10:19.458Z"
   },
   {
    "duration": 29,
    "start_time": "2022-08-18T13:14:30.517Z"
   },
   {
    "duration": 11233,
    "start_time": "2022-08-18T13:14:33.270Z"
   },
   {
    "duration": 2636,
    "start_time": "2022-08-18T13:14:55.325Z"
   },
   {
    "duration": 39834,
    "start_time": "2022-08-18T13:15:02.839Z"
   },
   {
    "duration": 1536287,
    "start_time": "2022-08-18T13:15:49.838Z"
   },
   {
    "duration": 19432,
    "start_time": "2022-08-18T14:00:18.118Z"
   },
   {
    "duration": 52,
    "start_time": "2022-08-18T14:00:44.875Z"
   },
   {
    "duration": 9933,
    "start_time": "2022-08-18T14:00:49.150Z"
   },
   {
    "duration": 51,
    "start_time": "2022-08-18T14:17:32.354Z"
   },
   {
    "duration": 122952,
    "start_time": "2022-08-18T14:17:40.372Z"
   },
   {
    "duration": 2504,
    "start_time": "2022-08-18T14:19:43.326Z"
   },
   {
    "duration": 15,
    "start_time": "2022-08-18T14:19:56.241Z"
   },
   {
    "duration": 737,
    "start_time": "2022-08-18T14:20:07.265Z"
   },
   {
    "duration": 23,
    "start_time": "2022-08-18T14:20:14.954Z"
   },
   {
    "duration": 2067,
    "start_time": "2022-08-18T14:20:27.865Z"
   },
   {
    "duration": 7,
    "start_time": "2022-08-18T14:20:31.127Z"
   },
   {
    "duration": 41,
    "start_time": "2022-08-18T14:20:31.625Z"
   },
   {
    "duration": 458,
    "start_time": "2022-08-18T14:21:15.214Z"
   },
   {
    "duration": 72,
    "start_time": "2022-08-18T14:21:19.052Z"
   },
   {
    "duration": 3643,
    "start_time": "2022-08-18T14:21:45.732Z"
   },
   {
    "duration": 32,
    "start_time": "2022-08-18T14:21:50.343Z"
   },
   {
    "duration": 1040,
    "start_time": "2022-08-18T14:21:56.432Z"
   },
   {
    "duration": 20,
    "start_time": "2022-08-18T14:21:57.914Z"
   },
   {
    "duration": 33,
    "start_time": "2022-08-18T14:21:58.450Z"
   },
   {
    "duration": 2825651,
    "start_time": "2022-08-18T14:22:04.851Z"
   },
   {
    "duration": 9068,
    "start_time": "2022-08-18T15:09:10.504Z"
   },
   {
    "duration": 7,
    "start_time": "2022-08-18T15:14:20.960Z"
   },
   {
    "duration": 10,
    "start_time": "2022-08-18T15:14:29.675Z"
   },
   {
    "duration": 57,
    "start_time": "2022-08-18T15:14:32.116Z"
   },
   {
    "duration": 14946,
    "start_time": "2022-08-18T15:14:35.568Z"
   },
   {
    "duration": 4,
    "start_time": "2022-08-18T15:14:50.516Z"
   },
   {
    "duration": 3,
    "start_time": "2022-08-18T15:17:58.249Z"
   },
   {
    "duration": 144,
    "start_time": "2022-08-18T15:18:01.865Z"
   },
   {
    "duration": 71280,
    "start_time": "2022-08-18T17:07:06.144Z"
   },
   {
    "duration": 331,
    "start_time": "2022-08-18T17:08:17.426Z"
   },
   {
    "duration": 0,
    "start_time": "2022-08-18T17:08:17.759Z"
   },
   {
    "duration": 2907,
    "start_time": "2022-08-18T17:14:04.943Z"
   },
   {
    "duration": 51,
    "start_time": "2022-08-18T17:14:10.357Z"
   },
   {
    "duration": 6,
    "start_time": "2022-08-18T17:14:33.646Z"
   },
   {
    "duration": 29,
    "start_time": "2022-08-18T17:14:35.716Z"
   },
   {
    "duration": 11192,
    "start_time": "2022-08-18T17:14:39.445Z"
   },
   {
    "duration": 3,
    "start_time": "2022-08-18T17:14:50.639Z"
   },
   {
    "duration": 1494,
    "start_time": "2022-08-18T17:17:38.414Z"
   },
   {
    "duration": 1458,
    "start_time": "2022-08-18T17:17:55.928Z"
   },
   {
    "duration": 1710,
    "start_time": "2022-08-18T17:18:13.862Z"
   },
   {
    "duration": 1561,
    "start_time": "2022-08-18T17:18:23.056Z"
   },
   {
    "duration": 1581,
    "start_time": "2022-08-18T17:19:09.764Z"
   },
   {
    "duration": 773,
    "start_time": "2022-08-18T17:19:20.082Z"
   },
   {
    "duration": 1593,
    "start_time": "2022-08-18T17:19:29.654Z"
   },
   {
    "duration": 1500,
    "start_time": "2022-08-18T17:19:36.320Z"
   },
   {
    "duration": 1566,
    "start_time": "2022-08-18T17:19:45.247Z"
   },
   {
    "duration": 24,
    "start_time": "2022-08-18T17:20:09.393Z"
   },
   {
    "duration": 3,
    "start_time": "2022-08-18T17:20:12.918Z"
   },
   {
    "duration": 3513,
    "start_time": "2022-08-18T17:20:13.269Z"
   },
   {
    "duration": 15,
    "start_time": "2022-08-18T17:20:52.047Z"
   },
   {
    "duration": 64,
    "start_time": "2022-08-18T17:20:55.529Z"
   },
   {
    "duration": 567789,
    "start_time": "2022-08-18T17:20:57.044Z"
   },
   {
    "duration": 16,
    "start_time": "2022-08-18T17:33:51.517Z"
   },
   {
    "duration": 2645178,
    "start_time": "2022-08-18T17:34:31.901Z"
   },
   {
    "duration": 1046075,
    "start_time": "2022-08-18T18:20:04.594Z"
   },
   {
    "duration": 42,
    "start_time": "2022-08-18T18:38:08.191Z"
   },
   {
    "duration": 159,
    "start_time": "2022-08-18T18:41:47.883Z"
   },
   {
    "duration": 91,
    "start_time": "2022-08-18T18:43:48.849Z"
   },
   {
    "duration": 55213,
    "start_time": "2022-08-18T18:44:39.358Z"
   },
   {
    "duration": 36,
    "start_time": "2022-08-18T18:45:39.596Z"
   },
   {
    "duration": 181322,
    "start_time": "2022-08-18T18:45:54.331Z"
   },
   {
    "duration": 105,
    "start_time": "2022-08-18T18:49:02.964Z"
   },
   {
    "duration": 8086757,
    "start_time": "2022-08-18T18:49:09.483Z"
   },
   {
    "duration": 8086,
    "start_time": "2022-08-18T21:37:13.783Z"
   },
   {
    "duration": 570178,
    "start_time": "2022-08-18T21:37:40.225Z"
   },
   {
    "duration": 0,
    "start_time": "2022-08-18T21:47:10.405Z"
   },
   {
    "duration": 192656,
    "start_time": "2022-08-18T21:47:16.867Z"
   },
   {
    "duration": 811906,
    "start_time": "2022-08-18T21:50:40.768Z"
   },
   {
    "duration": 20,
    "start_time": "2022-08-18T22:05:58.924Z"
   },
   {
    "duration": 916965,
    "start_time": "2022-08-18T22:07:09.062Z"
   },
   {
    "duration": 13,
    "start_time": "2022-08-18T22:23:16.563Z"
   },
   {
    "duration": 73488,
    "start_time": "2022-08-19T09:39:13.084Z"
   },
   {
    "duration": 2409,
    "start_time": "2022-08-19T09:40:26.573Z"
   },
   {
    "duration": 15,
    "start_time": "2022-08-19T09:40:28.983Z"
   },
   {
    "duration": 46,
    "start_time": "2022-08-19T09:40:29.000Z"
   },
   {
    "duration": 657,
    "start_time": "2022-08-19T09:40:29.048Z"
   },
   {
    "duration": 408,
    "start_time": "2022-08-19T09:40:29.707Z"
   },
   {
    "duration": 9,
    "start_time": "2022-08-19T09:40:30.117Z"
   },
   {
    "duration": 58,
    "start_time": "2022-08-19T09:41:52.697Z"
   },
   {
    "duration": 4,
    "start_time": "2022-08-19T09:43:26.989Z"
   },
   {
    "duration": 4,
    "start_time": "2022-08-19T09:43:56.127Z"
   },
   {
    "duration": 395,
    "start_time": "2022-08-19T10:01:38.972Z"
   },
   {
    "duration": 10575,
    "start_time": "2022-08-19T10:02:36.729Z"
   },
   {
    "duration": 19,
    "start_time": "2022-08-19T10:04:22.329Z"
   },
   {
    "duration": 90,
    "start_time": "2022-08-19T10:04:27.180Z"
   },
   {
    "duration": 4,
    "start_time": "2022-08-19T10:04:30.263Z"
   },
   {
    "duration": 3,
    "start_time": "2022-08-19T10:05:57.272Z"
   },
   {
    "duration": 6,
    "start_time": "2022-08-19T10:06:02.111Z"
   },
   {
    "duration": 101,
    "start_time": "2022-08-19T10:06:27.311Z"
   },
   {
    "duration": 721,
    "start_time": "2022-08-19T10:07:54.443Z"
   },
   {
    "duration": 47,
    "start_time": "2022-08-19T10:09:57.156Z"
   },
   {
    "duration": 221,
    "start_time": "2022-08-19T10:10:08.683Z"
   },
   {
    "duration": 144,
    "start_time": "2022-08-19T10:10:34.608Z"
   },
   {
    "duration": 98,
    "start_time": "2022-08-19T10:11:34.329Z"
   },
   {
    "duration": 2684,
    "start_time": "2022-08-19T10:12:05.216Z"
   },
   {
    "duration": 3005,
    "start_time": "2022-08-19T10:12:41.985Z"
   },
   {
    "duration": 317,
    "start_time": "2022-08-19T10:13:21.388Z"
   },
   {
    "duration": 4444,
    "start_time": "2022-08-19T10:15:05.854Z"
   },
   {
    "duration": 480,
    "start_time": "2022-08-19T10:15:28.687Z"
   },
   {
    "duration": 98,
    "start_time": "2022-08-19T10:16:18.653Z"
   },
   {
    "duration": 4,
    "start_time": "2022-08-19T10:18:30.052Z"
   },
   {
    "duration": 57,
    "start_time": "2022-08-19T10:18:39.927Z"
   },
   {
    "duration": 5,
    "start_time": "2022-08-19T10:18:41.661Z"
   },
   {
    "duration": 446161,
    "start_time": "2022-08-19T10:18:50.347Z"
   },
   {
    "duration": 4470822,
    "start_time": "2022-08-19T10:30:14.977Z"
   },
   {
    "duration": 4483694,
    "start_time": "2022-08-19T11:50:49.501Z"
   },
   {
    "duration": 4,
    "start_time": "2022-08-19T13:08:15.768Z"
   },
   {
    "duration": 4,
    "start_time": "2022-08-19T13:08:27.588Z"
   },
   {
    "duration": 11438,
    "start_time": "2022-08-19T13:11:12.346Z"
   },
   {
    "duration": 144553,
    "start_time": "2022-08-19T13:11:34.335Z"
   },
   {
    "duration": 1072,
    "start_time": "2022-08-19T13:17:51.259Z"
   },
   {
    "duration": 63,
    "start_time": "2022-08-19T13:18:11.676Z"
   },
   {
    "duration": 482639,
    "start_time": "2022-08-19T13:18:15.317Z"
   },
   {
    "duration": 11670,
    "start_time": "2022-08-19T13:29:09.122Z"
   },
   {
    "duration": 4,
    "start_time": "2022-08-19T13:29:38.818Z"
   },
   {
    "duration": 4,
    "start_time": "2022-08-19T13:29:59.778Z"
   },
   {
    "duration": 4974,
    "start_time": "2022-08-19T13:30:07.970Z"
   },
   {
    "duration": 2999,
    "start_time": "2022-08-19T13:33:21.944Z"
   },
   {
    "duration": 66,
    "start_time": "2022-08-19T13:33:35.320Z"
   },
   {
    "duration": 87642,
    "start_time": "2022-08-19T13:33:44.171Z"
   },
   {
    "duration": 66,
    "start_time": "2022-08-19T13:35:17.214Z"
   },
   {
    "duration": 57273443,
    "start_time": "2022-08-19T13:35:21.806Z"
   },
   {
    "duration": 88219,
    "start_time": "2022-08-21T08:31:40.033Z"
   },
   {
    "duration": 2824,
    "start_time": "2022-08-21T08:33:08.254Z"
   },
   {
    "duration": 25,
    "start_time": "2022-08-21T08:33:11.080Z"
   },
   {
    "duration": 59,
    "start_time": "2022-08-21T08:33:11.107Z"
   },
   {
    "duration": 849,
    "start_time": "2022-08-21T08:33:11.168Z"
   },
   {
    "duration": 505,
    "start_time": "2022-08-21T08:33:12.020Z"
   },
   {
    "duration": 10,
    "start_time": "2022-08-21T08:33:55.747Z"
   },
   {
    "duration": 9,
    "start_time": "2022-08-21T08:33:58.368Z"
   },
   {
    "duration": 94,
    "start_time": "2022-08-21T08:34:02.114Z"
   },
   {
    "duration": 3,
    "start_time": "2022-08-21T08:35:55.770Z"
   },
   {
    "duration": 5,
    "start_time": "2022-08-21T08:36:06.482Z"
   },
   {
    "duration": 588,
    "start_time": "2022-08-21T08:36:38.319Z"
   },
   {
    "duration": 3550,
    "start_time": "2022-08-21T08:36:48.844Z"
   },
   {
    "duration": 7,
    "start_time": "2022-08-21T08:37:00.617Z"
   },
   {
    "duration": 4247,
    "start_time": "2022-08-21T08:37:18.444Z"
   },
   {
    "duration": 6,
    "start_time": "2022-08-21T08:37:23.658Z"
   },
   {
    "duration": 80,
    "start_time": "2022-08-21T08:37:54.382Z"
   },
   {
    "duration": 13417,
    "start_time": "2022-08-21T08:38:16.150Z"
   },
   {
    "duration": 163414,
    "start_time": "2022-08-21T08:39:53.788Z"
   },
   {
    "duration": 5,
    "start_time": "2022-08-21T08:42:41.254Z"
   },
   {
    "duration": 15,
    "start_time": "2022-08-21T08:45:43.531Z"
   },
   {
    "duration": 1324,
    "start_time": "2022-08-21T08:49:20.489Z"
   },
   {
    "duration": 5,
    "start_time": "2022-08-21T08:49:37.618Z"
   },
   {
    "duration": 83,
    "start_time": "2022-08-21T08:49:50.199Z"
   },
   {
    "duration": 7,
    "start_time": "2022-08-21T08:49:51.174Z"
   },
   {
    "duration": 6,
    "start_time": "2022-08-21T08:49:53.972Z"
   },
   {
    "duration": 599609,
    "start_time": "2022-08-21T08:49:56.216Z"
   },
   {
    "duration": 3,
    "start_time": "2022-08-21T08:59:55.828Z"
   },
   {
    "duration": 63,
    "start_time": "2022-08-21T08:59:55.833Z"
   },
   {
    "duration": 0,
    "start_time": "2022-08-21T08:59:55.906Z"
   },
   {
    "duration": 5,
    "start_time": "2022-08-21T09:01:27.532Z"
   },
   {
    "duration": 13204,
    "start_time": "2022-08-21T09:01:34.721Z"
   },
   {
    "duration": 158584,
    "start_time": "2022-08-21T09:01:47.927Z"
   },
   {
    "duration": 4,
    "start_time": "2022-08-21T09:05:17.459Z"
   },
   {
    "duration": 19,
    "start_time": "2022-08-21T09:08:14.621Z"
   },
   {
    "duration": 5508,
    "start_time": "2022-08-21T09:08:21.048Z"
   },
   {
    "duration": 5671,
    "start_time": "2022-08-21T09:09:10.425Z"
   },
   {
    "duration": 3,
    "start_time": "2022-08-21T09:09:19.810Z"
   },
   {
    "duration": 5745,
    "start_time": "2022-08-21T09:10:27.184Z"
   },
   {
    "duration": 3,
    "start_time": "2022-08-21T09:10:32.932Z"
   },
   {
    "duration": 4,
    "start_time": "2022-08-21T09:10:54.699Z"
   },
   {
    "duration": 5653,
    "start_time": "2022-08-21T09:10:57.383Z"
   },
   {
    "duration": 0,
    "start_time": "2022-08-21T09:11:03.037Z"
   },
   {
    "duration": 4,
    "start_time": "2022-08-21T09:11:35.526Z"
   },
   {
    "duration": 5864,
    "start_time": "2022-08-21T09:11:37.928Z"
   },
   {
    "duration": 4,
    "start_time": "2022-08-21T09:11:43.794Z"
   },
   {
    "duration": 4431526,
    "start_time": "2022-08-21T09:13:58.061Z"
   },
   {
    "duration": 4,
    "start_time": "2022-08-21T11:41:43.573Z"
   },
   {
    "duration": 4,
    "start_time": "2022-08-21T11:42:14.364Z"
   },
   {
    "duration": 5,
    "start_time": "2022-08-21T11:44:09.376Z"
   },
   {
    "duration": 3193,
    "start_time": "2022-08-21T11:49:33.670Z"
   },
   {
    "duration": 9,
    "start_time": "2022-08-21T11:49:38.265Z"
   },
   {
    "duration": 54,
    "start_time": "2022-08-21T11:49:40.151Z"
   },
   {
    "duration": 143,
    "start_time": "2022-08-21T11:49:40.682Z"
   },
   {
    "duration": 436,
    "start_time": "2022-08-21T11:49:42.524Z"
   },
   {
    "duration": 3,
    "start_time": "2022-08-21T11:51:01.016Z"
   },
   {
    "duration": 5,
    "start_time": "2022-08-21T11:52:28.538Z"
   },
   {
    "duration": 9,
    "start_time": "2022-08-21T11:52:30.874Z"
   },
   {
    "duration": 4,
    "start_time": "2022-08-21T11:52:46.580Z"
   },
   {
    "duration": 12,
    "start_time": "2022-08-21T11:52:49.088Z"
   },
   {
    "duration": 5,
    "start_time": "2022-08-21T11:53:25.785Z"
   },
   {
    "duration": 18,
    "start_time": "2022-08-21T11:53:27.787Z"
   },
   {
    "duration": 907,
    "start_time": "2022-08-21T11:55:12.671Z"
   },
   {
    "duration": 19,
    "start_time": "2022-08-21T11:55:16.183Z"
   },
   {
    "duration": 10,
    "start_time": "2022-08-21T11:55:31.840Z"
   },
   {
    "duration": 906,
    "start_time": "2022-08-21T11:55:47.240Z"
   },
   {
    "duration": 35,
    "start_time": "2022-08-21T11:56:17.730Z"
   },
   {
    "duration": 19,
    "start_time": "2022-08-21T11:56:22.441Z"
   },
   {
    "duration": 164,
    "start_time": "2022-08-21T11:56:52.521Z"
   },
   {
    "duration": 478,
    "start_time": "2022-08-21T11:56:58.737Z"
   },
   {
    "duration": 219,
    "start_time": "2022-08-21T11:57:02.707Z"
   },
   {
    "duration": 364,
    "start_time": "2022-08-21T11:57:05.373Z"
   },
   {
    "duration": 550,
    "start_time": "2022-08-21T11:57:16.710Z"
   },
   {
    "duration": 429,
    "start_time": "2022-08-21T11:58:09.545Z"
   },
   {
    "duration": 16,
    "start_time": "2022-08-21T11:58:43.518Z"
   },
   {
    "duration": 34,
    "start_time": "2022-08-21T11:58:50.988Z"
   },
   {
    "duration": 39,
    "start_time": "2022-08-21T11:59:02.289Z"
   },
   {
    "duration": 1340,
    "start_time": "2022-08-21T12:02:51.886Z"
   },
   {
    "duration": 15,
    "start_time": "2022-08-21T12:03:23.125Z"
   },
   {
    "duration": 12,
    "start_time": "2022-08-21T12:03:46.525Z"
   },
   {
    "duration": 94,
    "start_time": "2022-08-21T12:05:58.089Z"
   },
   {
    "duration": 112,
    "start_time": "2022-08-21T12:06:10.617Z"
   },
   {
    "duration": 102,
    "start_time": "2022-08-21T12:22:54.443Z"
   },
   {
    "duration": 75,
    "start_time": "2022-08-21T12:23:18.405Z"
   },
   {
    "duration": 124,
    "start_time": "2022-08-21T12:23:50.464Z"
   },
   {
    "duration": 3126,
    "start_time": "2022-08-21T12:24:08.417Z"
   },
   {
    "duration": 3224,
    "start_time": "2022-08-21T12:24:36.166Z"
   },
   {
    "duration": 3236,
    "start_time": "2022-08-21T12:25:09.240Z"
   },
   {
    "duration": 2874,
    "start_time": "2022-08-21T12:25:19.780Z"
   },
   {
    "duration": 2954,
    "start_time": "2022-08-21T12:25:26.851Z"
   },
   {
    "duration": 2965,
    "start_time": "2022-08-21T12:25:44.007Z"
   },
   {
    "duration": 9,
    "start_time": "2022-08-21T12:25:47.645Z"
   },
   {
    "duration": 2980,
    "start_time": "2022-08-21T12:26:28.123Z"
   },
   {
    "duration": 414,
    "start_time": "2022-08-21T12:27:14.174Z"
   },
   {
    "duration": 31,
    "start_time": "2022-08-21T12:27:34.476Z"
   },
   {
    "duration": 64,
    "start_time": "2022-08-21T12:27:40.812Z"
   },
   {
    "duration": 90,
    "start_time": "2022-08-21T12:29:09.082Z"
   },
   {
    "duration": 11,
    "start_time": "2022-08-21T12:29:48.432Z"
   },
   {
    "duration": 87,
    "start_time": "2022-08-21T12:30:38.978Z"
   },
   {
    "duration": 24,
    "start_time": "2022-08-21T12:30:48.453Z"
   },
   {
    "duration": 108,
    "start_time": "2022-08-21T12:32:26.879Z"
   },
   {
    "duration": 4650,
    "start_time": "2022-08-21T12:33:18.532Z"
   },
   {
    "duration": 15,
    "start_time": "2022-08-21T12:33:47.820Z"
   },
   {
    "duration": 101,
    "start_time": "2022-08-21T12:34:14.864Z"
   },
   {
    "duration": 11,
    "start_time": "2022-08-21T12:34:17.039Z"
   },
   {
    "duration": 4,
    "start_time": "2022-08-21T12:34:22.460Z"
   },
   {
    "duration": 40,
    "start_time": "2022-08-21T12:34:24.000Z"
   },
   {
    "duration": 94,
    "start_time": "2022-08-21T12:35:40.742Z"
   },
   {
    "duration": 13278,
    "start_time": "2022-08-21T12:35:45.008Z"
   },
   {
    "duration": 9754,
    "start_time": "2022-08-21T12:35:58.288Z"
   },
   {
    "duration": 20,
    "start_time": "2022-08-21T12:44:09.241Z"
   },
   {
    "duration": 3,
    "start_time": "2022-08-21T12:44:53.576Z"
   },
   {
    "duration": 22,
    "start_time": "2022-08-21T12:44:55.960Z"
   },
   {
    "duration": 9,
    "start_time": "2022-08-21T12:45:00.136Z"
   },
   {
    "duration": 129,
    "start_time": "2022-08-21T12:45:05.616Z"
   },
   {
    "duration": 9,
    "start_time": "2022-08-21T12:45:12.761Z"
   },
   {
    "duration": 141,
    "start_time": "2022-08-21T12:45:13.946Z"
   },
   {
    "duration": 388,
    "start_time": "2022-08-21T12:45:35.295Z"
   },
   {
    "duration": 140,
    "start_time": "2022-08-21T12:45:54.498Z"
   },
   {
    "duration": 77892,
    "start_time": "2022-08-21T12:49:08.718Z"
   },
   {
    "duration": 3381,
    "start_time": "2022-08-21T12:50:26.612Z"
   },
   {
    "duration": 19,
    "start_time": "2022-08-21T12:50:29.995Z"
   },
   {
    "duration": 41,
    "start_time": "2022-08-21T12:50:30.016Z"
   },
   {
    "duration": 596,
    "start_time": "2022-08-21T12:50:30.059Z"
   },
   {
    "duration": 256,
    "start_time": "2022-08-21T12:50:30.656Z"
   },
   {
    "duration": 1654,
    "start_time": "2022-08-21T12:50:30.914Z"
   },
   {
    "duration": 0,
    "start_time": "2022-08-21T12:50:32.570Z"
   },
   {
    "duration": 0,
    "start_time": "2022-08-21T12:50:32.571Z"
   },
   {
    "duration": 0,
    "start_time": "2022-08-21T12:50:32.573Z"
   },
   {
    "duration": 0,
    "start_time": "2022-08-21T12:50:32.574Z"
   },
   {
    "duration": 0,
    "start_time": "2022-08-21T12:50:32.575Z"
   },
   {
    "duration": 0,
    "start_time": "2022-08-21T12:50:32.576Z"
   },
   {
    "duration": 0,
    "start_time": "2022-08-21T12:50:32.578Z"
   },
   {
    "duration": 0,
    "start_time": "2022-08-21T12:50:32.579Z"
   },
   {
    "duration": 0,
    "start_time": "2022-08-21T12:50:32.580Z"
   },
   {
    "duration": 0,
    "start_time": "2022-08-21T12:50:32.581Z"
   },
   {
    "duration": 2771560,
    "start_time": "2022-08-21T12:52:55.894Z"
   },
   {
    "duration": 9,
    "start_time": "2022-08-21T13:39:07.456Z"
   },
   {
    "duration": 3121,
    "start_time": "2022-08-21T13:39:07.466Z"
   },
   {
    "duration": 123,
    "start_time": "2022-08-21T13:39:10.591Z"
   },
   {
    "duration": 86,
    "start_time": "2022-08-21T13:39:10.716Z"
   },
   {
    "duration": 15672,
    "start_time": "2022-08-21T13:48:10.612Z"
   },
   {
    "duration": 12,
    "start_time": "2022-08-21T13:48:26.286Z"
   },
   {
    "duration": 181022,
    "start_time": "2022-08-21T13:48:36.779Z"
   },
   {
    "duration": 6219,
    "start_time": "2022-08-21T13:51:37.803Z"
   },
   {
    "duration": 100095,
    "start_time": "2022-08-21T13:51:44.024Z"
   },
   {
    "duration": 4278388,
    "start_time": "2022-08-21T13:53:33.844Z"
   },
   {
    "duration": 4,
    "start_time": "2022-08-21T16:57:43.593Z"
   },
   {
    "duration": 140,
    "start_time": "2022-08-21T16:57:46.936Z"
   },
   {
    "duration": 4359,
    "start_time": "2022-08-21T17:04:55.923Z"
   },
   {
    "duration": 20950,
    "start_time": "2022-08-21T17:06:39.573Z"
   },
   {
    "duration": 76950,
    "start_time": "2022-08-21T17:08:30.032Z"
   },
   {
    "duration": 960,
    "start_time": "2022-08-21T17:09:46.984Z"
   },
   {
    "duration": 22,
    "start_time": "2022-08-21T17:09:47.946Z"
   },
   {
    "duration": 55,
    "start_time": "2022-08-21T17:09:47.971Z"
   },
   {
    "duration": 550,
    "start_time": "2022-08-21T17:09:48.034Z"
   },
   {
    "duration": 266,
    "start_time": "2022-08-21T17:09:48.595Z"
   },
   {
    "duration": 2754850,
    "start_time": "2022-08-21T17:09:48.863Z"
   },
   {
    "duration": 8,
    "start_time": "2022-08-21T17:55:43.715Z"
   },
   {
    "duration": 3005,
    "start_time": "2022-08-21T17:55:43.724Z"
   },
   {
    "duration": 127,
    "start_time": "2022-08-21T17:55:46.731Z"
   },
   {
    "duration": 96,
    "start_time": "2022-08-21T17:55:46.860Z"
   },
   {
    "duration": 164,
    "start_time": "2022-08-21T17:55:46.958Z"
   },
   {
    "duration": 4,
    "start_time": "2022-08-21T18:04:58.305Z"
   },
   {
    "duration": 13249,
    "start_time": "2022-08-21T18:05:02.620Z"
   },
   {
    "duration": 4,
    "start_time": "2022-08-21T18:05:15.871Z"
   },
   {
    "duration": 164727,
    "start_time": "2022-08-21T18:05:15.878Z"
   },
   {
    "duration": 5860,
    "start_time": "2022-08-21T18:08:00.608Z"
   },
   {
    "duration": 4305590,
    "start_time": "2022-08-21T18:08:06.470Z"
   },
   {
    "duration": 192,
    "start_time": "2022-08-21T19:19:52.062Z"
   },
   {
    "duration": 87149,
    "start_time": "2022-08-22T06:09:57.969Z"
   },
   {
    "duration": 2275,
    "start_time": "2022-08-22T06:11:25.120Z"
   },
   {
    "duration": 16,
    "start_time": "2022-08-22T06:11:27.396Z"
   },
   {
    "duration": 30,
    "start_time": "2022-08-22T06:11:27.413Z"
   },
   {
    "duration": 489,
    "start_time": "2022-08-22T06:11:27.445Z"
   },
   {
    "duration": 231,
    "start_time": "2022-08-22T06:11:27.936Z"
   },
   {
    "duration": 2513008,
    "start_time": "2022-08-22T06:11:28.171Z"
   },
   {
    "duration": 8,
    "start_time": "2022-08-22T06:53:21.181Z"
   },
   {
    "duration": 2637,
    "start_time": "2022-08-22T06:53:21.191Z"
   },
   {
    "duration": 113,
    "start_time": "2022-08-22T06:53:23.831Z"
   },
   {
    "duration": 86,
    "start_time": "2022-08-22T06:53:23.947Z"
   },
   {
    "duration": 5001223,
    "start_time": "2022-08-22T06:53:24.036Z"
   },
   {
    "duration": 11384,
    "start_time": "2022-08-22T08:16:45.262Z"
   },
   {
    "duration": 3,
    "start_time": "2022-08-22T08:16:56.648Z"
   },
   {
    "duration": 147335,
    "start_time": "2022-08-22T08:16:56.657Z"
   },
   {
    "duration": 472646,
    "start_time": "2022-08-22T08:19:23.993Z"
   },
   {
    "duration": 4660,
    "start_time": "2022-08-22T08:27:16.641Z"
   },
   {
    "duration": 6908378,
    "start_time": "2022-08-22T08:27:21.303Z"
   },
   {
    "duration": 34656,
    "start_time": "2022-08-22T10:22:29.683Z"
   },
   {
    "duration": 0,
    "start_time": "2022-08-22T10:23:04.341Z"
   },
   {
    "duration": 0,
    "start_time": "2022-08-22T10:23:04.345Z"
   },
   {
    "duration": 34399,
    "start_time": "2022-08-22T10:23:49.687Z"
   },
   {
    "duration": 2,
    "start_time": "2022-08-22T10:24:29.964Z"
   },
   {
    "duration": 54802,
    "start_time": "2022-08-22T11:40:02.802Z"
   },
   {
    "duration": 2193,
    "start_time": "2022-08-22T11:40:57.606Z"
   },
   {
    "duration": 19,
    "start_time": "2022-08-22T11:40:59.801Z"
   },
   {
    "duration": 31,
    "start_time": "2022-08-22T11:40:59.823Z"
   },
   {
    "duration": 698,
    "start_time": "2022-08-22T11:40:59.855Z"
   },
   {
    "duration": 249,
    "start_time": "2022-08-22T11:41:00.555Z"
   },
   {
    "duration": 241,
    "start_time": "2022-08-22T11:45:13.154Z"
   },
   {
    "duration": 2588725,
    "start_time": "2022-08-22T12:03:41.184Z"
   },
   {
    "duration": 8,
    "start_time": "2022-08-22T12:46:49.910Z"
   },
   {
    "duration": 2734,
    "start_time": "2022-08-22T12:46:49.920Z"
   },
   {
    "duration": 105,
    "start_time": "2022-08-22T12:46:52.656Z"
   },
   {
    "duration": 84,
    "start_time": "2022-08-22T12:46:52.762Z"
   },
   {
    "duration": 847028,
    "start_time": "2022-08-22T12:46:52.848Z"
   },
   {
    "duration": 29,
    "start_time": "2022-08-22T13:00:59.878Z"
   },
   {
    "duration": 0,
    "start_time": "2022-08-22T13:00:59.909Z"
   },
   {
    "duration": 5871,
    "start_time": "2022-08-22T13:01:19.564Z"
   },
   {
    "duration": 1972968,
    "start_time": "2022-08-22T13:01:31.740Z"
   },
   {
    "duration": 2,
    "start_time": "2022-08-22T13:49:58.336Z"
   },
   {
    "duration": 4,
    "start_time": "2022-08-22T13:50:02.565Z"
   },
   {
    "duration": 6,
    "start_time": "2022-08-22T13:50:53.657Z"
   },
   {
    "duration": 5,
    "start_time": "2022-08-22T13:50:58.470Z"
   },
   {
    "duration": 80516,
    "start_time": "2022-08-22T13:52:56.575Z"
   },
   {
    "duration": 261976,
    "start_time": "2022-08-22T13:54:42.085Z"
   },
   {
    "duration": 31,
    "start_time": "2022-08-22T14:03:14.960Z"
   },
   {
    "duration": 5,
    "start_time": "2022-08-22T14:03:18.809Z"
   },
   {
    "duration": 45729971,
    "start_time": "2022-08-22T14:04:31.103Z"
   },
   {
    "duration": 4,
    "start_time": "2022-08-23T06:47:42.075Z"
   },
   {
    "duration": 161,
    "start_time": "2022-08-23T06:48:07.404Z"
   },
   {
    "duration": 19,
    "start_time": "2022-08-23T06:48:44.971Z"
   },
   {
    "duration": 19,
    "start_time": "2022-08-23T06:49:21.438Z"
   },
   {
    "duration": 19,
    "start_time": "2022-08-23T06:49:26.555Z"
   },
   {
    "duration": 1728,
    "start_time": "2022-08-23T06:49:45.120Z"
   },
   {
    "duration": 1699,
    "start_time": "2022-08-23T06:50:04.370Z"
   },
   {
    "duration": 4,
    "start_time": "2022-08-23T06:50:57.744Z"
   },
   {
    "duration": 4,
    "start_time": "2022-08-23T06:55:27.086Z"
   },
   {
    "duration": 13,
    "start_time": "2022-08-23T07:10:19.915Z"
   }
  ],
  "colab": {
   "collapsed_sections": [],
   "name": "fe3663ac-1d5f-458d-8d89-2df09be50987.ipynb",
   "provenance": []
  },
  "kernelspec": {
   "display_name": "Python 3 (ipykernel)",
   "language": "python",
   "name": "python3"
  },
  "language_info": {
   "codemirror_mode": {
    "name": "ipython",
    "version": 3
   },
   "file_extension": ".py",
   "mimetype": "text/x-python",
   "name": "python",
   "nbconvert_exporter": "python",
   "pygments_lexer": "ipython3",
   "version": "3.9.7"
  },
  "toc": {
   "base_numbering": 1,
   "nav_menu": {},
   "number_sections": true,
   "sideBar": true,
   "skip_h1_title": true,
   "title_cell": "Содержание",
   "title_sidebar": "Contents",
   "toc_cell": true,
   "toc_position": {
    "height": "calc(100% - 180px)",
    "left": "10px",
    "top": "150px",
    "width": "302.391px"
   },
   "toc_section_display": true,
   "toc_window_display": false
  }
 },
 "nbformat": 4,
 "nbformat_minor": 1
}
