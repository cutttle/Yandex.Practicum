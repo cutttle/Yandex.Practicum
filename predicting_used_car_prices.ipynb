{
 "cells": [
  {
   "cell_type": "markdown",
   "id": "e27493a5",
   "metadata": {
    "toc": true
   },
   "source": [
    "<h1>Table of Contents<span class=\"tocSkip\"></span></h1>\n",
    "<div class=\"toc\"><ul class=\"toc-item\"><li><span><a href=\"#Обзор-и-предобработка-данных\" data-toc-modified-id=\"Обзор-и-предобработка-данных-1\"><span class=\"toc-item-num\">1&nbsp;&nbsp;</span>Обзор и предобработка данных</a></span><ul class=\"toc-item\"><li><span><a href=\"#Обзор-данных\" data-toc-modified-id=\"Обзор-данных-1.1\"><span class=\"toc-item-num\">1.1&nbsp;&nbsp;</span>Обзор данных</a></span></li><li><span><a href=\"#Предобработка-данных\" data-toc-modified-id=\"Предобработка-данных-1.2\"><span class=\"toc-item-num\">1.2&nbsp;&nbsp;</span>Предобработка данных</a></span></li><li><span><a href=\"#Подготовка-признаков\" data-toc-modified-id=\"Подготовка-признаков-1.3\"><span class=\"toc-item-num\">1.3&nbsp;&nbsp;</span>Подготовка признаков</a></span></li></ul></li><li><span><a href=\"#Обучение-моделей\" data-toc-modified-id=\"Обучение-моделей-2\"><span class=\"toc-item-num\">2&nbsp;&nbsp;</span>Обучение моделей</a></span></li><li><span><a href=\"#Итоговый-вывод\" data-toc-modified-id=\"Итоговый-вывод-3\"><span class=\"toc-item-num\">3&nbsp;&nbsp;</span>Итоговый вывод</a></span></li></ul></div>"
   ]
  },
  {
   "cell_type": "markdown",
   "id": "a8819f84",
   "metadata": {},
   "source": [
    "# Определение стоимости автомобилей"
   ]
  },
  {
   "cell_type": "markdown",
   "id": "a8057e67",
   "metadata": {},
   "source": [
    "Сервис по продаже автомобилей с пробегом «Не бит, не крашен» разрабатывает приложение для привлечения новых клиентов. В нём можно быстро узнать рыночную стоимость своего автомобиля. В нашем распоряжении исторические данные: технические характеристики, комплектации и цены автомобилей. Нужно построить модель для определения стоимости.\n",
    "Заказчику важны:\n",
    "* качество предсказания;\n",
    "* скорость предсказания;\n",
    "* время обучения."
   ]
  },
  {
   "cell_type": "markdown",
   "id": "d0a60e95",
   "metadata": {},
   "source": [
    "## Обзор и предобработка данных"
   ]
  },
  {
   "cell_type": "markdown",
   "id": "9c6230df",
   "metadata": {},
   "source": [
    "Импортируем необходимые инструменты:"
   ]
  },
  {
   "cell_type": "code",
   "execution_count": 1,
   "id": "0de91aff",
   "metadata": {
    "scrolled": false
   },
   "outputs": [],
   "source": [
    "import pandas as pd\n",
    "import category_encoders as ce\n",
    "import time\n",
    "import matplotlib.pyplot as plt\n",
    "\n",
    "from sklearn.model_selection import train_test_split\n",
    "from sklearn.preprocessing import StandardScaler\n",
    "from sklearn.model_selection import GridSearchCV\n",
    "from sklearn.linear_model import LinearRegression\n",
    "from sklearn.ensemble import RandomForestRegressor\n",
    "from sklearn.metrics import mean_squared_error as mse\n",
    "\n",
    "from catboost import CatBoostRegressor\n",
    "from lightgbm import LGBMRegressor\n",
    "\n",
    "import warnings\n",
    "warnings.filterwarnings('ignore')"
   ]
  },
  {
   "cell_type": "markdown",
   "id": "866171e8",
   "metadata": {},
   "source": [
    "### Обзор данных"
   ]
  },
  {
   "cell_type": "markdown",
   "id": "12f8a736",
   "metadata": {},
   "source": [
    "Загрузим и проанализируем исходные данные:"
   ]
  },
  {
   "cell_type": "code",
   "execution_count": 2,
   "id": "106a907c",
   "metadata": {},
   "outputs": [],
   "source": [
    "try:\n",
    "    df = pd.read_csv('/datasets/autos.csv')\n",
    "except: \n",
    "    df = pd.read_csv('autos.csv')"
   ]
  },
  {
   "cell_type": "code",
   "execution_count": 3,
   "id": "d143fe29",
   "metadata": {},
   "outputs": [
    {
     "name": "stdout",
     "output_type": "stream",
     "text": [
      "<class 'pandas.core.frame.DataFrame'>\n",
      "RangeIndex: 354369 entries, 0 to 354368\n",
      "Data columns (total 16 columns):\n",
      " #   Column             Non-Null Count   Dtype \n",
      "---  ------             --------------   ----- \n",
      " 0   DateCrawled        354369 non-null  object\n",
      " 1   Price              354369 non-null  int64 \n",
      " 2   VehicleType        316879 non-null  object\n",
      " 3   RegistrationYear   354369 non-null  int64 \n",
      " 4   Gearbox            334536 non-null  object\n",
      " 5   Power              354369 non-null  int64 \n",
      " 6   Model              334664 non-null  object\n",
      " 7   Kilometer          354369 non-null  int64 \n",
      " 8   RegistrationMonth  354369 non-null  int64 \n",
      " 9   FuelType           321474 non-null  object\n",
      " 10  Brand              354369 non-null  object\n",
      " 11  NotRepaired        283215 non-null  object\n",
      " 12  DateCreated        354369 non-null  object\n",
      " 13  NumberOfPictures   354369 non-null  int64 \n",
      " 14  PostalCode         354369 non-null  int64 \n",
      " 15  LastSeen           354369 non-null  object\n",
      "dtypes: int64(7), object(9)\n",
      "memory usage: 43.3+ MB\n"
     ]
    }
   ],
   "source": [
    "df.info()"
   ]
  },
  {
   "cell_type": "markdown",
   "id": "e905dfcc",
   "metadata": {},
   "source": [
    "В данных присутствуют пропуски, типы данных столбцов `DateCrawled`, `NotRepaired`, `DateCreated`, `LastSeen` не соответствуют хранимой в них информации."
   ]
  },
  {
   "cell_type": "code",
   "execution_count": 4,
   "id": "c462fb03",
   "metadata": {
    "scrolled": true
   },
   "outputs": [
    {
     "data": {
      "text/html": [
       "<div>\n",
       "<style scoped>\n",
       "    .dataframe tbody tr th:only-of-type {\n",
       "        vertical-align: middle;\n",
       "    }\n",
       "\n",
       "    .dataframe tbody tr th {\n",
       "        vertical-align: top;\n",
       "    }\n",
       "\n",
       "    .dataframe thead th {\n",
       "        text-align: right;\n",
       "    }\n",
       "</style>\n",
       "<table border=\"1\" class=\"dataframe\">\n",
       "  <thead>\n",
       "    <tr style=\"text-align: right;\">\n",
       "      <th></th>\n",
       "      <th>DateCrawled</th>\n",
       "      <th>Price</th>\n",
       "      <th>VehicleType</th>\n",
       "      <th>RegistrationYear</th>\n",
       "      <th>Gearbox</th>\n",
       "      <th>Power</th>\n",
       "      <th>Model</th>\n",
       "      <th>Kilometer</th>\n",
       "      <th>RegistrationMonth</th>\n",
       "      <th>FuelType</th>\n",
       "      <th>Brand</th>\n",
       "      <th>NotRepaired</th>\n",
       "      <th>DateCreated</th>\n",
       "      <th>NumberOfPictures</th>\n",
       "      <th>PostalCode</th>\n",
       "      <th>LastSeen</th>\n",
       "    </tr>\n",
       "  </thead>\n",
       "  <tbody>\n",
       "    <tr>\n",
       "      <th>0</th>\n",
       "      <td>2016-03-24 11:52:17</td>\n",
       "      <td>480</td>\n",
       "      <td>NaN</td>\n",
       "      <td>1993</td>\n",
       "      <td>manual</td>\n",
       "      <td>0</td>\n",
       "      <td>golf</td>\n",
       "      <td>150000</td>\n",
       "      <td>0</td>\n",
       "      <td>petrol</td>\n",
       "      <td>volkswagen</td>\n",
       "      <td>NaN</td>\n",
       "      <td>2016-03-24 00:00:00</td>\n",
       "      <td>0</td>\n",
       "      <td>70435</td>\n",
       "      <td>2016-04-07 03:16:57</td>\n",
       "    </tr>\n",
       "    <tr>\n",
       "      <th>1</th>\n",
       "      <td>2016-03-24 10:58:45</td>\n",
       "      <td>18300</td>\n",
       "      <td>coupe</td>\n",
       "      <td>2011</td>\n",
       "      <td>manual</td>\n",
       "      <td>190</td>\n",
       "      <td>NaN</td>\n",
       "      <td>125000</td>\n",
       "      <td>5</td>\n",
       "      <td>gasoline</td>\n",
       "      <td>audi</td>\n",
       "      <td>yes</td>\n",
       "      <td>2016-03-24 00:00:00</td>\n",
       "      <td>0</td>\n",
       "      <td>66954</td>\n",
       "      <td>2016-04-07 01:46:50</td>\n",
       "    </tr>\n",
       "    <tr>\n",
       "      <th>2</th>\n",
       "      <td>2016-03-14 12:52:21</td>\n",
       "      <td>9800</td>\n",
       "      <td>suv</td>\n",
       "      <td>2004</td>\n",
       "      <td>auto</td>\n",
       "      <td>163</td>\n",
       "      <td>grand</td>\n",
       "      <td>125000</td>\n",
       "      <td>8</td>\n",
       "      <td>gasoline</td>\n",
       "      <td>jeep</td>\n",
       "      <td>NaN</td>\n",
       "      <td>2016-03-14 00:00:00</td>\n",
       "      <td>0</td>\n",
       "      <td>90480</td>\n",
       "      <td>2016-04-05 12:47:46</td>\n",
       "    </tr>\n",
       "    <tr>\n",
       "      <th>3</th>\n",
       "      <td>2016-03-17 16:54:04</td>\n",
       "      <td>1500</td>\n",
       "      <td>small</td>\n",
       "      <td>2001</td>\n",
       "      <td>manual</td>\n",
       "      <td>75</td>\n",
       "      <td>golf</td>\n",
       "      <td>150000</td>\n",
       "      <td>6</td>\n",
       "      <td>petrol</td>\n",
       "      <td>volkswagen</td>\n",
       "      <td>no</td>\n",
       "      <td>2016-03-17 00:00:00</td>\n",
       "      <td>0</td>\n",
       "      <td>91074</td>\n",
       "      <td>2016-03-17 17:40:17</td>\n",
       "    </tr>\n",
       "    <tr>\n",
       "      <th>4</th>\n",
       "      <td>2016-03-31 17:25:20</td>\n",
       "      <td>3600</td>\n",
       "      <td>small</td>\n",
       "      <td>2008</td>\n",
       "      <td>manual</td>\n",
       "      <td>69</td>\n",
       "      <td>fabia</td>\n",
       "      <td>90000</td>\n",
       "      <td>7</td>\n",
       "      <td>gasoline</td>\n",
       "      <td>skoda</td>\n",
       "      <td>no</td>\n",
       "      <td>2016-03-31 00:00:00</td>\n",
       "      <td>0</td>\n",
       "      <td>60437</td>\n",
       "      <td>2016-04-06 10:17:21</td>\n",
       "    </tr>\n",
       "  </tbody>\n",
       "</table>\n",
       "</div>"
      ],
      "text/plain": [
       "           DateCrawled  Price VehicleType  RegistrationYear Gearbox  Power  \\\n",
       "0  2016-03-24 11:52:17    480         NaN              1993  manual      0   \n",
       "1  2016-03-24 10:58:45  18300       coupe              2011  manual    190   \n",
       "2  2016-03-14 12:52:21   9800         suv              2004    auto    163   \n",
       "3  2016-03-17 16:54:04   1500       small              2001  manual     75   \n",
       "4  2016-03-31 17:25:20   3600       small              2008  manual     69   \n",
       "\n",
       "   Model  Kilometer  RegistrationMonth  FuelType       Brand NotRepaired  \\\n",
       "0   golf     150000                  0    petrol  volkswagen         NaN   \n",
       "1    NaN     125000                  5  gasoline        audi         yes   \n",
       "2  grand     125000                  8  gasoline        jeep         NaN   \n",
       "3   golf     150000                  6    petrol  volkswagen          no   \n",
       "4  fabia      90000                  7  gasoline       skoda          no   \n",
       "\n",
       "           DateCreated  NumberOfPictures  PostalCode             LastSeen  \n",
       "0  2016-03-24 00:00:00                 0       70435  2016-04-07 03:16:57  \n",
       "1  2016-03-24 00:00:00                 0       66954  2016-04-07 01:46:50  \n",
       "2  2016-03-14 00:00:00                 0       90480  2016-04-05 12:47:46  \n",
       "3  2016-03-17 00:00:00                 0       91074  2016-03-17 17:40:17  \n",
       "4  2016-03-31 00:00:00                 0       60437  2016-04-06 10:17:21  "
      ]
     },
     "execution_count": 4,
     "metadata": {},
     "output_type": "execute_result"
    }
   ],
   "source": [
    "df.head()"
   ]
  },
  {
   "cell_type": "code",
   "execution_count": 5,
   "id": "85c54d66",
   "metadata": {},
   "outputs": [
    {
     "data": {
      "text/plain": [
       "no     247161\n",
       "yes     36054\n",
       "Name: NotRepaired, dtype: int64"
      ]
     },
     "execution_count": 5,
     "metadata": {},
     "output_type": "execute_result"
    }
   ],
   "source": [
    "df['NotRepaired'].value_counts()"
   ]
  },
  {
   "cell_type": "markdown",
   "id": "b083d272",
   "metadata": {},
   "source": [
    "Данные в столбце `NotRepaired` удобнее заменить на единицу и ноль, где единица означает, что машина ремонтировалась, а ноль, что нет."
   ]
  },
  {
   "cell_type": "code",
   "execution_count": 6,
   "id": "3f7f966c",
   "metadata": {
    "scrolled": true
   },
   "outputs": [
    {
     "data": {
      "text/plain": [
       "DateCrawled              0\n",
       "Price                    0\n",
       "VehicleType          37490\n",
       "RegistrationYear         0\n",
       "Gearbox              19833\n",
       "Power                    0\n",
       "Model                19705\n",
       "Kilometer                0\n",
       "RegistrationMonth        0\n",
       "FuelType             32895\n",
       "Brand                    0\n",
       "NotRepaired          71154\n",
       "DateCreated              0\n",
       "NumberOfPictures         0\n",
       "PostalCode               0\n",
       "LastSeen                 0\n",
       "dtype: int64"
      ]
     },
     "execution_count": 6,
     "metadata": {},
     "output_type": "execute_result"
    }
   ],
   "source": [
    "df.isna().sum()"
   ]
  },
  {
   "cell_type": "markdown",
   "id": "101963e0",
   "metadata": {},
   "source": [
    "В пяти столбцах присутствует большое количество пропусков. Пропуски в `NoRepaired`, вероятно, означают отсутствие ремонта. Пропуски в остальных столбцах указывают только на отсутствие информации, нужно подобрать методы для их заполнения."
   ]
  },
  {
   "cell_type": "code",
   "execution_count": 7,
   "id": "13abd31a",
   "metadata": {},
   "outputs": [
    {
     "data": {
      "text/plain": [
       "4"
      ]
     },
     "execution_count": 7,
     "metadata": {},
     "output_type": "execute_result"
    }
   ],
   "source": [
    "df.duplicated().sum()"
   ]
  },
  {
   "cell_type": "markdown",
   "id": "e9a563d0",
   "metadata": {},
   "source": [
    "В данных присутствуют дубликаты."
   ]
  },
  {
   "cell_type": "code",
   "execution_count": 8,
   "id": "bf03c3e3",
   "metadata": {
    "scrolled": false
   },
   "outputs": [
    {
     "data": {
      "text/html": [
       "<div>\n",
       "<style scoped>\n",
       "    .dataframe tbody tr th:only-of-type {\n",
       "        vertical-align: middle;\n",
       "    }\n",
       "\n",
       "    .dataframe tbody tr th {\n",
       "        vertical-align: top;\n",
       "    }\n",
       "\n",
       "    .dataframe thead th {\n",
       "        text-align: right;\n",
       "    }\n",
       "</style>\n",
       "<table border=\"1\" class=\"dataframe\">\n",
       "  <thead>\n",
       "    <tr style=\"text-align: right;\">\n",
       "      <th></th>\n",
       "      <th>Price</th>\n",
       "      <th>RegistrationYear</th>\n",
       "      <th>Power</th>\n",
       "      <th>Kilometer</th>\n",
       "      <th>RegistrationMonth</th>\n",
       "      <th>NumberOfPictures</th>\n",
       "      <th>PostalCode</th>\n",
       "    </tr>\n",
       "  </thead>\n",
       "  <tbody>\n",
       "    <tr>\n",
       "      <th>count</th>\n",
       "      <td>354369.000000</td>\n",
       "      <td>354369.000000</td>\n",
       "      <td>354369.000000</td>\n",
       "      <td>354369.000000</td>\n",
       "      <td>354369.000000</td>\n",
       "      <td>354369.0</td>\n",
       "      <td>354369.000000</td>\n",
       "    </tr>\n",
       "    <tr>\n",
       "      <th>mean</th>\n",
       "      <td>4416.656776</td>\n",
       "      <td>2004.234448</td>\n",
       "      <td>110.094337</td>\n",
       "      <td>128211.172535</td>\n",
       "      <td>5.714645</td>\n",
       "      <td>0.0</td>\n",
       "      <td>50508.689087</td>\n",
       "    </tr>\n",
       "    <tr>\n",
       "      <th>std</th>\n",
       "      <td>4514.158514</td>\n",
       "      <td>90.227958</td>\n",
       "      <td>189.850405</td>\n",
       "      <td>37905.341530</td>\n",
       "      <td>3.726421</td>\n",
       "      <td>0.0</td>\n",
       "      <td>25783.096248</td>\n",
       "    </tr>\n",
       "    <tr>\n",
       "      <th>min</th>\n",
       "      <td>0.000000</td>\n",
       "      <td>1000.000000</td>\n",
       "      <td>0.000000</td>\n",
       "      <td>5000.000000</td>\n",
       "      <td>0.000000</td>\n",
       "      <td>0.0</td>\n",
       "      <td>1067.000000</td>\n",
       "    </tr>\n",
       "    <tr>\n",
       "      <th>25%</th>\n",
       "      <td>1050.000000</td>\n",
       "      <td>1999.000000</td>\n",
       "      <td>69.000000</td>\n",
       "      <td>125000.000000</td>\n",
       "      <td>3.000000</td>\n",
       "      <td>0.0</td>\n",
       "      <td>30165.000000</td>\n",
       "    </tr>\n",
       "    <tr>\n",
       "      <th>50%</th>\n",
       "      <td>2700.000000</td>\n",
       "      <td>2003.000000</td>\n",
       "      <td>105.000000</td>\n",
       "      <td>150000.000000</td>\n",
       "      <td>6.000000</td>\n",
       "      <td>0.0</td>\n",
       "      <td>49413.000000</td>\n",
       "    </tr>\n",
       "    <tr>\n",
       "      <th>75%</th>\n",
       "      <td>6400.000000</td>\n",
       "      <td>2008.000000</td>\n",
       "      <td>143.000000</td>\n",
       "      <td>150000.000000</td>\n",
       "      <td>9.000000</td>\n",
       "      <td>0.0</td>\n",
       "      <td>71083.000000</td>\n",
       "    </tr>\n",
       "    <tr>\n",
       "      <th>max</th>\n",
       "      <td>20000.000000</td>\n",
       "      <td>9999.000000</td>\n",
       "      <td>20000.000000</td>\n",
       "      <td>150000.000000</td>\n",
       "      <td>12.000000</td>\n",
       "      <td>0.0</td>\n",
       "      <td>99998.000000</td>\n",
       "    </tr>\n",
       "  </tbody>\n",
       "</table>\n",
       "</div>"
      ],
      "text/plain": [
       "               Price  RegistrationYear          Power      Kilometer  \\\n",
       "count  354369.000000     354369.000000  354369.000000  354369.000000   \n",
       "mean     4416.656776       2004.234448     110.094337  128211.172535   \n",
       "std      4514.158514         90.227958     189.850405   37905.341530   \n",
       "min         0.000000       1000.000000       0.000000    5000.000000   \n",
       "25%      1050.000000       1999.000000      69.000000  125000.000000   \n",
       "50%      2700.000000       2003.000000     105.000000  150000.000000   \n",
       "75%      6400.000000       2008.000000     143.000000  150000.000000   \n",
       "max     20000.000000       9999.000000   20000.000000  150000.000000   \n",
       "\n",
       "       RegistrationMonth  NumberOfPictures     PostalCode  \n",
       "count      354369.000000          354369.0  354369.000000  \n",
       "mean            5.714645               0.0   50508.689087  \n",
       "std             3.726421               0.0   25783.096248  \n",
       "min             0.000000               0.0    1067.000000  \n",
       "25%             3.000000               0.0   30165.000000  \n",
       "50%             6.000000               0.0   49413.000000  \n",
       "75%             9.000000               0.0   71083.000000  \n",
       "max            12.000000               0.0   99998.000000  "
      ]
     },
     "execution_count": 8,
     "metadata": {},
     "output_type": "execute_result"
    }
   ],
   "source": [
    "df.describe()"
   ]
  },
  {
   "cell_type": "markdown",
   "id": "0ebc8bcd",
   "metadata": {},
   "source": [
    "В столбцах `Price`, `RegistrationYear`, `Power`, `RegistrationMonth` присутствуют аномалии. Столбец `NumberOfPictures` содержит только нулевые значения, практической пользы он не несет."
   ]
  },
  {
   "cell_type": "markdown",
   "id": "b06033dd",
   "metadata": {},
   "source": [
    "Проанализируем подробнее распределения столбцов `Price`, `Kilometer`, `RegistrationYear`, `RegistrationMonth`, `Power`:"
   ]
  },
  {
   "cell_type": "code",
   "execution_count": 11,
   "id": "edcb1b1e",
   "metadata": {},
   "outputs": [
    {
     "data": {
      "image/png": "[encoded data removed]",
      "text/plain": [
       "<Figure size 432x288 with 1 Axes>"
      ]
     },
     "metadata": {
      "needs_background": "light"
     },
     "output_type": "display_data"
    }
   ],
   "source": [
    "df['Price'].hist(bins=50)\n",
    "plt.title('Распределение цен');"
   ]
  },
  {
   "cell_type": "code",
   "execution_count": 12,
   "id": "dcc57661",
   "metadata": {
    "scrolled": false
   },
   "outputs": [
    {
     "data": {
      "text/plain": [
       "0        10772\n",
       "500       5670\n",
       "1500      5394\n",
       "1000      4649\n",
       "1200      4594\n",
       "         ...  \n",
       "1368         1\n",
       "233          1\n",
       "11080        1\n",
       "16340        1\n",
       "10985        1\n",
       "Name: Price, Length: 3731, dtype: int64"
      ]
     },
     "execution_count": 12,
     "metadata": {},
     "output_type": "execute_result"
    }
   ],
   "source": [
    "df['Price'].value_counts()"
   ]
  },
  {
   "cell_type": "markdown",
   "id": "cb961734",
   "metadata": {},
   "source": [
    "В целевой переменной присутствуют нулевые значения, однако, они составляют менее 3% от размера датасета. Целевая переменная напрямую влияет на результат, поэтому не будем пытаться заменить нулевые значения на медиану или среднее, а просто удалим содержащие их строки."
   ]
  },
  {
   "cell_type": "code",
   "execution_count": 14,
   "id": "d3394143",
   "metadata": {
    "scrolled": true
   },
   "outputs": [
    {
     "data": {
      "image/png": "[encoded data removed]",
      "text/plain": [
       "<Figure size 432x288 with 1 Axes>"
      ]
     },
     "metadata": {
      "needs_background": "light"
     },
     "output_type": "display_data"
    }
   ],
   "source": [
    "df['Kilometer'].hist(bins=20)\n",
    "plt.title('Распределение пробега');"
   ]
  },
  {
   "cell_type": "markdown",
   "id": "cd909051",
   "metadata": {},
   "source": [
    "Большая часть машин с большим пробегом, что объяснимо: машины редко продают сразу после покупки."
   ]
  },
  {
   "cell_type": "code",
   "execution_count": 17,
   "id": "1cb2ef62",
   "metadata": {
    "scrolled": false
   },
   "outputs": [
    {
     "data": {
      "text/plain": [
       "count    354369.000000\n",
       "mean       2004.234448\n",
       "std          90.227958\n",
       "min        1000.000000\n",
       "25%        1999.000000\n",
       "50%        2003.000000\n",
       "75%        2008.000000\n",
       "max        9999.000000\n",
       "Name: RegistrationYear, dtype: float64"
      ]
     },
     "execution_count": 17,
     "metadata": {},
     "output_type": "execute_result"
    },
    {
     "data": {
      "image/png": "[encoded data removed]",
      "text/plain": [
       "<Figure size 432x288 with 1 Axes>"
      ]
     },
     "metadata": {
      "needs_background": "light"
     },
     "output_type": "display_data"
    }
   ],
   "source": [
    "df['RegistrationYear'].hist()\n",
    "plt.title('Распределение времени регистрации');\n",
    "df['RegistrationYear'].describe()"
   ]
  },
  {
   "cell_type": "markdown",
   "id": "4e18d9cf",
   "metadata": {},
   "source": [
    "В столбце присутствуют аномалии, сузим диапазон значений до реальных:"
   ]
  },
  {
   "cell_type": "code",
   "execution_count": 22,
   "id": "c0fba8cd",
   "metadata": {
    "scrolled": true
   },
   "outputs": [
    {
     "data": {
      "image/png": "[encoded data removed]",
      "text/plain": [
       "<Figure size 432x288 with 1 Axes>"
      ]
     },
     "metadata": {
      "needs_background": "light"
     },
     "output_type": "display_data"
    }
   ],
   "source": [
    "df.query('RegistrationYear < 2023 & RegistrationYear > 1950 ')['RegistrationYear'].hist(bins=40)\n",
    "plt.title('Распределение времени регистрации');"
   ]
  },
  {
   "cell_type": "markdown",
   "id": "32a7d03f",
   "metadata": {},
   "source": [
    "Узнаем, в каком году была сделана выгрузка данных, чтобы отсечь аномалии:"
   ]
  },
  {
   "cell_type": "code",
   "execution_count": 19,
   "id": "e6bd8297",
   "metadata": {},
   "outputs": [
    {
     "data": {
      "text/plain": [
       "Int64Index([2016], dtype='int64', name='DateCrawled')"
      ]
     },
     "execution_count": 19,
     "metadata": {},
     "output_type": "execute_result"
    }
   ],
   "source": [
    "df['DateCrawled'] = pd.to_datetime(df['DateCrawled'], format='%Y-%m-%d %H:%M:%S')\n",
    "pd.DatetimeIndex(df['DateCrawled']).year.unique()"
   ]
  },
  {
   "cell_type": "markdown",
   "id": "a194efa1",
   "metadata": {},
   "source": [
    "Чаще всего продают машины, зарегистрированные в период с 1995 до 2010 года. Данные машин с годом регистрации больше 2016 являются аномальными, т.к. выгрузка данных сделана в 2016 г. Найдем нижнюю границу выбросов с помощью диаграммы размаха:"
   ]
  },
  {
   "cell_type": "code",
   "execution_count": 23,
   "id": "05811c0c",
   "metadata": {
    "scrolled": true
   },
   "outputs": [
    {
     "data": {
      "image/png": "[encoded data removed]",
      "text/plain": [
       "<Figure size 432x288 with 1 Axes>"
      ]
     },
     "metadata": {
      "needs_background": "light"
     },
     "output_type": "display_data"
    }
   ],
   "source": [
    "df.boxplot(column='RegistrationYear')\n",
    "plt.ylim(1950, 2030);"
   ]
  },
  {
   "cell_type": "markdown",
   "id": "04850b17",
   "metadata": {},
   "source": [
    "Данные машин с годом регистрации до 1985 являются выбросами, удалим их на этапе предобработки."
   ]
  },
  {
   "cell_type": "code",
   "execution_count": 24,
   "id": "dd4a3da2",
   "metadata": {
    "scrolled": true
   },
   "outputs": [
    {
     "data": {
      "text/plain": [
       "Text(0.5, 1.0, 'Распределение времени регистрации по месяцам')"
      ]
     },
     "execution_count": 24,
     "metadata": {},
     "output_type": "execute_result"
    },
    {
     "data": {
      "image/png": "[encoded data removed]",
      "text/plain": [
       "<Figure size 432x288 with 1 Axes>"
      ]
     },
     "metadata": {
      "needs_background": "light"
     },
     "output_type": "display_data"
    }
   ],
   "source": [
    "df.groupby('RegistrationMonth')['Kilometer'].count().plot(kind='bar')\n",
    "plt.title('Распределение времени регистрации по месяцам')"
   ]
  },
  {
   "cell_type": "code",
   "execution_count": 26,
   "id": "bb633bcf",
   "metadata": {},
   "outputs": [
    {
     "data": {
      "text/plain": [
       "Text(0.5, 1.0, 'Распределение времени регистрации по месяцам')"
      ]
     },
     "execution_count": 26,
     "metadata": {},
     "output_type": "execute_result"
    },
    {
     "data": {
      "image/png": "[encoded data removed]",
      "text/plain": [
       "<Figure size 432x288 with 1 Axes>"
      ]
     },
     "metadata": {
      "needs_background": "light"
     },
     "output_type": "display_data"
    }
   ],
   "source": [
    "df.query('RegistrationMonth != 0').groupby('RegistrationMonth')['Kilometer'].count().plot(kind='bar')\n",
    "plt.title('Распределение времени регистрации по месяцам')"
   ]
  },
  {
   "cell_type": "markdown",
   "id": "a93e399b",
   "metadata": {},
   "source": [
    "Распределение продаж по месяцам близко к равномерному, а потому заполнить нулевые значения какими-то данными, близкими к реальным, не представляется возможным."
   ]
  },
  {
   "cell_type": "code",
   "execution_count": 29,
   "id": "421d2443",
   "metadata": {
    "scrolled": true
   },
   "outputs": [
    {
     "data": {
      "text/plain": [
       "count    354369.000000\n",
       "mean        110.094337\n",
       "std         189.850405\n",
       "min           0.000000\n",
       "25%          69.000000\n",
       "50%         105.000000\n",
       "75%         143.000000\n",
       "max       20000.000000\n",
       "Name: Power, dtype: float64"
      ]
     },
     "execution_count": 29,
     "metadata": {},
     "output_type": "execute_result"
    },
    {
     "data": {
      "image/png": "[encoded data removed]",
      "text/plain": [
       "<Figure size 432x288 with 1 Axes>"
      ]
     },
     "metadata": {
      "needs_background": "light"
     },
     "output_type": "display_data"
    }
   ],
   "source": [
    "df['Power'].hist()\n",
    "plt.title('Распределение мощностей')\n",
    "df['Power'].describe()"
   ]
  },
  {
   "cell_type": "markdown",
   "id": "df8f7502",
   "metadata": {},
   "source": [
    "В столбце присутствуют аномалии, сузим диапазон значений до реальных:"
   ]
  },
  {
   "cell_type": "code",
   "execution_count": 31,
   "id": "5e8fa50a",
   "metadata": {
    "scrolled": true
   },
   "outputs": [
    {
     "data": {
      "image/png": "[encoded data removed]",
      "text/plain": [
       "<Figure size 432x288 with 1 Axes>"
      ]
     },
     "metadata": {
      "needs_background": "light"
     },
     "output_type": "display_data"
    }
   ],
   "source": [
    "df.query('(Power < 800) & (Power > 0)')['Power'].hist(bins=50)\n",
    "plt.title('Распределение мощностей');"
   ]
  },
  {
   "cell_type": "code",
   "execution_count": 32,
   "id": "d5c2e84d",
   "metadata": {
    "scrolled": false
   },
   "outputs": [
    {
     "data": {
      "text/plain": [
       "0       40225\n",
       "75      24023\n",
       "60      15897\n",
       "150     14590\n",
       "101     13298\n",
       "        ...  \n",
       "610         1\n",
       "6006        1\n",
       "5815        1\n",
       "6018        1\n",
       "1241        1\n",
       "Name: Power, Length: 712, dtype: int64"
      ]
     },
     "execution_count": 32,
     "metadata": {},
     "output_type": "execute_result"
    }
   ],
   "source": [
    "df['Power'].value_counts()"
   ]
  },
  {
   "cell_type": "markdown",
   "id": "b8ba95e8",
   "metadata": {},
   "source": [
    "Построим диаграмму размаха:"
   ]
  },
  {
   "cell_type": "code",
   "execution_count": 34,
   "id": "951e9cd2",
   "metadata": {
    "scrolled": true
   },
   "outputs": [
    {
     "data": {
      "image/png": "[encoded data removed]",
      "text/plain": [
       "<Figure size 432x288 with 1 Axes>"
      ]
     },
     "metadata": {
      "needs_background": "light"
     },
     "output_type": "display_data"
    }
   ],
   "source": [
    "df.boxplot(column='Power')\n",
    "plt.ylim(0, 500);"
   ]
  },
  {
   "cell_type": "markdown",
   "id": "e13196da",
   "metadata": {},
   "source": [
    "В столбце присутствует большое количество нулевых значений, нужно найти метод для их замены. Также, стоит удалить выбросы."
   ]
  },
  {
   "cell_type": "markdown",
   "id": "cd052467",
   "metadata": {},
   "source": [
    "**Вывод**\n",
    "\n",
    "В ходе анализа исходных данных обнаружены следующие проблемы:\n",
    "* пропуски в столбцах `VehicleType`, `Gearbox`, `Model`, `FuelType`, `NotRepaired`;\n",
    "* аномалии в столбцах `Price`, `Power`, `RegistrationYear`;\n",
    "* ошибочные типы данных в столбцах `DateCrawled`, `DateCreated`, `LastSeen`, `NoRepaired`;\n",
    "* дубликаты;\n",
    "* столбцы, не несущие полезной информации."
   ]
  },
  {
   "cell_type": "markdown",
   "id": "a28a19fa",
   "metadata": {},
   "source": [
    "### Предобработка данных"
   ]
  },
  {
   "cell_type": "markdown",
   "id": "1eb2503b",
   "metadata": {},
   "source": [
    "Удалим дубликаты в данных:"
   ]
  },
  {
   "cell_type": "code",
   "execution_count": 35,
   "id": "a5ca7f0f",
   "metadata": {},
   "outputs": [],
   "source": [
    "df = df.drop_duplicates().reset_index(drop=True)"
   ]
  },
  {
   "cell_type": "markdown",
   "id": "4341bf62",
   "metadata": {},
   "source": [
    "Удалим столбцы, которые не пригодятся при построении моделей:\n",
    "* `DateCrawled`, \n",
    "* `RegistrationMonth`, \n",
    "* `DateCreated`, \n",
    "* `NumberOfPictures`, \n",
    "* `LastSeen`.\n",
    "\n",
    "Индексы столбца `PostalCode`, определяющие регион продажи машины, могут повлиять на цену, т.к. цены в разных регионах возможно отличаются. Несмотря на то, что значения этого столбца численные, индекс - категориальная переменная, которую придется закодировать. Значений у индекса много, какой-либо градации нет, поэтому закодировать его непросто. Проверим, действительно ли индекс влияет на цену и исходя из этого определим удалять столбец или нет."
   ]
  },
  {
   "cell_type": "code",
   "execution_count": 36,
   "id": "02582dc4",
   "metadata": {},
   "outputs": [],
   "source": [
    "df = df.drop(columns=['DateCrawled', 'RegistrationMonth', 'DateCreated', 'NumberOfPictures', 'LastSeen'])"
   ]
  },
  {
   "cell_type": "markdown",
   "id": "a084898d",
   "metadata": {},
   "source": [
    "Сложно определить, чем вызваны аномально низкие значения цены: ошибкой при заполнении информации, продажей машины на металлолом или другими причинами. Целевой признак напрямую влияет на точность модели, поэтому, вместо изменения данных на возможно ошибочные значения, просто удалим их:"
   ]
  },
  {
   "cell_type": "code",
   "execution_count": 37,
   "id": "38ab40cc",
   "metadata": {
    "scrolled": false
   },
   "outputs": [
    {
     "name": "stdout",
     "output_type": "stream",
     "text": [
      "Размер датасета до удаления (354365, 11)\n",
      "Размер датасета после удаления (341051, 11)\n"
     ]
    }
   ],
   "source": [
    "print('Размер датасета до удаления', df.shape)\n",
    "df = df.query('Price >= 100')\n",
    "print('Размер датасета после удаления', df.shape)"
   ]
  },
  {
   "cell_type": "markdown",
   "id": "6bf1f0b9",
   "metadata": {},
   "source": [
    "Удалим аномалии в столбце `RegistrationYear`:"
   ]
  },
  {
   "cell_type": "code",
   "execution_count": 38,
   "id": "37ea995a",
   "metadata": {
    "scrolled": true
   },
   "outputs": [
    {
     "name": "stdout",
     "output_type": "stream",
     "text": [
      "Размер датасета до удаления (341051, 11)\n",
      "Размер датасета после удаления (322509, 11)\n"
     ]
    }
   ],
   "source": [
    "print('Размер датасета до удаления', df.shape)\n",
    "df = df.query('(RegistrationYear > 1984) & (RegistrationYear < 2017)')\n",
    "print('Размер датасета после удаления', df.shape)"
   ]
  },
  {
   "cell_type": "markdown",
   "id": "e9dd358d",
   "metadata": {},
   "source": [
    "Заполним пропуски в столбце `Model` на категорию `other`: "
   ]
  },
  {
   "cell_type": "code",
   "execution_count": 39,
   "id": "1b270508",
   "metadata": {
    "scrolled": true
   },
   "outputs": [],
   "source": [
    "df.loc[pd.isna(df.Model),'Model'] = 'other'"
   ]
  },
  {
   "cell_type": "markdown",
   "id": "0f285f19",
   "metadata": {},
   "source": [
    "Заменим аномальные значения в столбце `Power` на медиану значений соответствующей модели, если она указана, а пропуски в столбцах `VehicleType`, `Gearbox`, `FuelType` самыми популярными значениями для конкретной модели:"
   ]
  },
  {
   "cell_type": "code",
   "execution_count": 40,
   "id": "af883095",
   "metadata": {},
   "outputs": [],
   "source": [
    "models = [x for x in df['Model'].unique() if x == x]\n",
    "for model in models:\n",
    "    df_model = df.loc[df.Model == model]\n",
    "    df.loc[(df.Model == model) & ((df.Power < 50) | (df.Power > 400)),'Power'] = df_model['Power'].median()\n",
    "    df.loc[(df.Model == model) & (pd.isna(df.VehicleType)),'VehicleType'] = df_model.mode()[\"VehicleType\"][0]\n",
    "    df.loc[(df.Model == model) & (pd.isna(df.Gearbox)),'Gearbox'] = df_model.mode()[\"Gearbox\"][0]\n",
    "    df.loc[(df.Model == model) & (pd.isna(df.FuelType)),'FuelType'] = df_model.mode()[\"FuelType\"][0]"
   ]
  },
  {
   "cell_type": "code",
   "execution_count": 41,
   "id": "13a6f8e2",
   "metadata": {
    "scrolled": false
   },
   "outputs": [
    {
     "data": {
      "text/plain": [
       "Price                   0\n",
       "VehicleType             0\n",
       "RegistrationYear        0\n",
       "Gearbox                 0\n",
       "Power                   0\n",
       "Model                   0\n",
       "Kilometer               0\n",
       "FuelType                0\n",
       "Brand                   0\n",
       "NotRepaired         57081\n",
       "PostalCode              0\n",
       "dtype: int64"
      ]
     },
     "execution_count": 41,
     "metadata": {},
     "output_type": "execute_result"
    }
   ],
   "source": [
    "df.isna().sum()"
   ]
  },
  {
   "cell_type": "markdown",
   "id": "f6d2ed73",
   "metadata": {},
   "source": [
    "Заменим значения столбца `NotRepaired`, предварительно заполнив пропуски нулями:"
   ]
  },
  {
   "cell_type": "code",
   "execution_count": 42,
   "id": "80cc4ed1",
   "metadata": {
    "scrolled": true
   },
   "outputs": [],
   "source": [
    "df['NotRepaired'] = df['NotRepaired'].fillna(0)\n",
    "df.loc[df.NotRepaired == 'no', 'NotRepaired'] = 0\n",
    "df.loc[df.NotRepaired == 'yes', 'NotRepaired'] = 1\n",
    "df['NotRepaired'] = df['NotRepaired'].astype('int')"
   ]
  },
  {
   "cell_type": "code",
   "execution_count": 43,
   "id": "95d442b6",
   "metadata": {
    "scrolled": true
   },
   "outputs": [
    {
     "data": {
      "text/plain": [
       "Price               0\n",
       "VehicleType         0\n",
       "RegistrationYear    0\n",
       "Gearbox             0\n",
       "Power               0\n",
       "Model               0\n",
       "Kilometer           0\n",
       "FuelType            0\n",
       "Brand               0\n",
       "NotRepaired         0\n",
       "PostalCode          0\n",
       "dtype: int64"
      ]
     },
     "execution_count": 43,
     "metadata": {},
     "output_type": "execute_result"
    }
   ],
   "source": [
    "df.isna().sum()"
   ]
  },
  {
   "cell_type": "markdown",
   "id": "49b95577",
   "metadata": {},
   "source": [
    "Пропуски в данных устранены."
   ]
  },
  {
   "cell_type": "code",
   "execution_count": 44,
   "id": "51e328bb",
   "metadata": {
    "scrolled": true
   },
   "outputs": [
    {
     "data": {
      "text/html": [
       "<div>\n",
       "<style scoped>\n",
       "    .dataframe tbody tr th:only-of-type {\n",
       "        vertical-align: middle;\n",
       "    }\n",
       "\n",
       "    .dataframe tbody tr th {\n",
       "        vertical-align: top;\n",
       "    }\n",
       "\n",
       "    .dataframe thead th {\n",
       "        text-align: right;\n",
       "    }\n",
       "</style>\n",
       "<table border=\"1\" class=\"dataframe\">\n",
       "  <thead>\n",
       "    <tr style=\"text-align: right;\">\n",
       "      <th></th>\n",
       "      <th>Price</th>\n",
       "      <th>RegistrationYear</th>\n",
       "      <th>Power</th>\n",
       "      <th>Kilometer</th>\n",
       "      <th>NotRepaired</th>\n",
       "      <th>PostalCode</th>\n",
       "    </tr>\n",
       "  </thead>\n",
       "  <tbody>\n",
       "    <tr>\n",
       "      <th>count</th>\n",
       "      <td>322509.000000</td>\n",
       "      <td>322509.000000</td>\n",
       "      <td>322509.000000</td>\n",
       "      <td>322509.000000</td>\n",
       "      <td>322509.000000</td>\n",
       "      <td>322509.000000</td>\n",
       "    </tr>\n",
       "    <tr>\n",
       "      <th>mean</th>\n",
       "      <td>4609.673711</td>\n",
       "      <td>2003.049704</td>\n",
       "      <td>119.469150</td>\n",
       "      <td>128853.194795</td>\n",
       "      <td>0.099145</td>\n",
       "      <td>50795.850116</td>\n",
       "    </tr>\n",
       "    <tr>\n",
       "      <th>std</th>\n",
       "      <td>4528.070364</td>\n",
       "      <td>5.824393</td>\n",
       "      <td>50.934772</td>\n",
       "      <td>36771.209937</td>\n",
       "      <td>0.298856</td>\n",
       "      <td>25738.651841</td>\n",
       "    </tr>\n",
       "    <tr>\n",
       "      <th>min</th>\n",
       "      <td>100.000000</td>\n",
       "      <td>1985.000000</td>\n",
       "      <td>0.000000</td>\n",
       "      <td>5000.000000</td>\n",
       "      <td>0.000000</td>\n",
       "      <td>1067.000000</td>\n",
       "    </tr>\n",
       "    <tr>\n",
       "      <th>25%</th>\n",
       "      <td>1200.000000</td>\n",
       "      <td>1999.000000</td>\n",
       "      <td>78.000000</td>\n",
       "      <td>125000.000000</td>\n",
       "      <td>0.000000</td>\n",
       "      <td>30519.000000</td>\n",
       "    </tr>\n",
       "    <tr>\n",
       "      <th>50%</th>\n",
       "      <td>2900.000000</td>\n",
       "      <td>2003.000000</td>\n",
       "      <td>109.000000</td>\n",
       "      <td>150000.000000</td>\n",
       "      <td>0.000000</td>\n",
       "      <td>49632.000000</td>\n",
       "    </tr>\n",
       "    <tr>\n",
       "      <th>75%</th>\n",
       "      <td>6600.000000</td>\n",
       "      <td>2007.000000</td>\n",
       "      <td>145.000000</td>\n",
       "      <td>150000.000000</td>\n",
       "      <td>0.000000</td>\n",
       "      <td>71334.000000</td>\n",
       "    </tr>\n",
       "    <tr>\n",
       "      <th>max</th>\n",
       "      <td>20000.000000</td>\n",
       "      <td>2016.000000</td>\n",
       "      <td>400.000000</td>\n",
       "      <td>150000.000000</td>\n",
       "      <td>1.000000</td>\n",
       "      <td>99998.000000</td>\n",
       "    </tr>\n",
       "  </tbody>\n",
       "</table>\n",
       "</div>"
      ],
      "text/plain": [
       "               Price  RegistrationYear          Power      Kilometer  \\\n",
       "count  322509.000000     322509.000000  322509.000000  322509.000000   \n",
       "mean     4609.673711       2003.049704     119.469150  128853.194795   \n",
       "std      4528.070364          5.824393      50.934772   36771.209937   \n",
       "min       100.000000       1985.000000       0.000000    5000.000000   \n",
       "25%      1200.000000       1999.000000      78.000000  125000.000000   \n",
       "50%      2900.000000       2003.000000     109.000000  150000.000000   \n",
       "75%      6600.000000       2007.000000     145.000000  150000.000000   \n",
       "max     20000.000000       2016.000000     400.000000  150000.000000   \n",
       "\n",
       "         NotRepaired     PostalCode  \n",
       "count  322509.000000  322509.000000  \n",
       "mean        0.099145   50795.850116  \n",
       "std         0.298856   25738.651841  \n",
       "min         0.000000    1067.000000  \n",
       "25%         0.000000   30519.000000  \n",
       "50%         0.000000   49632.000000  \n",
       "75%         0.000000   71334.000000  \n",
       "max         1.000000   99998.000000  "
      ]
     },
     "execution_count": 44,
     "metadata": {},
     "output_type": "execute_result"
    }
   ],
   "source": [
    "df.describe()"
   ]
  },
  {
   "cell_type": "markdown",
   "id": "740b429c",
   "metadata": {},
   "source": [
    "В столбце `Power` все еще находятся аномально низкие значения, избавимся от них:"
   ]
  },
  {
   "cell_type": "code",
   "execution_count": 45,
   "id": "1d1b1cb0",
   "metadata": {},
   "outputs": [],
   "source": [
    "df = df.query('Power >= 50')\n",
    "df['Power'] = df['Power'].astype('int')"
   ]
  },
  {
   "cell_type": "code",
   "execution_count": 46,
   "id": "f2b20aa1",
   "metadata": {
    "scrolled": true
   },
   "outputs": [
    {
     "data": {
      "text/html": [
       "<div>\n",
       "<style scoped>\n",
       "    .dataframe tbody tr th:only-of-type {\n",
       "        vertical-align: middle;\n",
       "    }\n",
       "\n",
       "    .dataframe tbody tr th {\n",
       "        vertical-align: top;\n",
       "    }\n",
       "\n",
       "    .dataframe thead th {\n",
       "        text-align: right;\n",
       "    }\n",
       "</style>\n",
       "<table border=\"1\" class=\"dataframe\">\n",
       "  <thead>\n",
       "    <tr style=\"text-align: right;\">\n",
       "      <th></th>\n",
       "      <th>Price</th>\n",
       "      <th>RegistrationYear</th>\n",
       "      <th>Power</th>\n",
       "      <th>Kilometer</th>\n",
       "      <th>NotRepaired</th>\n",
       "      <th>PostalCode</th>\n",
       "    </tr>\n",
       "  </thead>\n",
       "  <tbody>\n",
       "    <tr>\n",
       "      <th>count</th>\n",
       "      <td>322179.00000</td>\n",
       "      <td>322179.000000</td>\n",
       "      <td>322179.000000</td>\n",
       "      <td>322179.000000</td>\n",
       "      <td>322179.000000</td>\n",
       "      <td>322179.000000</td>\n",
       "    </tr>\n",
       "    <tr>\n",
       "      <th>mean</th>\n",
       "      <td>4612.18743</td>\n",
       "      <td>2003.062319</td>\n",
       "      <td>119.562187</td>\n",
       "      <td>128917.108191</td>\n",
       "      <td>0.099119</td>\n",
       "      <td>50812.366911</td>\n",
       "    </tr>\n",
       "    <tr>\n",
       "      <th>std</th>\n",
       "      <td>4529.15029</td>\n",
       "      <td>5.809851</td>\n",
       "      <td>50.876847</td>\n",
       "      <td>36707.900238</td>\n",
       "      <td>0.298822</td>\n",
       "      <td>25729.240173</td>\n",
       "    </tr>\n",
       "    <tr>\n",
       "      <th>min</th>\n",
       "      <td>100.00000</td>\n",
       "      <td>1985.000000</td>\n",
       "      <td>50.000000</td>\n",
       "      <td>5000.000000</td>\n",
       "      <td>0.000000</td>\n",
       "      <td>1067.000000</td>\n",
       "    </tr>\n",
       "    <tr>\n",
       "      <th>25%</th>\n",
       "      <td>1200.00000</td>\n",
       "      <td>1999.000000</td>\n",
       "      <td>79.000000</td>\n",
       "      <td>125000.000000</td>\n",
       "      <td>0.000000</td>\n",
       "      <td>30519.000000</td>\n",
       "    </tr>\n",
       "    <tr>\n",
       "      <th>50%</th>\n",
       "      <td>2900.00000</td>\n",
       "      <td>2003.000000</td>\n",
       "      <td>109.000000</td>\n",
       "      <td>150000.000000</td>\n",
       "      <td>0.000000</td>\n",
       "      <td>49661.000000</td>\n",
       "    </tr>\n",
       "    <tr>\n",
       "      <th>75%</th>\n",
       "      <td>6600.00000</td>\n",
       "      <td>2007.000000</td>\n",
       "      <td>145.000000</td>\n",
       "      <td>150000.000000</td>\n",
       "      <td>0.000000</td>\n",
       "      <td>71334.000000</td>\n",
       "    </tr>\n",
       "    <tr>\n",
       "      <th>max</th>\n",
       "      <td>20000.00000</td>\n",
       "      <td>2016.000000</td>\n",
       "      <td>400.000000</td>\n",
       "      <td>150000.000000</td>\n",
       "      <td>1.000000</td>\n",
       "      <td>99998.000000</td>\n",
       "    </tr>\n",
       "  </tbody>\n",
       "</table>\n",
       "</div>"
      ],
      "text/plain": [
       "              Price  RegistrationYear          Power      Kilometer  \\\n",
       "count  322179.00000     322179.000000  322179.000000  322179.000000   \n",
       "mean     4612.18743       2003.062319     119.562187  128917.108191   \n",
       "std      4529.15029          5.809851      50.876847   36707.900238   \n",
       "min       100.00000       1985.000000      50.000000    5000.000000   \n",
       "25%      1200.00000       1999.000000      79.000000  125000.000000   \n",
       "50%      2900.00000       2003.000000     109.000000  150000.000000   \n",
       "75%      6600.00000       2007.000000     145.000000  150000.000000   \n",
       "max     20000.00000       2016.000000     400.000000  150000.000000   \n",
       "\n",
       "         NotRepaired     PostalCode  \n",
       "count  322179.000000  322179.000000  \n",
       "mean        0.099119   50812.366911  \n",
       "std         0.298822   25729.240173  \n",
       "min         0.000000    1067.000000  \n",
       "25%         0.000000   30519.000000  \n",
       "50%         0.000000   49661.000000  \n",
       "75%         0.000000   71334.000000  \n",
       "max         1.000000   99998.000000  "
      ]
     },
     "execution_count": 46,
     "metadata": {},
     "output_type": "execute_result"
    }
   ],
   "source": [
    "df.describe()"
   ]
  },
  {
   "cell_type": "markdown",
   "id": "b384205e",
   "metadata": {},
   "source": [
    "Проверим корреляцию признаков:"
   ]
  },
  {
   "cell_type": "code",
   "execution_count": 47,
   "id": "a3782029",
   "metadata": {
    "scrolled": false
   },
   "outputs": [
    {
     "data": {
      "text/html": [
       "<div>\n",
       "<style scoped>\n",
       "    .dataframe tbody tr th:only-of-type {\n",
       "        vertical-align: middle;\n",
       "    }\n",
       "\n",
       "    .dataframe tbody tr th {\n",
       "        vertical-align: top;\n",
       "    }\n",
       "\n",
       "    .dataframe thead th {\n",
       "        text-align: right;\n",
       "    }\n",
       "</style>\n",
       "<table border=\"1\" class=\"dataframe\">\n",
       "  <thead>\n",
       "    <tr style=\"text-align: right;\">\n",
       "      <th></th>\n",
       "      <th>Price</th>\n",
       "      <th>RegistrationYear</th>\n",
       "      <th>Power</th>\n",
       "      <th>Kilometer</th>\n",
       "      <th>NotRepaired</th>\n",
       "      <th>PostalCode</th>\n",
       "    </tr>\n",
       "  </thead>\n",
       "  <tbody>\n",
       "    <tr>\n",
       "      <th>Price</th>\n",
       "      <td>1.000000</td>\n",
       "      <td>0.568071</td>\n",
       "      <td>0.513307</td>\n",
       "      <td>-0.369280</td>\n",
       "      <td>-0.187391</td>\n",
       "      <td>0.070992</td>\n",
       "    </tr>\n",
       "    <tr>\n",
       "      <th>RegistrationYear</th>\n",
       "      <td>0.568071</td>\n",
       "      <td>1.000000</td>\n",
       "      <td>0.123508</td>\n",
       "      <td>-0.356265</td>\n",
       "      <td>-0.099227</td>\n",
       "      <td>0.034802</td>\n",
       "    </tr>\n",
       "    <tr>\n",
       "      <th>Power</th>\n",
       "      <td>0.513307</td>\n",
       "      <td>0.123508</td>\n",
       "      <td>1.000000</td>\n",
       "      <td>0.095764</td>\n",
       "      <td>-0.045220</td>\n",
       "      <td>0.057008</td>\n",
       "    </tr>\n",
       "    <tr>\n",
       "      <th>Kilometer</th>\n",
       "      <td>-0.369280</td>\n",
       "      <td>-0.356265</td>\n",
       "      <td>0.095764</td>\n",
       "      <td>1.000000</td>\n",
       "      <td>0.072653</td>\n",
       "      <td>-0.012283</td>\n",
       "    </tr>\n",
       "    <tr>\n",
       "      <th>NotRepaired</th>\n",
       "      <td>-0.187391</td>\n",
       "      <td>-0.099227</td>\n",
       "      <td>-0.045220</td>\n",
       "      <td>0.072653</td>\n",
       "      <td>1.000000</td>\n",
       "      <td>-0.000232</td>\n",
       "    </tr>\n",
       "    <tr>\n",
       "      <th>PostalCode</th>\n",
       "      <td>0.070992</td>\n",
       "      <td>0.034802</td>\n",
       "      <td>0.057008</td>\n",
       "      <td>-0.012283</td>\n",
       "      <td>-0.000232</td>\n",
       "      <td>1.000000</td>\n",
       "    </tr>\n",
       "  </tbody>\n",
       "</table>\n",
       "</div>"
      ],
      "text/plain": [
       "                     Price  RegistrationYear     Power  Kilometer  \\\n",
       "Price             1.000000          0.568071  0.513307  -0.369280   \n",
       "RegistrationYear  0.568071          1.000000  0.123508  -0.356265   \n",
       "Power             0.513307          0.123508  1.000000   0.095764   \n",
       "Kilometer        -0.369280         -0.356265  0.095764   1.000000   \n",
       "NotRepaired      -0.187391         -0.099227 -0.045220   0.072653   \n",
       "PostalCode        0.070992          0.034802  0.057008  -0.012283   \n",
       "\n",
       "                  NotRepaired  PostalCode  \n",
       "Price               -0.187391    0.070992  \n",
       "RegistrationYear    -0.099227    0.034802  \n",
       "Power               -0.045220    0.057008  \n",
       "Kilometer            0.072653   -0.012283  \n",
       "NotRepaired          1.000000   -0.000232  \n",
       "PostalCode          -0.000232    1.000000  "
      ]
     },
     "execution_count": 47,
     "metadata": {},
     "output_type": "execute_result"
    }
   ],
   "source": [
    "df.corr()"
   ]
  },
  {
   "cell_type": "markdown",
   "id": "112eacde",
   "metadata": {},
   "source": [
    "На цену заметно влияют год регистрации, мощность и пробег. Проанализируем подробнее зависимость цены от индекса местонахождения продавца:"
   ]
  },
  {
   "cell_type": "code",
   "execution_count": 48,
   "id": "fcd2347b",
   "metadata": {},
   "outputs": [
    {
     "data": {
      "text/plain": [
       "<AxesSubplot:xlabel='Price', ylabel='PostalCode'>"
      ]
     },
     "execution_count": 48,
     "metadata": {},
     "output_type": "execute_result"
    },
    {
     "data": {
      "image/png": "[encoded data removed]",
      "text/plain": [
       "<Figure size 432x288 with 1 Axes>"
      ]
     },
     "metadata": {
      "needs_background": "light"
     },
     "output_type": "display_data"
    },
    {
     "data": {
      "image/png": "[encoded data removed]",
      "text/plain": [
       "<Figure size 432x288 with 1 Axes>"
      ]
     },
     "metadata": {
      "needs_background": "light"
     },
     "output_type": "display_data"
    }
   ],
   "source": [
    "df.plot.scatter(x='Price', y='PostalCode')\n",
    "df.head(5000).plot.scatter(x='Price', y='PostalCode')"
   ]
  },
  {
   "cell_type": "markdown",
   "id": "ad291d06",
   "metadata": {},
   "source": [
    "Цена не зависит от индекса: в каждом сегменте цены примерно равное количество машин из разных регионов. Столбец `PostalCode` можно удалить:"
   ]
  },
  {
   "cell_type": "code",
   "execution_count": 49,
   "id": "3dcdde64",
   "metadata": {},
   "outputs": [],
   "source": [
    "df = df.drop(columns=['PostalCode'])"
   ]
  },
  {
   "cell_type": "markdown",
   "id": "008ac509",
   "metadata": {},
   "source": [
    "На этапе предобработки данных:\n",
    "* заполнены пропуски в столбцах `VehicleType`, `Gearbox`, `FuelType`, `NotRepaired`;\n",
    "* устранены аномалии в столбцах `Price`, `Power`, `RegistrationYear`;\n",
    "* удалены дубликаты;\n",
    "* удалены бесполезные для построения модели столбцы `DateCrawled`, `RegistrationMonth`, `DateCreated`, `NumberOfPictures`, `LastSeen`, `PostalCode`."
   ]
  },
  {
   "cell_type": "markdown",
   "id": "6beb3461",
   "metadata": {},
   "source": [
    "### Подготовка признаков"
   ]
  },
  {
   "cell_type": "markdown",
   "id": "c424aaa4",
   "metadata": {},
   "source": [
    "Определим признаки и целевой признак:"
   ]
  },
  {
   "cell_type": "code",
   "execution_count": 50,
   "id": "45caf64a",
   "metadata": {},
   "outputs": [
    {
     "data": {
      "text/plain": [
       "((322179, 9), (322179,))"
      ]
     },
     "execution_count": 50,
     "metadata": {},
     "output_type": "execute_result"
    }
   ],
   "source": [
    "features = df.drop(['Price'], axis=1)\n",
    "target = df['Price']\n",
    "features.shape, target.shape"
   ]
  },
  {
   "cell_type": "markdown",
   "id": "256c85ca",
   "metadata": {},
   "source": [
    "Закодируем данные столбцов `VehicleType`, `Gearbox`, `Model`, `FuelType`, `Brand` с помощью `CatBoostEncoder`. Выберем именно его, т.к. он не способствует разрастанию датафрейма и не устанавливает какой-либо градации между категориальными переменными. Это позволит использовать данные для моделей случайного леса и логистической регрессии:"
   ]
  },
  {
   "cell_type": "code",
   "execution_count": 51,
   "id": "ed4370e3",
   "metadata": {
    "scrolled": true
   },
   "outputs": [
    {
     "data": {
      "text/html": [
       "<div>\n",
       "<style scoped>\n",
       "    .dataframe tbody tr th:only-of-type {\n",
       "        vertical-align: middle;\n",
       "    }\n",
       "\n",
       "    .dataframe tbody tr th {\n",
       "        vertical-align: top;\n",
       "    }\n",
       "\n",
       "    .dataframe thead th {\n",
       "        text-align: right;\n",
       "    }\n",
       "</style>\n",
       "<table border=\"1\" class=\"dataframe\">\n",
       "  <thead>\n",
       "    <tr style=\"text-align: right;\">\n",
       "      <th></th>\n",
       "      <th>VehicleType</th>\n",
       "      <th>RegistrationYear</th>\n",
       "      <th>Gearbox</th>\n",
       "      <th>Power</th>\n",
       "      <th>Model</th>\n",
       "      <th>Kilometer</th>\n",
       "      <th>FuelType</th>\n",
       "      <th>Brand</th>\n",
       "      <th>NotRepaired</th>\n",
       "    </tr>\n",
       "  </thead>\n",
       "  <tbody>\n",
       "    <tr>\n",
       "      <th>0</th>\n",
       "      <td>4561.153101</td>\n",
       "      <td>1993</td>\n",
       "      <td>4036.181395</td>\n",
       "      <td>101</td>\n",
       "      <td>4371.515550</td>\n",
       "      <td>150000</td>\n",
       "      <td>3701.896301</td>\n",
       "      <td>4597.171668</td>\n",
       "      <td>0</td>\n",
       "    </tr>\n",
       "    <tr>\n",
       "      <th>1</th>\n",
       "      <td>6104.422952</td>\n",
       "      <td>2011</td>\n",
       "      <td>4036.181395</td>\n",
       "      <td>190</td>\n",
       "      <td>3881.109060</td>\n",
       "      <td>125000</td>\n",
       "      <td>6664.117161</td>\n",
       "      <td>6541.840008</td>\n",
       "      <td>1</td>\n",
       "    </tr>\n",
       "    <tr>\n",
       "      <th>2</th>\n",
       "      <td>9160.500571</td>\n",
       "      <td>2004</td>\n",
       "      <td>6972.870590</td>\n",
       "      <td>163</td>\n",
       "      <td>6488.106376</td>\n",
       "      <td>125000</td>\n",
       "      <td>6664.117161</td>\n",
       "      <td>7273.316730</td>\n",
       "      <td>0</td>\n",
       "    </tr>\n",
       "    <tr>\n",
       "      <th>3</th>\n",
       "      <td>2676.722722</td>\n",
       "      <td>2001</td>\n",
       "      <td>4036.181395</td>\n",
       "      <td>75</td>\n",
       "      <td>4371.515550</td>\n",
       "      <td>150000</td>\n",
       "      <td>3701.896301</td>\n",
       "      <td>4597.171668</td>\n",
       "      <td>0</td>\n",
       "    </tr>\n",
       "    <tr>\n",
       "      <th>4</th>\n",
       "      <td>2676.722722</td>\n",
       "      <td>2008</td>\n",
       "      <td>4036.181395</td>\n",
       "      <td>69</td>\n",
       "      <td>4244.602676</td>\n",
       "      <td>90000</td>\n",
       "      <td>6664.117161</td>\n",
       "      <td>6042.615756</td>\n",
       "      <td>0</td>\n",
       "    </tr>\n",
       "  </tbody>\n",
       "</table>\n",
       "</div>"
      ],
      "text/plain": [
       "   VehicleType  RegistrationYear      Gearbox  Power        Model  Kilometer  \\\n",
       "0  4561.153101              1993  4036.181395    101  4371.515550     150000   \n",
       "1  6104.422952              2011  4036.181395    190  3881.109060     125000   \n",
       "2  9160.500571              2004  6972.870590    163  6488.106376     125000   \n",
       "3  2676.722722              2001  4036.181395     75  4371.515550     150000   \n",
       "4  2676.722722              2008  4036.181395     69  4244.602676      90000   \n",
       "\n",
       "      FuelType        Brand  NotRepaired  \n",
       "0  3701.896301  4597.171668            0  \n",
       "1  6664.117161  6541.840008            1  \n",
       "2  6664.117161  7273.316730            0  \n",
       "3  3701.896301  4597.171668            0  \n",
       "4  6664.117161  6042.615756            0  "
      ]
     },
     "execution_count": 51,
     "metadata": {},
     "output_type": "execute_result"
    }
   ],
   "source": [
    "cbe_encoder = ce.cat_boost.CatBoostEncoder()\n",
    "categorical = ['VehicleType', 'Gearbox', 'Model', 'FuelType', 'Brand']\n",
    "cbe_encoder.fit(features, target, cols=categorical)\n",
    "features_cbe = cbe_encoder.transform(features)\n",
    "features_cbe.head()"
   ]
  },
  {
   "cell_type": "markdown",
   "id": "7db07a00",
   "metadata": {},
   "source": [
    "Разделим данные на тренировочную и тестовую части:"
   ]
  },
  {
   "cell_type": "code",
   "execution_count": 52,
   "id": "f4e5e73b",
   "metadata": {},
   "outputs": [
    {
     "data": {
      "text/plain": [
       "((241634, 9), (80545, 9))"
      ]
     },
     "execution_count": 52,
     "metadata": {},
     "output_type": "execute_result"
    }
   ],
   "source": [
    "features_train, features_test, target_train, target_test = train_test_split(\n",
    "    features_cbe, target, random_state=1703, test_size=0.25)\n",
    "features_train.shape, features_test.shape"
   ]
  },
  {
   "cell_type": "markdown",
   "id": "3d15ec3d",
   "metadata": {},
   "source": [
    "Масштабируем признаки тренировочной выборки, чтобы уравнять вклад переменных, значения которых различаются на несколько порядков:"
   ]
  },
  {
   "cell_type": "code",
   "execution_count": 53,
   "id": "d68dbcb2",
   "metadata": {},
   "outputs": [],
   "source": [
    "scaler = StandardScaler()\n",
    "numeric = ['RegistrationYear', 'Power', 'Kilometer']\n",
    "scaler.fit(features_train[numeric])\n",
    "\n",
    "features_train_scaled = features_train.copy()\n",
    "features_test_scaled = features_test.copy()\n",
    "features_train_scaled[numeric] = scaler.transform(features_train_scaled[numeric])\n",
    "features_test_scaled[numeric] = scaler.transform(features_test_scaled[numeric])"
   ]
  },
  {
   "cell_type": "markdown",
   "id": "543e8eb9",
   "metadata": {},
   "source": [
    "**Вывод**\n",
    "\n",
    "На этапе подготовки признаков данные:\n",
    "* разделены на признаки и целевой признак;\n",
    "* закодированы с помощью `CatBoostEncoder`;\n",
    "* разделены на обучающую и тестовую части;\n",
    "* отмасштабированы."
   ]
  },
  {
   "cell_type": "markdown",
   "id": "abadbf11",
   "metadata": {},
   "source": [
    "## Обучение моделей"
   ]
  },
  {
   "cell_type": "markdown",
   "id": "f4b1f251",
   "metadata": {},
   "source": [
    "Обучим модели случайного леса, линейной регрессии и два варианта градиентного бустинга. Сравним их время обучения, предсказания и значение метрики RMSE."
   ]
  },
  {
   "cell_type": "markdown",
   "id": "f90afc81",
   "metadata": {},
   "source": [
    "Функция, определяющая RMSE:"
   ]
  },
  {
   "cell_type": "code",
   "execution_count": 54,
   "id": "519dbbdc",
   "metadata": {},
   "outputs": [],
   "source": [
    "def rmse(target, predicted):\n",
    "    return mse(target, predicted) ** 0.5"
   ]
  },
  {
   "cell_type": "markdown",
   "id": "5d67ae84",
   "metadata": {},
   "source": [
    "Функции, определяющие время обучения и предсказания:"
   ]
  },
  {
   "cell_type": "code",
   "execution_count": 55,
   "id": "de67a0dd",
   "metadata": {},
   "outputs": [],
   "source": [
    "def learning_time(model, features, target):\n",
    "    start = time.time()\n",
    "    model.fit(features, target)\n",
    "    end = time.time()\n",
    "    time_fit = end - start\n",
    "    return time_fit, model\n",
    "\n",
    "def predicting_time(model, features):\n",
    "    start = time.time()\n",
    "    predict = model.predict(features)\n",
    "    end = time.time()\n",
    "    time_predict= end - start\n",
    "    return time_predict, predict"
   ]
  },
  {
   "cell_type": "markdown",
   "id": "13afde67",
   "metadata": {},
   "source": [
    "Найдем лучшие параметры для случайного леса с помощью `GridSearch`:"
   ]
  },
  {
   "cell_type": "code",
   "execution_count": 56,
   "id": "fb4b2923",
   "metadata": {},
   "outputs": [
    {
     "name": "stdout",
     "output_type": "stream",
     "text": [
      "Wall time: 13min 34s\n"
     ]
    },
    {
     "data": {
      "text/plain": [
       "({'max_depth': 10, 'n_estimators': 150}, -1772.3538116119532)"
      ]
     },
     "execution_count": 56,
     "metadata": {},
     "output_type": "execute_result"
    }
   ],
   "source": [
    "%%time\n",
    "model_rfr = RandomForestRegressor(random_state=1703)\n",
    "parameters = { 'n_estimators': [50, 100, 150], 'max_depth': [2, 6, 10]}\n",
    "grid_rfr = GridSearchCV(model_rfr, parameters, cv=5, scoring='neg_root_mean_squared_error')\n",
    "grid_rfr.fit(features_train_scaled, target_train)\n",
    "grid_rfr.best_params_, grid_rfr.best_score_"
   ]
  },
  {
   "cell_type": "markdown",
   "id": "f1c25d92",
   "metadata": {},
   "source": [
    "Обучим модель случайного леса с найденными гиперпараметрами:"
   ]
  },
  {
   "cell_type": "code",
   "execution_count": 57,
   "id": "59852857",
   "metadata": {},
   "outputs": [],
   "source": [
    "learn_time_rfr, model_rfr = learning_time(RandomForestRegressor(max_depth=10, n_estimators=150, random_state=1703), \n",
    "                                       features_train_scaled, target_train)\n",
    "pred_time_rfr, pred_rfr = predicting_time(model_rfr, features_test_scaled)\n",
    "rmse_rfr = rmse(target_test, pred_rfr)\n",
    "params = []\n",
    "params.append([rmse_rfr, learn_time_rfr, pred_time_rfr])"
   ]
  },
  {
   "cell_type": "markdown",
   "id": "a7f30b66",
   "metadata": {},
   "source": [
    "Проанализируем важность признаков для итоговой модели:"
   ]
  },
  {
   "cell_type": "code",
   "execution_count": 58,
   "id": "8bf8728e",
   "metadata": {
    "scrolled": true
   },
   "outputs": [
    {
     "data": {
      "image/png": "[encoded data removed]",
      "text/plain": [
       "<Figure size 576x288 with 1 Axes>"
      ]
     },
     "metadata": {
      "needs_background": "light"
     },
     "output_type": "display_data"
    }
   ],
   "source": [
    "model_importances = pd.Series(model_rfr.feature_importances_, index=features.columns)\n",
    "model_importances.plot.bar(figsize=(8,4))\n",
    "plt.title(\"Feature importances\")\n",
    "plt.ylabel(\"Mean decrease in impurity\");"
   ]
  },
  {
   "cell_type": "markdown",
   "id": "a8338123",
   "metadata": {},
   "source": [
    "Наиболее важные факторы по мнению `RandomForestRegressor` это год регистрации и мощность. Модель и пробег делят 3 место, их значимость алгоритм оценивает намного ниже. Остальные факторы практически не влияют на результаты предсказаний."
   ]
  },
  {
   "cell_type": "markdown",
   "id": "c4be64a0",
   "metadata": {},
   "source": [
    "Закодируем признаки для линейной регресии с помощью `OneHotEncoding`, разделим данные на тренировочные и тестовые и отмасштабируем их:"
   ]
  },
  {
   "cell_type": "code",
   "execution_count": 59,
   "id": "467198e4",
   "metadata": {
    "scrolled": true
   },
   "outputs": [],
   "source": [
    "features_ohe = pd.get_dummies(features, columns=\n",
    "                              ['VehicleType', 'Gearbox', 'Model', 'FuelType', 'Brand'], drop_first=True)\n",
    "\n",
    "features_train, features_test, target_train, target_test = train_test_split(\n",
    "    features_ohe, target, random_state=1703, test_size=0.25)\n",
    "\n",
    "scaler.fit(features_train[numeric])\n",
    "\n",
    "features_train_scaled = features_train.copy()\n",
    "features_test_scaled = features_test.copy()\n",
    "features_train_scaled[numeric] = scaler.transform(features_train_scaled[numeric])\n",
    "features_test_scaled[numeric] = scaler.transform(features_test_scaled[numeric])"
   ]
  },
  {
   "cell_type": "markdown",
   "id": "794e8931",
   "metadata": {},
   "source": [
    "Обучим модель линейной регресии:"
   ]
  },
  {
   "cell_type": "code",
   "execution_count": 60,
   "id": "fe490828",
   "metadata": {
    "scrolled": false
   },
   "outputs": [],
   "source": [
    "learn_time_lr, model_lr = learning_time(LinearRegression(), features_train_scaled, target_train)\n",
    "pred_time_lr, pred_lr = predicting_time(model_lr, features_test_scaled)\n",
    "rmse_lr = rmse(target_test, pred_lr)\n",
    "params.append([rmse_lr, learn_time_lr, pred_time_lr])"
   ]
  },
  {
   "cell_type": "markdown",
   "id": "b89951c4",
   "metadata": {},
   "source": [
    "Для моделей бустинга будем использовать данные с незакодированными категориальными переменными:"
   ]
  },
  {
   "cell_type": "code",
   "execution_count": 61,
   "id": "537808c4",
   "metadata": {
    "scrolled": true
   },
   "outputs": [
    {
     "data": {
      "text/plain": [
       "((241634, 9), (80545, 9))"
      ]
     },
     "execution_count": 61,
     "metadata": {},
     "output_type": "execute_result"
    }
   ],
   "source": [
    "features_train, features_test, target_train, target_test = train_test_split(\n",
    "    features, target, random_state=1703, test_size=0.25)\n",
    "features_train.shape, features_test.shape"
   ]
  },
  {
   "cell_type": "markdown",
   "id": "1580f550",
   "metadata": {},
   "source": [
    "Найдем лучшие гиперпараметры для `CatBoostRegressor`:"
   ]
  },
  {
   "cell_type": "code",
   "execution_count": 62,
   "id": "5be48dde",
   "metadata": {
    "scrolled": true
   },
   "outputs": [
    {
     "name": "stdout",
     "output_type": "stream",
     "text": [
      "\n",
      "bestTest = 1582.08686\n",
      "bestIteration = 999\n",
      "\n",
      "0:\tloss: 1582.0868599\tbest: 1582.0868599 (0)\ttotal: 1m 40s\tremaining: 8m 24s\n",
      "\n",
      "bestTest = 1555.977475\n",
      "bestIteration = 999\n",
      "\n",
      "1:\tloss: 1555.9774748\tbest: 1555.9774748 (1)\ttotal: 3m 27s\tremaining: 6m 54s\n",
      "\n",
      "bestTest = 1537.810394\n",
      "bestIteration = 995\n",
      "\n",
      "2:\tloss: 1537.8103940\tbest: 1537.8103940 (2)\ttotal: 5m 27s\tremaining: 5m 27s\n",
      "\n",
      "bestTest = 1533.679236\n",
      "bestIteration = 999\n",
      "\n",
      "3:\tloss: 1533.6792358\tbest: 1533.6792358 (3)\ttotal: 8m 49s\tremaining: 4m 24s\n",
      "\n",
      "bestTest = 1515.416504\n",
      "bestIteration = 999\n",
      "\n",
      "4:\tloss: 1515.4165040\tbest: 1515.4165040 (4)\ttotal: 12m 16s\tremaining: 2m 27s\n",
      "\n",
      "bestTest = 1510.086405\n",
      "bestIteration = 985\n",
      "\n",
      "5:\tloss: 1510.0864045\tbest: 1510.0864045 (5)\ttotal: 15m 41s\tremaining: 0us\n",
      "Estimating final quality...\n",
      "Training on fold [0/3]\n",
      "\n",
      "bestTest = 1523.427483\n",
      "bestIteration = 999\n",
      "\n",
      "Training on fold [1/3]\n",
      "\n",
      "bestTest = 1506.585971\n",
      "bestIteration = 987\n",
      "\n",
      "Training on fold [2/3]\n",
      "\n",
      "bestTest = 1524.538718\n",
      "bestIteration = 999\n",
      "\n",
      "Wall time: 28min 36s\n"
     ]
    },
    {
     "data": {
      "text/plain": [
       "{'depth': 10, 'learning_rate': 0.2}"
      ]
     },
     "execution_count": 62,
     "metadata": {},
     "output_type": "execute_result"
    }
   ],
   "source": [
    "%%time\n",
    "model_cbr = CatBoostRegressor(loss_function='RMSE', verbose=False, random_state=1703, cat_features=categorical)\n",
    "parameters = {'depth' : [7, 10], 'learning_rate': [0.05, 0.1, 0.2]}\n",
    "grid_cbr = model_cbr.grid_search(parameters, features_train, target_train, cv=3)\n",
    "grid_cbr[\"params\"]"
   ]
  },
  {
   "cell_type": "markdown",
   "id": "456e5052",
   "metadata": {},
   "source": [
    "Обучим модель `CatBoostRegressor` с найденными гиперпараметрами:"
   ]
  },
  {
   "cell_type": "code",
   "execution_count": 63,
   "id": "b61f65d6",
   "metadata": {
    "scrolled": true
   },
   "outputs": [
    {
     "name": "stdout",
     "output_type": "stream",
     "text": [
      "0:\tlearn: 4185.7836713\ttotal: 181ms\tremaining: 3m\n",
      "200:\tlearn: 1493.8028331\ttotal: 37.1s\tremaining: 2m 27s\n",
      "400:\tlearn: 1426.9959094\ttotal: 1m 14s\tremaining: 1m 51s\n",
      "600:\tlearn: 1384.0471574\ttotal: 1m 55s\tremaining: 1m 16s\n",
      "800:\tlearn: 1351.3624837\ttotal: 2m 38s\tremaining: 39.5s\n",
      "999:\tlearn: 1327.8675468\ttotal: 3m 24s\tremaining: 0us\n"
     ]
    }
   ],
   "source": [
    "learn_time_cbr, model_cbr = learning_time(CatBoostRegressor(loss_function=\"RMSE\", \n",
    "                                                            depth=10, learning_rate=0.2, random_state=1703, \n",
    "                                                            cat_features=categorical, verbose=200), features_train, target_train)\n",
    "pred_time_cbr, pred_cbr = predicting_time(model_cbr, features_test)\n",
    "rmse_cbr = rmse(target_test, pred_cbr)\n",
    "params.append([rmse_cbr, learn_time_cbr, pred_time_cbr])"
   ]
  },
  {
   "cell_type": "markdown",
   "id": "c3c5d9d1",
   "metadata": {},
   "source": [
    "Выявим признаки, внесшие наибольший вклад:"
   ]
  },
  {
   "cell_type": "code",
   "execution_count": 66,
   "id": "319a899f",
   "metadata": {},
   "outputs": [
    {
     "data": {
      "image/png": "[encoded data removed]",
      "text/plain": [
       "<Figure size 576x288 with 1 Axes>"
      ]
     },
     "metadata": {
      "needs_background": "light"
     },
     "output_type": "display_data"
    }
   ],
   "source": [
    "model_importances = pd.Series(model_cbr.feature_importances_/100, index=features.columns)\n",
    "model_importances.plot.bar(figsize=(8,4))\n",
    "plt.title(\"Feature importances\")\n",
    "plt.ylabel(\"Mean decrease in impurity\");"
   ]
  },
  {
   "cell_type": "markdown",
   "id": "47e1dc82",
   "metadata": {},
   "source": [
    "Важные факторы у `CatBoostRegressor` совпали с важными факторами `RandomForestRegressor`: год регистрации, мощность. Однако, `CatBoostRegressor` выделяет также бренд, пробег, модель и тип коробки передач. В целом, влияние признаков распределено равномернее, чем у `RandomForestRegressor`."
   ]
  },
  {
   "cell_type": "markdown",
   "id": "b967bf76",
   "metadata": {},
   "source": [
    "Найдем лучшие параметры для `LightGBM`, предварительно изменив тип данных категориальных столбцов на `object`:"
   ]
  },
  {
   "cell_type": "code",
   "execution_count": 67,
   "id": "61bbd458",
   "metadata": {
    "scrolled": false
   },
   "outputs": [],
   "source": [
    "for column in categorical:\n",
    "    features_train[column] = features_train[column].astype('category')\n",
    "    features_test[column] = features_test[column].astype('category')"
   ]
  },
  {
   "cell_type": "code",
   "execution_count": 72,
   "id": "9186ac30",
   "metadata": {},
   "outputs": [
    {
     "name": "stdout",
     "output_type": "stream",
     "text": [
      "Wall time: 9min 27s\n"
     ]
    },
    {
     "data": {
      "text/plain": [
       "({'learning_rate': 0.05, 'n_estimators': 800, 'num_leaves': 200},\n",
       " -1499.1237010840177)"
      ]
     },
     "execution_count": 72,
     "metadata": {},
     "output_type": "execute_result"
    }
   ],
   "source": [
    "%%time\n",
    "model_lgbm = LGBMRegressor(boosting_type='gbdt', seed=1703)\n",
    "parameters = {'learning_rate': [0.05, 0.1], 'num_leaves': range(200, 601, 200), 'n_estimators': [200, 400, 800]}\n",
    "grid_lgbm = GridSearchCV(model_lgbm, parameters, cv=3, scoring='neg_root_mean_squared_error')\n",
    "grid_lgbm.fit(features_train, target_train)\n",
    "grid_lgbm.best_params_, grid_lgbm.best_score_"
   ]
  },
  {
   "cell_type": "markdown",
   "id": "6637fb8a",
   "metadata": {},
   "source": [
    "Обучим `LightGBM` с найденными гиперпараметрами:"
   ]
  },
  {
   "cell_type": "code",
   "execution_count": 73,
   "id": "c56e3771",
   "metadata": {
    "scrolled": true
   },
   "outputs": [],
   "source": [
    "learn_time_lgbm, model_lgbm = learning_time(LGBMRegressor(boosting_type='gbdt', \n",
    "                                                          seed=1703, learning_rate=0.05, num_leaves=200, \n",
    "                                                          n_estimators=800), features_train, target_train)\n",
    "pred_time_lgbm, pred_lgbm = predicting_time(model_lgbm, features_test)\n",
    "rmse_lgbm = rmse(target_test, pred_lgbm)\n",
    "params.append([rmse_lgbm, learn_time_lgbm, pred_time_lgbm])"
   ]
  },
  {
   "cell_type": "markdown",
   "id": "0f2f8a60",
   "metadata": {},
   "source": [
    "Проверим, какой признак внес наибольший вклад:"
   ]
  },
  {
   "cell_type": "code",
   "execution_count": 74,
   "id": "214e08d2",
   "metadata": {},
   "outputs": [
    {
     "data": {
      "image/png": "[encoded data removed]",
      "text/plain": [
       "<Figure size 576x288 with 1 Axes>"
      ]
     },
     "metadata": {
      "needs_background": "light"
     },
     "output_type": "display_data"
    }
   ],
   "source": [
    "model_importances = pd.Series((model_lgbm.feature_importances_)/100000, index=features.columns)\n",
    "model_importances.plot.bar(figsize=(8,4))\n",
    "plt.title(\"Feature importances\")\n",
    "plt.ylabel(\"Mean decrease in impurity\");"
   ]
  },
  {
   "cell_type": "markdown",
   "id": "b7287d02",
   "metadata": {},
   "source": [
    "Наибольший вклад на итоговый результат для модели `LGBM` оказали мощность и год регистрации, что схоже с другими моделями, однако, это первая модель, где больший вклад остался за мощностью. В целом, распредление влияния признаков схоже с распределением `CatBoostEncoder`."
   ]
  },
  {
   "cell_type": "markdown",
   "id": "81064e60",
   "metadata": {},
   "source": [
    "Сформируем итоговую таблицу результатов:"
   ]
  },
  {
   "cell_type": "code",
   "execution_count": 75,
   "id": "729f30e8",
   "metadata": {},
   "outputs": [
    {
     "data": {
      "text/html": [
       "<div>\n",
       "<style scoped>\n",
       "    .dataframe tbody tr th:only-of-type {\n",
       "        vertical-align: middle;\n",
       "    }\n",
       "\n",
       "    .dataframe tbody tr th {\n",
       "        vertical-align: top;\n",
       "    }\n",
       "\n",
       "    .dataframe thead th {\n",
       "        text-align: right;\n",
       "    }\n",
       "</style>\n",
       "<table border=\"1\" class=\"dataframe\">\n",
       "  <thead>\n",
       "    <tr style=\"text-align: right;\">\n",
       "      <th></th>\n",
       "      <th>RandomForestRegressor</th>\n",
       "      <th>LinearRegressor</th>\n",
       "      <th>CatBoostRegressor</th>\n",
       "      <th>LGBM</th>\n",
       "    </tr>\n",
       "  </thead>\n",
       "  <tbody>\n",
       "    <tr>\n",
       "      <th>RMSE</th>\n",
       "      <td>1790.604507</td>\n",
       "      <td>6.058998e+12</td>\n",
       "      <td>1526.647076</td>\n",
       "      <td>1492.249707</td>\n",
       "    </tr>\n",
       "    <tr>\n",
       "      <th>learning_time</th>\n",
       "      <td>52.380280</td>\n",
       "      <td>3.550161e+00</td>\n",
       "      <td>205.561146</td>\n",
       "      <td>8.599733</td>\n",
       "    </tr>\n",
       "    <tr>\n",
       "      <th>predicting_time</th>\n",
       "      <td>1.099861</td>\n",
       "      <td>9.824467e-02</td>\n",
       "      <td>0.612643</td>\n",
       "      <td>2.087924</td>\n",
       "    </tr>\n",
       "  </tbody>\n",
       "</table>\n",
       "</div>"
      ],
      "text/plain": [
       "                 RandomForestRegressor  LinearRegressor  CatBoostRegressor  \\\n",
       "RMSE                       1790.604507     6.058998e+12        1526.647076   \n",
       "learning_time                52.380280     3.550161e+00         205.561146   \n",
       "predicting_time               1.099861     9.824467e-02           0.612643   \n",
       "\n",
       "                        LGBM  \n",
       "RMSE             1492.249707  \n",
       "learning_time       8.599733  \n",
       "predicting_time     2.087924  "
      ]
     },
     "execution_count": 75,
     "metadata": {},
     "output_type": "execute_result"
    }
   ],
   "source": [
    "final_df = pd.DataFrame(list(zip(params[0], params[1], params[2], params[3])), index=['RMSE', 'learning_time', 'predicting_time'],\n",
    "                        columns=['RandomForestRegressor', 'LinearRegressor', 'CatBoostRegressor', 'LGBM'])\n",
    "final_df"
   ]
  },
  {
   "cell_type": "markdown",
   "id": "5427ec68",
   "metadata": {},
   "source": [
    "**Вывод**\n",
    "\n",
    "На этапе обучения моделей:\n",
    "* подобраны лучшие гиперпараметры для каждого варианта моделей;\n",
    "* найдено время обучения и предсказания;\n",
    "* рассчитана метрика RMSE;\n",
    "* сформирована таблица результатов."
   ]
  },
  {
   "cell_type": "markdown",
   "id": "d080b401",
   "metadata": {},
   "source": [
    "## Итоговый вывод"
   ]
  },
  {
   "cell_type": "markdown",
   "id": "584972b4",
   "metadata": {},
   "source": [
    "Лучшие результаты по важным для заказчика критериям показали:\n",
    "* лучшее время обучения - `LinearRegressor`;\n",
    "* лучшее время предсказания - `LinearRegressor`;\n",
    "* лучший результат RMSE - `LGBM`.\n",
    "\n",
    "По совокупности всех факторов лучшей моделью признаем `LightGBM`: лучший показатель RMSE, по времени обучения уступает только модели линейной регрессии, намного быстрее остальных моделей, имеет самое большое время предсказания, но оно все еще не слишком велико.\n",
    "\n",
    "Если время предсказания для заказчика намного важнее времени обучения, то лучше выбрать `CatBoostRegressor`: хороший показатель RMSE, сравнимый с `LightGBM`, по времени предсказания уступает только модели линейной регрессии."
   ]
  }
 ],
 "metadata": {
  "ExecuteTimeLog": [
   {
    "duration": 450,
    "start_time": "2022-06-29T10:42:39.561Z"
   },
   {
    "duration": 3114,
    "start_time": "2022-06-29T10:44:08.026Z"
   },
   {
    "duration": 992,
    "start_time": "2022-06-29T10:44:17.111Z"
   },
   {
    "duration": 56,
    "start_time": "2022-06-29T10:52:10.576Z"
   },
   {
    "duration": 1406,
    "start_time": "2022-06-29T10:52:14.493Z"
   },
   {
    "duration": 90,
    "start_time": "2022-06-29T10:52:21.031Z"
   },
   {
    "duration": 383,
    "start_time": "2022-06-29T10:52:35.611Z"
   },
   {
    "duration": 35,
    "start_time": "2022-06-29T10:58:15.840Z"
   },
   {
    "duration": 22,
    "start_time": "2022-06-29T10:58:20.787Z"
   },
   {
    "duration": 137,
    "start_time": "2022-06-29T10:59:15.802Z"
   },
   {
    "duration": 60,
    "start_time": "2022-06-29T10:59:35.740Z"
   },
   {
    "duration": 41,
    "start_time": "2022-06-29T10:59:39.866Z"
   },
   {
    "duration": 44,
    "start_time": "2022-06-29T10:59:44.268Z"
   },
   {
    "duration": 13,
    "start_time": "2022-06-29T11:02:27.699Z"
   },
   {
    "duration": 822,
    "start_time": "2022-06-29T11:03:07.641Z"
   },
   {
    "duration": 137,
    "start_time": "2022-06-29T11:03:38.330Z"
   },
   {
    "duration": 410,
    "start_time": "2022-06-29T11:03:45.954Z"
   },
   {
    "duration": 586,
    "start_time": "2022-06-29T11:04:16.618Z"
   },
   {
    "duration": 80,
    "start_time": "2022-06-29T11:05:33.206Z"
   },
   {
    "duration": 67,
    "start_time": "2022-06-29T11:05:56.040Z"
   },
   {
    "duration": 4,
    "start_time": "2022-06-29T11:07:47.704Z"
   },
   {
    "duration": 415,
    "start_time": "2022-06-29T11:08:26.088Z"
   },
   {
    "duration": 440,
    "start_time": "2022-06-29T11:08:31.902Z"
   },
   {
    "duration": 451,
    "start_time": "2022-06-29T11:08:40.128Z"
   },
   {
    "duration": 166,
    "start_time": "2022-06-29T11:09:18.620Z"
   },
   {
    "duration": 57,
    "start_time": "2022-06-29T11:09:51.206Z"
   },
   {
    "duration": 1639,
    "start_time": "2022-06-29T11:12:53.701Z"
   },
   {
    "duration": 814,
    "start_time": "2022-06-29T11:12:57.351Z"
   },
   {
    "duration": 152,
    "start_time": "2022-06-29T11:12:58.459Z"
   },
   {
    "duration": 25,
    "start_time": "2022-06-29T11:12:59.494Z"
   },
   {
    "duration": 61,
    "start_time": "2022-06-29T11:13:00.063Z"
   },
   {
    "duration": 140,
    "start_time": "2022-06-29T11:13:02.336Z"
   },
   {
    "duration": 479,
    "start_time": "2022-06-29T11:13:03.453Z"
   },
   {
    "duration": 103,
    "start_time": "2022-06-29T11:13:04.630Z"
   },
   {
    "duration": 243,
    "start_time": "2022-06-29T11:13:13.054Z"
   },
   {
    "duration": 17,
    "start_time": "2022-06-29T11:13:13.930Z"
   },
   {
    "duration": 234,
    "start_time": "2022-06-29T11:13:16.253Z"
   },
   {
    "duration": 172,
    "start_time": "2022-06-29T11:13:18.476Z"
   },
   {
    "duration": 256,
    "start_time": "2022-06-29T11:13:28.012Z"
   },
   {
    "duration": 205,
    "start_time": "2022-06-29T11:13:30.875Z"
   },
   {
    "duration": 505,
    "start_time": "2022-06-29T11:15:50.969Z"
   },
   {
    "duration": 404,
    "start_time": "2022-06-29T11:16:01.132Z"
   },
   {
    "duration": 390,
    "start_time": "2022-06-29T11:16:19.084Z"
   },
   {
    "duration": 402,
    "start_time": "2022-06-29T11:16:31.151Z"
   },
   {
    "duration": 29,
    "start_time": "2022-06-29T11:16:54.376Z"
   },
   {
    "duration": 50,
    "start_time": "2022-06-29T11:19:00.363Z"
   },
   {
    "duration": 63,
    "start_time": "2022-06-29T11:19:27.457Z"
   },
   {
    "duration": 66,
    "start_time": "2022-06-29T11:19:34.308Z"
   },
   {
    "duration": 67,
    "start_time": "2022-06-29T11:19:58.470Z"
   },
   {
    "duration": 71,
    "start_time": "2022-06-29T11:20:05.300Z"
   },
   {
    "duration": 71,
    "start_time": "2022-06-29T11:20:10.988Z"
   },
   {
    "duration": 68,
    "start_time": "2022-06-29T11:20:14.854Z"
   },
   {
    "duration": 68,
    "start_time": "2022-06-29T11:20:18.766Z"
   },
   {
    "duration": 73,
    "start_time": "2022-06-29T11:20:26.032Z"
   },
   {
    "duration": 77,
    "start_time": "2022-06-29T11:20:31.426Z"
   },
   {
    "duration": 354,
    "start_time": "2022-06-29T11:21:37.000Z"
   },
   {
    "duration": 142,
    "start_time": "2022-06-29T11:22:58.074Z"
   },
   {
    "duration": 41,
    "start_time": "2022-06-29T11:23:04.918Z"
   },
   {
    "duration": 44,
    "start_time": "2022-06-29T11:23:21.345Z"
   },
   {
    "duration": 31,
    "start_time": "2022-06-29T11:23:28.469Z"
   },
   {
    "duration": 37,
    "start_time": "2022-06-29T11:30:03.612Z"
   },
   {
    "duration": 1556,
    "start_time": "2022-06-29T11:38:29.548Z"
   },
   {
    "duration": 909,
    "start_time": "2022-06-29T11:38:32.151Z"
   },
   {
    "duration": 609,
    "start_time": "2022-06-29T11:38:46.544Z"
   },
   {
    "duration": 53,
    "start_time": "2022-06-29T11:38:49.021Z"
   },
   {
    "duration": 44,
    "start_time": "2022-06-29T11:38:51.879Z"
   },
   {
    "duration": 26,
    "start_time": "2022-06-29T11:38:54.188Z"
   },
   {
    "duration": 42240,
    "start_time": "2022-06-29T11:39:00.318Z"
   },
   {
    "duration": 42,
    "start_time": "2022-06-29T11:40:22.745Z"
   },
   {
    "duration": 57,
    "start_time": "2022-06-29T11:40:34.498Z"
   },
   {
    "duration": 109,
    "start_time": "2022-06-29T11:40:41.078Z"
   },
   {
    "duration": 116,
    "start_time": "2022-06-29T11:40:43.374Z"
   },
   {
    "duration": 106,
    "start_time": "2022-06-29T11:40:45.581Z"
   },
   {
    "duration": 31,
    "start_time": "2022-06-29T11:40:47.082Z"
   },
   {
    "duration": 120,
    "start_time": "2022-06-29T11:40:50.415Z"
   },
   {
    "duration": 64,
    "start_time": "2022-06-29T11:40:54.692Z"
   },
   {
    "duration": 15,
    "start_time": "2022-06-29T11:40:59.191Z"
   },
   {
    "duration": 20,
    "start_time": "2022-06-29T11:41:02.390Z"
   },
   {
    "duration": 997,
    "start_time": "2022-06-29T11:41:05.689Z"
   },
   {
    "duration": 10,
    "start_time": "2022-06-29T11:42:13.677Z"
   },
   {
    "duration": 21,
    "start_time": "2022-06-29T11:47:19.304Z"
   },
   {
    "duration": 1685,
    "start_time": "2022-06-29T11:47:47.321Z"
   },
   {
    "duration": 1010,
    "start_time": "2022-06-29T11:47:49.872Z"
   },
   {
    "duration": 264,
    "start_time": "2022-06-29T11:47:50.885Z"
   },
   {
    "duration": 26,
    "start_time": "2022-06-29T11:47:51.151Z"
   },
   {
    "duration": 72,
    "start_time": "2022-06-29T11:47:51.179Z"
   },
   {
    "duration": 276,
    "start_time": "2022-06-29T11:47:51.691Z"
   },
   {
    "duration": 590,
    "start_time": "2022-06-29T11:47:52.390Z"
   },
   {
    "duration": 130,
    "start_time": "2022-06-29T11:47:53.080Z"
   },
   {
    "duration": 297,
    "start_time": "2022-06-29T11:47:54.123Z"
   },
   {
    "duration": 19,
    "start_time": "2022-06-29T11:47:54.703Z"
   },
   {
    "duration": 314,
    "start_time": "2022-06-29T11:47:55.510Z"
   },
   {
    "duration": 185,
    "start_time": "2022-06-29T11:47:56.800Z"
   },
   {
    "duration": 275,
    "start_time": "2022-06-29T11:47:57.904Z"
   },
   {
    "duration": 131,
    "start_time": "2022-06-29T11:48:00.887Z"
   },
   {
    "duration": 763,
    "start_time": "2022-06-29T11:48:02.391Z"
   },
   {
    "duration": 199,
    "start_time": "2022-06-29T11:48:06.191Z"
   },
   {
    "duration": 195,
    "start_time": "2022-06-29T11:48:08.988Z"
   },
   {
    "duration": 292,
    "start_time": "2022-06-29T11:48:10.274Z"
   },
   {
    "duration": 21,
    "start_time": "2022-06-29T11:48:11.116Z"
   },
   {
    "duration": 509,
    "start_time": "2022-06-29T11:48:12.189Z"
   },
   {
    "duration": 541,
    "start_time": "2022-06-29T11:48:16.047Z"
   },
   {
    "duration": 32,
    "start_time": "2022-06-29T11:48:17.578Z"
   },
   {
    "duration": 55,
    "start_time": "2022-06-29T11:48:18.842Z"
   },
   {
    "duration": 31,
    "start_time": "2022-06-29T11:48:21.180Z"
   },
   {
    "duration": 51695,
    "start_time": "2022-06-29T11:48:23.911Z"
   },
   {
    "duration": 152,
    "start_time": "2022-06-29T11:49:15.609Z"
   },
   {
    "duration": 55,
    "start_time": "2022-06-29T11:49:15.767Z"
   },
   {
    "duration": 166,
    "start_time": "2022-06-29T11:50:01.057Z"
   },
   {
    "duration": 81,
    "start_time": "2022-06-29T11:50:03.734Z"
   },
   {
    "duration": 108,
    "start_time": "2022-06-29T11:50:05.802Z"
   },
   {
    "duration": 34,
    "start_time": "2022-06-29T11:50:09.774Z"
   },
   {
    "duration": 106,
    "start_time": "2022-06-29T11:50:10.404Z"
   },
   {
    "duration": 74,
    "start_time": "2022-06-29T11:50:12.373Z"
   },
   {
    "duration": 1021,
    "start_time": "2022-06-29T11:50:16.476Z"
   },
   {
    "duration": 18,
    "start_time": "2022-06-29T11:50:20.696Z"
   },
   {
    "duration": 28,
    "start_time": "2022-06-29T11:51:04.478Z"
   },
   {
    "duration": 932,
    "start_time": "2022-06-29T11:51:15.377Z"
   },
   {
    "duration": 77,
    "start_time": "2022-06-29T11:51:29.403Z"
   },
   {
    "duration": 218,
    "start_time": "2022-06-29T11:51:39.283Z"
   },
   {
    "duration": 3,
    "start_time": "2022-06-29T11:51:43.418Z"
   },
   {
    "duration": 4,
    "start_time": "2022-06-29T11:51:45.382Z"
   },
   {
    "duration": 5121,
    "start_time": "2022-06-29T11:51:52.724Z"
   },
   {
    "duration": 51693,
    "start_time": "2022-06-29T11:52:06.751Z"
   },
   {
    "duration": 7,
    "start_time": "2022-06-29T11:52:58.447Z"
   },
   {
    "duration": 4,
    "start_time": "2022-06-29T11:55:33.878Z"
   },
   {
    "duration": 1737,
    "start_time": "2022-06-29T11:56:26.494Z"
   },
   {
    "duration": 933,
    "start_time": "2022-06-29T11:56:28.236Z"
   },
   {
    "duration": 165,
    "start_time": "2022-06-29T11:56:29.170Z"
   },
   {
    "duration": 27,
    "start_time": "2022-06-29T11:56:29.344Z"
   },
   {
    "duration": 49,
    "start_time": "2022-06-29T11:56:29.373Z"
   },
   {
    "duration": 218,
    "start_time": "2022-06-29T11:56:29.423Z"
   },
   {
    "duration": 545,
    "start_time": "2022-06-29T11:56:29.642Z"
   },
   {
    "duration": 107,
    "start_time": "2022-06-29T11:56:30.188Z"
   },
   {
    "duration": 264,
    "start_time": "2022-06-29T11:56:30.296Z"
   },
   {
    "duration": 10,
    "start_time": "2022-06-29T11:56:30.563Z"
   },
   {
    "duration": 268,
    "start_time": "2022-06-29T11:56:30.575Z"
   },
   {
    "duration": 176,
    "start_time": "2022-06-29T11:56:30.846Z"
   },
   {
    "duration": 262,
    "start_time": "2022-06-29T11:56:31.024Z"
   },
   {
    "duration": 157,
    "start_time": "2022-06-29T11:56:31.289Z"
   },
   {
    "duration": 665,
    "start_time": "2022-06-29T11:56:31.449Z"
   },
   {
    "duration": 243,
    "start_time": "2022-06-29T11:56:32.117Z"
   },
   {
    "duration": 202,
    "start_time": "2022-06-29T11:56:32.362Z"
   },
   {
    "duration": 257,
    "start_time": "2022-06-29T11:56:32.565Z"
   },
   {
    "duration": 28,
    "start_time": "2022-06-29T11:56:32.827Z"
   },
   {
    "duration": 421,
    "start_time": "2022-06-29T11:56:32.861Z"
   },
   {
    "duration": 523,
    "start_time": "2022-06-29T11:56:33.285Z"
   },
   {
    "duration": 34,
    "start_time": "2022-06-29T11:56:33.810Z"
   },
   {
    "duration": 54,
    "start_time": "2022-06-29T11:56:33.846Z"
   },
   {
    "duration": 35,
    "start_time": "2022-06-29T11:56:33.903Z"
   },
   {
    "duration": 44240,
    "start_time": "2022-06-29T11:56:33.941Z"
   },
   {
    "duration": 117,
    "start_time": "2022-06-29T11:57:18.183Z"
   },
   {
    "duration": 187,
    "start_time": "2022-06-29T11:57:18.302Z"
   },
   {
    "duration": 0,
    "start_time": "2022-06-29T11:57:18.492Z"
   },
   {
    "duration": 0,
    "start_time": "2022-06-29T11:57:18.493Z"
   },
   {
    "duration": 0,
    "start_time": "2022-06-29T11:57:18.495Z"
   },
   {
    "duration": 0,
    "start_time": "2022-06-29T11:57:18.498Z"
   },
   {
    "duration": 0,
    "start_time": "2022-06-29T11:57:18.499Z"
   },
   {
    "duration": 0,
    "start_time": "2022-06-29T11:57:18.501Z"
   },
   {
    "duration": 0,
    "start_time": "2022-06-29T11:57:18.502Z"
   },
   {
    "duration": 0,
    "start_time": "2022-06-29T11:57:18.504Z"
   },
   {
    "duration": 0,
    "start_time": "2022-06-29T11:57:18.505Z"
   },
   {
    "duration": 0,
    "start_time": "2022-06-29T11:57:18.506Z"
   },
   {
    "duration": 0,
    "start_time": "2022-06-29T11:57:18.508Z"
   },
   {
    "duration": 0,
    "start_time": "2022-06-29T11:57:18.509Z"
   },
   {
    "duration": 1,
    "start_time": "2022-06-29T11:57:18.526Z"
   },
   {
    "duration": 0,
    "start_time": "2022-06-29T11:57:18.528Z"
   },
   {
    "duration": 0,
    "start_time": "2022-06-29T11:57:18.528Z"
   },
   {
    "duration": 0,
    "start_time": "2022-06-29T11:57:18.529Z"
   },
   {
    "duration": 0,
    "start_time": "2022-06-29T11:57:18.530Z"
   },
   {
    "duration": 0,
    "start_time": "2022-06-29T11:57:18.530Z"
   },
   {
    "duration": 0,
    "start_time": "2022-06-29T11:57:18.531Z"
   },
   {
    "duration": 0,
    "start_time": "2022-06-29T11:57:18.536Z"
   },
   {
    "duration": 0,
    "start_time": "2022-06-29T11:57:18.539Z"
   },
   {
    "duration": 0,
    "start_time": "2022-06-29T11:57:18.540Z"
   },
   {
    "duration": 0,
    "start_time": "2022-06-29T11:57:18.541Z"
   },
   {
    "duration": 0,
    "start_time": "2022-06-29T11:57:18.542Z"
   },
   {
    "duration": 0,
    "start_time": "2022-06-29T11:57:18.543Z"
   },
   {
    "duration": 55,
    "start_time": "2022-06-29T11:58:22.732Z"
   },
   {
    "duration": 101,
    "start_time": "2022-06-29T11:58:25.480Z"
   },
   {
    "duration": 108,
    "start_time": "2022-06-29T11:58:26.028Z"
   },
   {
    "duration": 91,
    "start_time": "2022-06-29T11:58:26.993Z"
   },
   {
    "duration": 28,
    "start_time": "2022-06-29T11:58:27.954Z"
   },
   {
    "duration": 87,
    "start_time": "2022-06-29T11:58:28.272Z"
   },
   {
    "duration": 77,
    "start_time": "2022-06-29T11:58:29.125Z"
   },
   {
    "duration": 959,
    "start_time": "2022-06-29T11:58:29.991Z"
   },
   {
    "duration": 21,
    "start_time": "2022-06-29T11:58:30.952Z"
   },
   {
    "duration": 29,
    "start_time": "2022-06-29T11:58:34.368Z"
   },
   {
    "duration": 1080,
    "start_time": "2022-06-29T11:58:36.209Z"
   },
   {
    "duration": 65,
    "start_time": "2022-06-29T11:58:40.565Z"
   },
   {
    "duration": 228,
    "start_time": "2022-06-29T11:58:44.356Z"
   },
   {
    "duration": 9,
    "start_time": "2022-06-29T11:58:52.650Z"
   },
   {
    "duration": 6,
    "start_time": "2022-06-29T11:58:53.389Z"
   },
   {
    "duration": 55370,
    "start_time": "2022-06-29T11:59:00.023Z"
   },
   {
    "duration": 4,
    "start_time": "2022-06-29T11:59:55.396Z"
   },
   {
    "duration": 775,
    "start_time": "2022-06-29T12:07:10.117Z"
   },
   {
    "duration": 459,
    "start_time": "2022-06-29T12:07:30.652Z"
   },
   {
    "duration": 293,
    "start_time": "2022-06-29T12:08:26.744Z"
   },
   {
    "duration": 44,
    "start_time": "2022-06-29T12:08:43.124Z"
   },
   {
    "duration": 776,
    "start_time": "2022-06-29T12:09:10.576Z"
   },
   {
    "duration": 498,
    "start_time": "2022-06-29T12:09:14.555Z"
   },
   {
    "duration": 289,
    "start_time": "2022-06-29T12:09:17.391Z"
   },
   {
    "duration": 39,
    "start_time": "2022-06-29T12:09:19.260Z"
   },
   {
    "duration": 1322,
    "start_time": "2022-06-29T12:10:47.990Z"
   },
   {
    "duration": 40,
    "start_time": "2022-06-29T12:11:00.145Z"
   },
   {
    "duration": 43,
    "start_time": "2022-06-29T12:11:17.047Z"
   },
   {
    "duration": 75583,
    "start_time": "2022-06-29T12:11:51.761Z"
   },
   {
    "duration": 3,
    "start_time": "2022-06-29T12:13:16.772Z"
   },
   {
    "duration": 74,
    "start_time": "2022-06-29T12:13:45.422Z"
   },
   {
    "duration": 29,
    "start_time": "2022-06-29T12:16:20.393Z"
   },
   {
    "duration": 131968,
    "start_time": "2022-06-29T12:16:44.540Z"
   },
   {
    "duration": 0,
    "start_time": "2022-06-29T12:18:56.510Z"
   },
   {
    "duration": 990,
    "start_time": "2022-06-29T12:19:06.894Z"
   },
   {
    "duration": 73,
    "start_time": "2022-06-29T12:19:10.017Z"
   },
   {
    "duration": 200,
    "start_time": "2022-06-29T12:19:11.685Z"
   },
   {
    "duration": 49217,
    "start_time": "2022-06-29T12:19:15.880Z"
   },
   {
    "duration": 32,
    "start_time": "2022-06-29T12:20:14.262Z"
   },
   {
    "duration": 49841,
    "start_time": "2022-06-29T12:21:44.674Z"
   },
   {
    "duration": 50239,
    "start_time": "2022-06-29T12:24:51.876Z"
   },
   {
    "duration": 18,
    "start_time": "2022-06-29T12:28:14.543Z"
   },
   {
    "duration": 5,
    "start_time": "2022-06-29T12:28:23.875Z"
   },
   {
    "duration": 53,
    "start_time": "2022-06-29T12:28:57.913Z"
   },
   {
    "duration": 5,
    "start_time": "2022-06-29T12:28:59.638Z"
   },
   {
    "duration": 22,
    "start_time": "2022-06-29T12:29:19.027Z"
   },
   {
    "duration": 7,
    "start_time": "2022-06-29T12:29:26.423Z"
   },
   {
    "duration": 522,
    "start_time": "2022-06-29T12:30:11.103Z"
   },
   {
    "duration": 349,
    "start_time": "2022-06-29T12:30:46.398Z"
   },
   {
    "duration": 361,
    "start_time": "2022-06-29T12:32:42.404Z"
   },
   {
    "duration": 4,
    "start_time": "2022-06-29T12:33:28.942Z"
   },
   {
    "duration": 337,
    "start_time": "2022-06-29T12:34:05.858Z"
   },
   {
    "duration": 224,
    "start_time": "2022-06-29T12:35:58.875Z"
   },
   {
    "duration": 215,
    "start_time": "2022-06-29T12:36:13.056Z"
   },
   {
    "duration": 220,
    "start_time": "2022-06-29T12:36:31.190Z"
   },
   {
    "duration": 220,
    "start_time": "2022-06-29T12:36:48.086Z"
   },
   {
    "duration": 253,
    "start_time": "2022-06-29T12:37:09.950Z"
   },
   {
    "duration": 381,
    "start_time": "2022-06-29T12:37:45.705Z"
   },
   {
    "duration": 228,
    "start_time": "2022-06-29T12:37:54.348Z"
   },
   {
    "duration": 273,
    "start_time": "2022-06-29T12:38:14.262Z"
   },
   {
    "duration": 265,
    "start_time": "2022-06-29T12:38:18.587Z"
   },
   {
    "duration": 266,
    "start_time": "2022-06-29T12:38:23.653Z"
   },
   {
    "duration": 5,
    "start_time": "2022-06-29T12:38:42.097Z"
   },
   {
    "duration": 428,
    "start_time": "2022-06-29T12:39:31.640Z"
   },
   {
    "duration": 21,
    "start_time": "2022-06-29T12:40:20.548Z"
   },
   {
    "duration": 7,
    "start_time": "2022-06-29T12:40:49.078Z"
   },
   {
    "duration": 7,
    "start_time": "2022-06-29T12:40:57.636Z"
   },
   {
    "duration": 52,
    "start_time": "2022-06-29T12:41:57.914Z"
   },
   {
    "duration": 12,
    "start_time": "2022-06-29T12:41:58.750Z"
   },
   {
    "duration": 12,
    "start_time": "2022-06-29T12:42:37.084Z"
   },
   {
    "duration": 15,
    "start_time": "2022-06-29T12:43:36.982Z"
   },
   {
    "duration": 267,
    "start_time": "2022-06-29T12:43:45.523Z"
   },
   {
    "duration": 207,
    "start_time": "2022-06-29T12:45:03.976Z"
   },
   {
    "duration": 237,
    "start_time": "2022-06-29T12:45:28.862Z"
   },
   {
    "duration": 237,
    "start_time": "2022-06-29T12:45:32.550Z"
   },
   {
    "duration": 271,
    "start_time": "2022-06-29T12:46:01.608Z"
   },
   {
    "duration": 227,
    "start_time": "2022-06-29T12:51:06.244Z"
   },
   {
    "duration": 245,
    "start_time": "2022-06-29T12:51:29.896Z"
   },
   {
    "duration": 207,
    "start_time": "2022-06-29T12:51:36.670Z"
   },
   {
    "duration": 219,
    "start_time": "2022-06-29T12:51:45.963Z"
   },
   {
    "duration": 220,
    "start_time": "2022-06-29T12:52:56.801Z"
   },
   {
    "duration": 201,
    "start_time": "2022-06-29T12:53:19.056Z"
   },
   {
    "duration": 186,
    "start_time": "2022-06-29T12:53:31.203Z"
   },
   {
    "duration": 5,
    "start_time": "2022-06-29T12:54:14.040Z"
   },
   {
    "duration": 6,
    "start_time": "2022-06-29T12:54:20.643Z"
   },
   {
    "duration": 6,
    "start_time": "2022-06-29T12:54:32.652Z"
   },
   {
    "duration": 203,
    "start_time": "2022-06-29T12:56:04.562Z"
   },
   {
    "duration": 361,
    "start_time": "2022-06-29T12:56:12.186Z"
   },
   {
    "duration": 202,
    "start_time": "2022-06-29T12:57:07.918Z"
   },
   {
    "duration": 199,
    "start_time": "2022-06-29T12:57:17.485Z"
   },
   {
    "duration": 45739,
    "start_time": "2022-06-29T12:59:03.594Z"
   },
   {
    "duration": 0,
    "start_time": "2022-06-29T12:59:49.341Z"
   },
   {
    "duration": 67,
    "start_time": "2022-06-29T12:59:55.697Z"
   },
   {
    "duration": 35,
    "start_time": "2022-06-29T13:00:02.311Z"
   },
   {
    "duration": 42,
    "start_time": "2022-06-29T13:00:07.102Z"
   },
   {
    "duration": 124,
    "start_time": "2022-06-29T13:00:16.057Z"
   },
   {
    "duration": 1569,
    "start_time": "2022-06-29T13:02:18.081Z"
   },
   {
    "duration": 897,
    "start_time": "2022-06-29T13:02:27.052Z"
   },
   {
    "duration": 136,
    "start_time": "2022-06-29T13:02:27.951Z"
   },
   {
    "duration": 29,
    "start_time": "2022-06-29T13:02:28.819Z"
   },
   {
    "duration": 32,
    "start_time": "2022-06-29T13:02:29.094Z"
   },
   {
    "duration": 139,
    "start_time": "2022-06-29T13:02:29.824Z"
   },
   {
    "duration": 549,
    "start_time": "2022-06-29T13:02:30.673Z"
   },
   {
    "duration": 104,
    "start_time": "2022-06-29T13:02:31.882Z"
   },
   {
    "duration": 248,
    "start_time": "2022-06-29T13:02:37.374Z"
   },
   {
    "duration": 9,
    "start_time": "2022-06-29T13:02:38.344Z"
   },
   {
    "duration": 248,
    "start_time": "2022-06-29T13:02:39.959Z"
   },
   {
    "duration": 164,
    "start_time": "2022-06-29T13:02:40.643Z"
   },
   {
    "duration": 243,
    "start_time": "2022-06-29T13:02:46.860Z"
   },
   {
    "duration": 138,
    "start_time": "2022-06-29T13:02:47.996Z"
   },
   {
    "duration": 457,
    "start_time": "2022-06-29T13:02:53.984Z"
   },
   {
    "duration": 174,
    "start_time": "2022-06-29T13:02:56.312Z"
   },
   {
    "duration": 209,
    "start_time": "2022-06-29T13:02:59.778Z"
   },
   {
    "duration": 224,
    "start_time": "2022-06-29T13:05:00.460Z"
   },
   {
    "duration": 242,
    "start_time": "2022-06-29T13:05:56.010Z"
   },
   {
    "duration": 8,
    "start_time": "2022-06-29T13:05:56.551Z"
   },
   {
    "duration": 352,
    "start_time": "2022-06-29T13:05:58.311Z"
   },
   {
    "duration": 480,
    "start_time": "2022-06-29T13:06:18.136Z"
   },
   {
    "duration": 27,
    "start_time": "2022-06-29T13:06:42.842Z"
   },
   {
    "duration": 38,
    "start_time": "2022-06-29T13:06:47.041Z"
   },
   {
    "duration": 29,
    "start_time": "2022-06-29T13:07:02.378Z"
   },
   {
    "duration": 38615,
    "start_time": "2022-06-29T13:07:21.488Z"
   },
   {
    "duration": 95,
    "start_time": "2022-06-29T13:08:00.106Z"
   },
   {
    "duration": 20,
    "start_time": "2022-06-29T13:09:12.873Z"
   },
   {
    "duration": 93,
    "start_time": "2022-06-29T13:09:25.388Z"
   },
   {
    "duration": 1650,
    "start_time": "2022-06-29T13:11:39.795Z"
   },
   {
    "duration": 1066,
    "start_time": "2022-06-29T13:11:41.448Z"
   },
   {
    "duration": 161,
    "start_time": "2022-06-29T13:11:42.515Z"
   },
   {
    "duration": 15,
    "start_time": "2022-06-29T13:11:42.678Z"
   },
   {
    "duration": 63,
    "start_time": "2022-06-29T13:11:42.695Z"
   },
   {
    "duration": 132,
    "start_time": "2022-06-29T13:11:42.759Z"
   },
   {
    "duration": 508,
    "start_time": "2022-06-29T13:11:42.893Z"
   },
   {
    "duration": 113,
    "start_time": "2022-06-29T13:11:43.403Z"
   },
   {
    "duration": 232,
    "start_time": "2022-06-29T13:11:43.518Z"
   },
   {
    "duration": 10,
    "start_time": "2022-06-29T13:11:43.753Z"
   },
   {
    "duration": 274,
    "start_time": "2022-06-29T13:11:43.765Z"
   },
   {
    "duration": 159,
    "start_time": "2022-06-29T13:11:44.042Z"
   },
   {
    "duration": 248,
    "start_time": "2022-06-29T13:11:44.203Z"
   },
   {
    "duration": 130,
    "start_time": "2022-06-29T13:11:44.453Z"
   },
   {
    "duration": 491,
    "start_time": "2022-06-29T13:11:44.584Z"
   },
   {
    "duration": 187,
    "start_time": "2022-06-29T13:11:45.077Z"
   },
   {
    "duration": 215,
    "start_time": "2022-06-29T13:11:45.266Z"
   },
   {
    "duration": 198,
    "start_time": "2022-06-29T13:11:45.483Z"
   },
   {
    "duration": 261,
    "start_time": "2022-06-29T13:11:45.683Z"
   },
   {
    "duration": 11,
    "start_time": "2022-06-29T13:11:45.945Z"
   },
   {
    "duration": 363,
    "start_time": "2022-06-29T13:11:45.958Z"
   },
   {
    "duration": 478,
    "start_time": "2022-06-29T13:11:46.327Z"
   },
   {
    "duration": 36,
    "start_time": "2022-06-29T13:11:46.807Z"
   },
   {
    "duration": 36,
    "start_time": "2022-06-29T13:11:46.845Z"
   },
   {
    "duration": 28,
    "start_time": "2022-06-29T13:11:46.882Z"
   },
   {
    "duration": 23,
    "start_time": "2022-06-29T13:11:46.937Z"
   },
   {
    "duration": 147,
    "start_time": "2022-06-29T13:11:46.962Z"
   },
   {
    "duration": 0,
    "start_time": "2022-06-29T13:11:47.111Z"
   },
   {
    "duration": 0,
    "start_time": "2022-06-29T13:11:47.113Z"
   },
   {
    "duration": 1,
    "start_time": "2022-06-29T13:11:47.114Z"
   },
   {
    "duration": 0,
    "start_time": "2022-06-29T13:11:47.116Z"
   },
   {
    "duration": 0,
    "start_time": "2022-06-29T13:11:47.117Z"
   },
   {
    "duration": 0,
    "start_time": "2022-06-29T13:11:47.126Z"
   },
   {
    "duration": 0,
    "start_time": "2022-06-29T13:11:47.127Z"
   },
   {
    "duration": 0,
    "start_time": "2022-06-29T13:11:47.130Z"
   },
   {
    "duration": 0,
    "start_time": "2022-06-29T13:11:47.132Z"
   },
   {
    "duration": 0,
    "start_time": "2022-06-29T13:11:47.135Z"
   },
   {
    "duration": 0,
    "start_time": "2022-06-29T13:11:47.136Z"
   },
   {
    "duration": 0,
    "start_time": "2022-06-29T13:11:47.137Z"
   },
   {
    "duration": 0,
    "start_time": "2022-06-29T13:11:47.140Z"
   },
   {
    "duration": 0,
    "start_time": "2022-06-29T13:11:47.142Z"
   },
   {
    "duration": 0,
    "start_time": "2022-06-29T13:11:47.143Z"
   },
   {
    "duration": 0,
    "start_time": "2022-06-29T13:11:47.144Z"
   },
   {
    "duration": 0,
    "start_time": "2022-06-29T13:11:47.146Z"
   },
   {
    "duration": 0,
    "start_time": "2022-06-29T13:11:47.146Z"
   },
   {
    "duration": 0,
    "start_time": "2022-06-29T13:11:47.148Z"
   },
   {
    "duration": 0,
    "start_time": "2022-06-29T13:11:47.149Z"
   },
   {
    "duration": 0,
    "start_time": "2022-06-29T13:11:47.149Z"
   },
   {
    "duration": 0,
    "start_time": "2022-06-29T13:11:47.150Z"
   },
   {
    "duration": 0,
    "start_time": "2022-06-29T13:11:47.151Z"
   },
   {
    "duration": 0,
    "start_time": "2022-06-29T13:11:47.152Z"
   },
   {
    "duration": 0,
    "start_time": "2022-06-29T13:11:47.153Z"
   },
   {
    "duration": 0,
    "start_time": "2022-06-29T13:11:47.154Z"
   },
   {
    "duration": 0,
    "start_time": "2022-06-29T13:11:47.155Z"
   },
   {
    "duration": 0,
    "start_time": "2022-06-29T13:11:47.156Z"
   },
   {
    "duration": 0,
    "start_time": "2022-06-29T13:11:47.157Z"
   },
   {
    "duration": 38055,
    "start_time": "2022-06-29T13:12:15.023Z"
   },
   {
    "duration": 83,
    "start_time": "2022-06-29T13:12:53.080Z"
   },
   {
    "duration": 113,
    "start_time": "2022-06-29T13:12:53.164Z"
   },
   {
    "duration": 79,
    "start_time": "2022-06-29T13:12:53.279Z"
   },
   {
    "duration": 111,
    "start_time": "2022-06-29T13:12:53.359Z"
   },
   {
    "duration": 34,
    "start_time": "2022-06-29T13:12:53.472Z"
   },
   {
    "duration": 86,
    "start_time": "2022-06-29T13:12:53.508Z"
   },
   {
    "duration": 5167,
    "start_time": "2022-06-29T13:13:24.021Z"
   },
   {
    "duration": 1508,
    "start_time": "2022-06-29T13:13:37.250Z"
   },
   {
    "duration": 864,
    "start_time": "2022-06-29T13:13:38.760Z"
   },
   {
    "duration": 155,
    "start_time": "2022-06-29T13:13:39.627Z"
   },
   {
    "duration": 15,
    "start_time": "2022-06-29T13:13:39.785Z"
   },
   {
    "duration": 55,
    "start_time": "2022-06-29T13:13:39.802Z"
   },
   {
    "duration": 146,
    "start_time": "2022-06-29T13:13:39.859Z"
   },
   {
    "duration": 541,
    "start_time": "2022-06-29T13:13:40.007Z"
   },
   {
    "duration": 104,
    "start_time": "2022-06-29T13:13:40.550Z"
   },
   {
    "duration": 248,
    "start_time": "2022-06-29T13:13:40.656Z"
   },
   {
    "duration": 20,
    "start_time": "2022-06-29T13:13:40.907Z"
   },
   {
    "duration": 266,
    "start_time": "2022-06-29T13:13:40.928Z"
   },
   {
    "duration": 182,
    "start_time": "2022-06-29T13:13:41.196Z"
   },
   {
    "duration": 298,
    "start_time": "2022-06-29T13:13:41.380Z"
   },
   {
    "duration": 124,
    "start_time": "2022-06-29T13:13:41.681Z"
   },
   {
    "duration": 475,
    "start_time": "2022-06-29T13:13:41.807Z"
   },
   {
    "duration": 183,
    "start_time": "2022-06-29T13:13:42.283Z"
   },
   {
    "duration": 232,
    "start_time": "2022-06-29T13:13:42.468Z"
   },
   {
    "duration": 187,
    "start_time": "2022-06-29T13:13:42.702Z"
   },
   {
    "duration": 252,
    "start_time": "2022-06-29T13:13:42.891Z"
   },
   {
    "duration": 9,
    "start_time": "2022-06-29T13:13:43.144Z"
   },
   {
    "duration": 334,
    "start_time": "2022-06-29T13:13:43.154Z"
   },
   {
    "duration": 468,
    "start_time": "2022-06-29T13:13:43.490Z"
   },
   {
    "duration": 24,
    "start_time": "2022-06-29T13:13:43.960Z"
   },
   {
    "duration": 57,
    "start_time": "2022-06-29T13:13:43.986Z"
   },
   {
    "duration": 30,
    "start_time": "2022-06-29T13:13:44.045Z"
   },
   {
    "duration": 20,
    "start_time": "2022-06-29T13:13:44.078Z"
   },
   {
    "duration": 143,
    "start_time": "2022-06-29T13:13:44.100Z"
   },
   {
    "duration": 0,
    "start_time": "2022-06-29T13:13:44.247Z"
   },
   {
    "duration": 0,
    "start_time": "2022-06-29T13:13:44.249Z"
   },
   {
    "duration": 0,
    "start_time": "2022-06-29T13:13:44.250Z"
   },
   {
    "duration": 0,
    "start_time": "2022-06-29T13:13:44.252Z"
   },
   {
    "duration": 0,
    "start_time": "2022-06-29T13:13:44.253Z"
   },
   {
    "duration": 0,
    "start_time": "2022-06-29T13:13:44.254Z"
   },
   {
    "duration": 0,
    "start_time": "2022-06-29T13:13:44.256Z"
   },
   {
    "duration": 0,
    "start_time": "2022-06-29T13:13:44.257Z"
   },
   {
    "duration": 0,
    "start_time": "2022-06-29T13:13:44.259Z"
   },
   {
    "duration": 0,
    "start_time": "2022-06-29T13:13:44.260Z"
   },
   {
    "duration": 0,
    "start_time": "2022-06-29T13:13:44.261Z"
   },
   {
    "duration": 0,
    "start_time": "2022-06-29T13:13:44.263Z"
   },
   {
    "duration": 0,
    "start_time": "2022-06-29T13:13:44.264Z"
   },
   {
    "duration": 0,
    "start_time": "2022-06-29T13:13:44.266Z"
   },
   {
    "duration": 0,
    "start_time": "2022-06-29T13:13:44.267Z"
   },
   {
    "duration": 0,
    "start_time": "2022-06-29T13:13:44.269Z"
   },
   {
    "duration": 0,
    "start_time": "2022-06-29T13:13:44.271Z"
   },
   {
    "duration": 0,
    "start_time": "2022-06-29T13:13:44.272Z"
   },
   {
    "duration": 0,
    "start_time": "2022-06-29T13:13:44.273Z"
   },
   {
    "duration": 0,
    "start_time": "2022-06-29T13:13:44.275Z"
   },
   {
    "duration": 0,
    "start_time": "2022-06-29T13:13:44.277Z"
   },
   {
    "duration": 0,
    "start_time": "2022-06-29T13:13:44.278Z"
   },
   {
    "duration": 0,
    "start_time": "2022-06-29T13:13:44.328Z"
   },
   {
    "duration": 0,
    "start_time": "2022-06-29T13:13:44.329Z"
   },
   {
    "duration": 0,
    "start_time": "2022-06-29T13:13:44.332Z"
   },
   {
    "duration": 0,
    "start_time": "2022-06-29T13:13:44.332Z"
   },
   {
    "duration": 0,
    "start_time": "2022-06-29T13:13:44.333Z"
   },
   {
    "duration": 0,
    "start_time": "2022-06-29T13:13:44.334Z"
   },
   {
    "duration": 0,
    "start_time": "2022-06-29T13:13:44.337Z"
   },
   {
    "duration": 37629,
    "start_time": "2022-06-29T13:14:07.971Z"
   },
   {
    "duration": 96,
    "start_time": "2022-06-29T13:14:45.602Z"
   },
   {
    "duration": 103,
    "start_time": "2022-06-29T13:14:58.950Z"
   },
   {
    "duration": 67,
    "start_time": "2022-06-29T13:14:59.938Z"
   },
   {
    "duration": 89,
    "start_time": "2022-06-29T13:15:02.064Z"
   },
   {
    "duration": 26,
    "start_time": "2022-06-29T13:15:19.662Z"
   },
   {
    "duration": 102,
    "start_time": "2022-06-29T13:15:20.152Z"
   },
   {
    "duration": 57,
    "start_time": "2022-06-29T13:15:21.824Z"
   },
   {
    "duration": 873,
    "start_time": "2022-06-29T13:15:23.503Z"
   },
   {
    "duration": 13,
    "start_time": "2022-06-29T13:15:26.978Z"
   },
   {
    "duration": 18,
    "start_time": "2022-06-29T13:15:30.486Z"
   },
   {
    "duration": 1054,
    "start_time": "2022-06-29T13:15:36.854Z"
   },
   {
    "duration": 58,
    "start_time": "2022-06-29T13:15:49.587Z"
   },
   {
    "duration": 186,
    "start_time": "2022-06-29T13:15:52.910Z"
   },
   {
    "duration": 3,
    "start_time": "2022-06-29T13:16:05.058Z"
   },
   {
    "duration": 3,
    "start_time": "2022-06-29T13:16:05.795Z"
   },
   {
    "duration": 49545,
    "start_time": "2022-06-29T13:16:11.960Z"
   },
   {
    "duration": 245,
    "start_time": "2022-06-29T13:17:01.508Z"
   },
   {
    "duration": 178,
    "start_time": "2022-06-29T13:17:42.922Z"
   },
   {
    "duration": 1450,
    "start_time": "2022-06-29T13:17:48.509Z"
   },
   {
    "duration": 50865,
    "start_time": "2022-06-29T13:17:51.871Z"
   },
   {
    "duration": 94,
    "start_time": "2022-06-29T13:18:42.739Z"
   },
   {
    "duration": 4803,
    "start_time": "2022-06-29T13:19:15.310Z"
   },
   {
    "duration": 5176,
    "start_time": "2022-06-29T13:19:33.184Z"
   },
   {
    "duration": 70,
    "start_time": "2022-06-29T13:20:07.543Z"
   },
   {
    "duration": 416043,
    "start_time": "2022-06-29T13:20:12.179Z"
   },
   {
    "duration": 173,
    "start_time": "2022-06-29T13:27:08.224Z"
   },
   {
    "duration": 144,
    "start_time": "2022-06-29T13:27:08.399Z"
   },
   {
    "duration": 1516,
    "start_time": "2022-06-29T13:41:52.377Z"
   },
   {
    "duration": 849,
    "start_time": "2022-06-29T13:41:53.895Z"
   },
   {
    "duration": 159,
    "start_time": "2022-06-29T13:41:54.746Z"
   },
   {
    "duration": 34,
    "start_time": "2022-06-29T13:41:54.908Z"
   },
   {
    "duration": 45,
    "start_time": "2022-06-29T13:41:54.943Z"
   },
   {
    "duration": 170,
    "start_time": "2022-06-29T13:41:54.990Z"
   },
   {
    "duration": 494,
    "start_time": "2022-06-29T13:41:55.161Z"
   },
   {
    "duration": 109,
    "start_time": "2022-06-29T13:41:55.657Z"
   },
   {
    "duration": 228,
    "start_time": "2022-06-29T13:41:55.767Z"
   },
   {
    "duration": 31,
    "start_time": "2022-06-29T13:41:56.000Z"
   },
   {
    "duration": 241,
    "start_time": "2022-06-29T13:41:56.033Z"
   },
   {
    "duration": 176,
    "start_time": "2022-06-29T13:41:56.276Z"
   },
   {
    "duration": 255,
    "start_time": "2022-06-29T13:41:56.454Z"
   },
   {
    "duration": 143,
    "start_time": "2022-06-29T13:41:56.710Z"
   },
   {
    "duration": 487,
    "start_time": "2022-06-29T13:41:56.855Z"
   },
   {
    "duration": 191,
    "start_time": "2022-06-29T13:41:57.344Z"
   },
   {
    "duration": 208,
    "start_time": "2022-06-29T13:41:57.537Z"
   },
   {
    "duration": 184,
    "start_time": "2022-06-29T13:41:57.747Z"
   },
   {
    "duration": 263,
    "start_time": "2022-06-29T13:41:57.936Z"
   },
   {
    "duration": 9,
    "start_time": "2022-06-29T13:41:58.201Z"
   },
   {
    "duration": 356,
    "start_time": "2022-06-29T13:41:58.211Z"
   },
   {
    "duration": 498,
    "start_time": "2022-06-29T13:41:58.569Z"
   },
   {
    "duration": 27,
    "start_time": "2022-06-29T13:41:59.069Z"
   },
   {
    "duration": 55,
    "start_time": "2022-06-29T13:41:59.097Z"
   },
   {
    "duration": 26,
    "start_time": "2022-06-29T13:41:59.153Z"
   },
   {
    "duration": 18,
    "start_time": "2022-06-29T13:41:59.181Z"
   },
   {
    "duration": 38122,
    "start_time": "2022-06-29T13:41:59.200Z"
   },
   {
    "duration": 87,
    "start_time": "2022-06-29T13:42:37.326Z"
   },
   {
    "duration": 136,
    "start_time": "2022-06-29T13:42:37.415Z"
   },
   {
    "duration": 86,
    "start_time": "2022-06-29T13:42:37.553Z"
   },
   {
    "duration": 99,
    "start_time": "2022-06-29T13:42:37.645Z"
   },
   {
    "duration": 27,
    "start_time": "2022-06-29T13:42:37.746Z"
   },
   {
    "duration": 89,
    "start_time": "2022-06-29T13:42:37.775Z"
   },
   {
    "duration": 55,
    "start_time": "2022-06-29T13:42:37.866Z"
   },
   {
    "duration": 857,
    "start_time": "2022-06-29T13:42:37.926Z"
   },
   {
    "duration": 14,
    "start_time": "2022-06-29T13:42:38.785Z"
   },
   {
    "duration": 45,
    "start_time": "2022-06-29T13:42:38.801Z"
   },
   {
    "duration": 1000,
    "start_time": "2022-06-29T13:42:38.847Z"
   },
   {
    "duration": 49,
    "start_time": "2022-06-29T13:42:39.848Z"
   },
   {
    "duration": 195,
    "start_time": "2022-06-29T13:42:39.899Z"
   },
   {
    "duration": 2,
    "start_time": "2022-06-29T13:42:40.096Z"
   },
   {
    "duration": 9,
    "start_time": "2022-06-29T13:42:40.100Z"
   },
   {
    "duration": 978797,
    "start_time": "2022-06-29T13:42:40.110Z"
   },
   {
    "duration": 1519,
    "start_time": "2022-06-29T13:59:26.800Z"
   },
   {
    "duration": 890,
    "start_time": "2022-06-29T13:59:28.321Z"
   },
   {
    "duration": 151,
    "start_time": "2022-06-29T13:59:29.213Z"
   },
   {
    "duration": 17,
    "start_time": "2022-06-29T13:59:29.368Z"
   },
   {
    "duration": 71,
    "start_time": "2022-06-29T13:59:29.388Z"
   },
   {
    "duration": 180,
    "start_time": "2022-06-29T13:59:29.461Z"
   },
   {
    "duration": 515,
    "start_time": "2022-06-29T13:59:29.643Z"
   },
   {
    "duration": 110,
    "start_time": "2022-06-29T13:59:30.160Z"
   },
   {
    "duration": 233,
    "start_time": "2022-06-29T13:59:30.272Z"
   },
   {
    "duration": 27,
    "start_time": "2022-06-29T13:59:30.508Z"
   },
   {
    "duration": 264,
    "start_time": "2022-06-29T13:59:30.537Z"
   },
   {
    "duration": 183,
    "start_time": "2022-06-29T13:59:30.803Z"
   },
   {
    "duration": 261,
    "start_time": "2022-06-29T13:59:30.988Z"
   },
   {
    "duration": 133,
    "start_time": "2022-06-29T13:59:31.251Z"
   },
   {
    "duration": 610,
    "start_time": "2022-06-29T13:59:31.386Z"
   },
   {
    "duration": 212,
    "start_time": "2022-06-29T13:59:31.998Z"
   },
   {
    "duration": 229,
    "start_time": "2022-06-29T13:59:32.212Z"
   },
   {
    "duration": 180,
    "start_time": "2022-06-29T13:59:32.446Z"
   },
   {
    "duration": 261,
    "start_time": "2022-06-29T13:59:32.630Z"
   },
   {
    "duration": 9,
    "start_time": "2022-06-29T13:59:32.892Z"
   },
   {
    "duration": 402,
    "start_time": "2022-06-29T13:59:32.902Z"
   },
   {
    "duration": 563,
    "start_time": "2022-06-29T13:59:33.306Z"
   },
   {
    "duration": 26,
    "start_time": "2022-06-29T13:59:33.871Z"
   },
   {
    "duration": 52,
    "start_time": "2022-06-29T13:59:33.899Z"
   },
   {
    "duration": 27,
    "start_time": "2022-06-29T13:59:33.952Z"
   },
   {
    "duration": 19,
    "start_time": "2022-06-29T13:59:33.981Z"
   },
   {
    "duration": 41274,
    "start_time": "2022-06-29T13:59:34.027Z"
   },
   {
    "duration": 93,
    "start_time": "2022-06-29T14:00:15.306Z"
   },
   {
    "duration": 147,
    "start_time": "2022-06-29T14:00:15.401Z"
   },
   {
    "duration": 68,
    "start_time": "2022-06-29T14:00:15.550Z"
   },
   {
    "duration": 107,
    "start_time": "2022-06-29T14:00:15.620Z"
   },
   {
    "duration": 39,
    "start_time": "2022-06-29T14:00:15.729Z"
   },
   {
    "duration": 95,
    "start_time": "2022-06-29T14:00:15.770Z"
   },
   {
    "duration": 71,
    "start_time": "2022-06-29T14:00:15.867Z"
   },
   {
    "duration": 899,
    "start_time": "2022-06-29T14:00:15.946Z"
   },
   {
    "duration": 19,
    "start_time": "2022-06-29T14:00:16.848Z"
   },
   {
    "duration": 30,
    "start_time": "2022-06-29T14:00:16.869Z"
   },
   {
    "duration": 1081,
    "start_time": "2022-06-29T14:00:16.902Z"
   },
   {
    "duration": 70,
    "start_time": "2022-06-29T14:00:17.985Z"
   },
   {
    "duration": 202,
    "start_time": "2022-06-29T14:00:18.057Z"
   },
   {
    "duration": 4,
    "start_time": "2022-06-29T14:00:18.260Z"
   },
   {
    "duration": 31,
    "start_time": "2022-06-29T14:00:18.265Z"
   },
   {
    "duration": 27,
    "start_time": "2022-06-29T14:00:18.298Z"
   },
   {
    "duration": 52708,
    "start_time": "2022-06-29T14:00:18.327Z"
   },
   {
    "duration": 210,
    "start_time": "2022-06-29T14:01:11.037Z"
   },
   {
    "duration": 1419,
    "start_time": "2022-06-29T14:01:11.249Z"
   },
   {
    "duration": 52770,
    "start_time": "2022-06-29T14:01:12.670Z"
   },
   {
    "duration": 141,
    "start_time": "2022-06-29T14:02:05.444Z"
   },
   {
    "duration": 3,
    "start_time": "2022-06-29T14:02:05.587Z"
   },
   {
    "duration": 392397,
    "start_time": "2022-06-29T14:02:05.592Z"
   },
   {
    "duration": 176,
    "start_time": "2022-06-29T14:08:37.991Z"
   },
   {
    "duration": 135,
    "start_time": "2022-06-29T14:08:38.169Z"
   },
   {
    "duration": 3,
    "start_time": "2022-06-29T14:08:38.306Z"
   },
   {
    "duration": 34,
    "start_time": "2022-06-29T14:08:38.311Z"
   },
   {
    "duration": 1528,
    "start_time": "2022-06-29T14:19:32.853Z"
   },
   {
    "duration": 901,
    "start_time": "2022-06-29T14:19:34.392Z"
   },
   {
    "duration": 157,
    "start_time": "2022-06-29T14:19:35.295Z"
   },
   {
    "duration": 26,
    "start_time": "2022-06-29T14:19:35.619Z"
   },
   {
    "duration": 32,
    "start_time": "2022-06-29T14:19:35.890Z"
   },
   {
    "duration": 142,
    "start_time": "2022-06-29T14:19:36.461Z"
   },
   {
    "duration": 539,
    "start_time": "2022-06-29T14:19:37.002Z"
   },
   {
    "duration": 116,
    "start_time": "2022-06-29T14:19:37.622Z"
   },
   {
    "duration": 274,
    "start_time": "2022-06-29T14:19:38.476Z"
   },
   {
    "duration": 12,
    "start_time": "2022-06-29T14:19:38.752Z"
   },
   {
    "duration": 260,
    "start_time": "2022-06-29T14:19:39.280Z"
   },
   {
    "duration": 152,
    "start_time": "2022-06-29T14:19:39.854Z"
   },
   {
    "duration": 264,
    "start_time": "2022-06-29T14:19:40.412Z"
   },
   {
    "duration": 103,
    "start_time": "2022-06-29T14:19:41.071Z"
   },
   {
    "duration": 493,
    "start_time": "2022-06-29T14:19:41.682Z"
   },
   {
    "duration": 227,
    "start_time": "2022-06-29T14:19:42.177Z"
   },
   {
    "duration": 209,
    "start_time": "2022-06-29T14:19:43.047Z"
   },
   {
    "duration": 164,
    "start_time": "2022-06-29T14:19:43.643Z"
   },
   {
    "duration": 228,
    "start_time": "2022-06-29T14:19:44.277Z"
   },
   {
    "duration": 9,
    "start_time": "2022-06-29T14:19:44.588Z"
   },
   {
    "duration": 336,
    "start_time": "2022-06-29T14:19:45.215Z"
   },
   {
    "duration": 437,
    "start_time": "2022-06-29T14:19:46.990Z"
   },
   {
    "duration": 26,
    "start_time": "2022-06-29T14:19:49.239Z"
   },
   {
    "duration": 37,
    "start_time": "2022-06-29T14:19:50.505Z"
   },
   {
    "duration": 33,
    "start_time": "2022-06-29T14:19:51.717Z"
   },
   {
    "duration": 20,
    "start_time": "2022-06-29T14:19:56.755Z"
   },
   {
    "duration": 37277,
    "start_time": "2022-06-29T14:19:58.954Z"
   },
   {
    "duration": 81,
    "start_time": "2022-06-29T14:20:36.233Z"
   },
   {
    "duration": 117,
    "start_time": "2022-06-29T14:20:36.327Z"
   },
   {
    "duration": 81,
    "start_time": "2022-06-29T14:20:36.446Z"
   },
   {
    "duration": 99,
    "start_time": "2022-06-29T14:20:36.529Z"
   },
   {
    "duration": 32,
    "start_time": "2022-06-29T14:20:36.634Z"
   },
   {
    "duration": 103,
    "start_time": "2022-06-29T14:20:36.669Z"
   },
   {
    "duration": 89,
    "start_time": "2022-06-29T14:20:36.774Z"
   },
   {
    "duration": 999,
    "start_time": "2022-06-29T14:20:36.866Z"
   },
   {
    "duration": 15,
    "start_time": "2022-06-29T14:20:37.868Z"
   },
   {
    "duration": 21,
    "start_time": "2022-06-29T14:20:37.885Z"
   },
   {
    "duration": 76,
    "start_time": "2022-06-29T14:20:40.358Z"
   },
   {
    "duration": 136,
    "start_time": "2022-06-29T14:20:49.095Z"
   },
   {
    "duration": 3,
    "start_time": "2022-06-29T14:20:57.522Z"
   },
   {
    "duration": 5,
    "start_time": "2022-06-29T14:20:58.758Z"
   },
   {
    "duration": 11,
    "start_time": "2022-06-29T14:21:04.067Z"
   },
   {
    "duration": 943,
    "start_time": "2022-06-29T14:21:29.354Z"
   },
   {
    "duration": 81,
    "start_time": "2022-06-29T14:21:37.222Z"
   },
   {
    "duration": 369775,
    "start_time": "2022-06-29T14:21:42.770Z"
   },
   {
    "duration": 0,
    "start_time": "2022-06-29T14:27:52.546Z"
   },
   {
    "duration": 0,
    "start_time": "2022-06-29T14:27:52.548Z"
   },
   {
    "duration": 0,
    "start_time": "2022-06-29T14:27:52.549Z"
   },
   {
    "duration": 0,
    "start_time": "2022-06-29T14:27:52.550Z"
   },
   {
    "duration": 173,
    "start_time": "2022-06-29T14:28:41.846Z"
   },
   {
    "duration": 118,
    "start_time": "2022-06-29T14:28:47.471Z"
   },
   {
    "duration": 32,
    "start_time": "2022-06-29T14:28:54.578Z"
   },
   {
    "duration": 661468,
    "start_time": "2022-06-29T14:29:03.677Z"
   },
   {
    "duration": 51,
    "start_time": "2022-06-29T14:47:04.704Z"
   },
   {
    "duration": 1573,
    "start_time": "2022-06-29T14:47:34.798Z"
   },
   {
    "duration": 846,
    "start_time": "2022-06-29T14:47:36.373Z"
   },
   {
    "duration": 178,
    "start_time": "2022-06-29T14:47:37.221Z"
   },
   {
    "duration": 27,
    "start_time": "2022-06-29T14:47:37.402Z"
   },
   {
    "duration": 37,
    "start_time": "2022-06-29T14:47:37.432Z"
   },
   {
    "duration": 161,
    "start_time": "2022-06-29T14:47:37.470Z"
   },
   {
    "duration": 458,
    "start_time": "2022-06-29T14:47:37.633Z"
   },
   {
    "duration": 104,
    "start_time": "2022-06-29T14:47:38.093Z"
   },
   {
    "duration": 247,
    "start_time": "2022-06-29T14:47:38.199Z"
   },
   {
    "duration": 12,
    "start_time": "2022-06-29T14:47:38.450Z"
   },
   {
    "duration": 265,
    "start_time": "2022-06-29T14:47:38.463Z"
   },
   {
    "duration": 169,
    "start_time": "2022-06-29T14:47:38.730Z"
   },
   {
    "duration": 246,
    "start_time": "2022-06-29T14:47:38.901Z"
   },
   {
    "duration": 118,
    "start_time": "2022-06-29T14:47:39.148Z"
   },
   {
    "duration": 446,
    "start_time": "2022-06-29T14:47:39.267Z"
   },
   {
    "duration": 172,
    "start_time": "2022-06-29T14:47:39.714Z"
   },
   {
    "duration": 214,
    "start_time": "2022-06-29T14:47:39.888Z"
   },
   {
    "duration": 185,
    "start_time": "2022-06-29T14:47:40.104Z"
   },
   {
    "duration": 250,
    "start_time": "2022-06-29T14:47:40.291Z"
   },
   {
    "duration": 8,
    "start_time": "2022-06-29T14:47:40.544Z"
   },
   {
    "duration": 341,
    "start_time": "2022-06-29T14:47:40.553Z"
   },
   {
    "duration": 458,
    "start_time": "2022-06-29T14:47:40.896Z"
   },
   {
    "duration": 26,
    "start_time": "2022-06-29T14:47:41.355Z"
   },
   {
    "duration": 53,
    "start_time": "2022-06-29T14:47:41.383Z"
   },
   {
    "duration": 36,
    "start_time": "2022-06-29T14:47:41.439Z"
   },
   {
    "duration": 25,
    "start_time": "2022-06-29T14:47:41.477Z"
   },
   {
    "duration": 35126,
    "start_time": "2022-06-29T14:47:41.505Z"
   },
   {
    "duration": 73,
    "start_time": "2022-06-29T14:48:16.634Z"
   },
   {
    "duration": 97,
    "start_time": "2022-06-29T14:48:16.709Z"
   },
   {
    "duration": 70,
    "start_time": "2022-06-29T14:48:16.808Z"
   },
   {
    "duration": 94,
    "start_time": "2022-06-29T14:48:16.879Z"
   },
   {
    "duration": 26,
    "start_time": "2022-06-29T14:48:16.974Z"
   },
   {
    "duration": 91,
    "start_time": "2022-06-29T14:48:17.002Z"
   },
   {
    "duration": 59,
    "start_time": "2022-06-29T14:48:17.094Z"
   },
   {
    "duration": 813,
    "start_time": "2022-06-29T14:48:17.155Z"
   },
   {
    "duration": 13,
    "start_time": "2022-06-29T14:48:17.970Z"
   },
   {
    "duration": 17,
    "start_time": "2022-06-29T14:48:17.985Z"
   },
   {
    "duration": 926,
    "start_time": "2022-06-29T14:48:18.004Z"
   },
   {
    "duration": 51,
    "start_time": "2022-06-29T14:48:18.931Z"
   },
   {
    "duration": 180,
    "start_time": "2022-06-29T14:48:18.984Z"
   },
   {
    "duration": 3,
    "start_time": "2022-06-29T14:48:19.165Z"
   },
   {
    "duration": 6,
    "start_time": "2022-06-29T14:48:19.170Z"
   },
   {
    "duration": 6,
    "start_time": "2022-06-29T14:48:19.178Z"
   },
   {
    "duration": 45391,
    "start_time": "2022-06-29T14:48:19.186Z"
   },
   {
    "duration": 183,
    "start_time": "2022-06-29T14:49:04.579Z"
   },
   {
    "duration": 1246,
    "start_time": "2022-06-29T14:49:04.764Z"
   },
   {
    "duration": 27715,
    "start_time": "2022-06-29T14:49:06.012Z"
   },
   {
    "duration": 148,
    "start_time": "2022-06-29T14:49:33.730Z"
   },
   {
    "duration": 3,
    "start_time": "2022-06-29T14:49:33.879Z"
   },
   {
    "duration": 401274,
    "start_time": "2022-06-29T14:49:33.883Z"
   },
   {
    "duration": 193,
    "start_time": "2022-06-29T14:56:15.159Z"
   },
   {
    "duration": 154,
    "start_time": "2022-06-29T14:56:15.354Z"
   },
   {
    "duration": 3,
    "start_time": "2022-06-29T14:56:15.509Z"
   },
   {
    "duration": 390287,
    "start_time": "2022-06-29T14:56:15.513Z"
   },
   {
    "duration": 0,
    "start_time": "2022-06-29T15:02:45.802Z"
   },
   {
    "duration": 0,
    "start_time": "2022-06-29T15:02:45.803Z"
   },
   {
    "duration": 0,
    "start_time": "2022-06-29T15:02:45.806Z"
   },
   {
    "duration": 2316,
    "start_time": "2022-06-29T15:03:11.113Z"
   },
   {
    "duration": 1621,
    "start_time": "2022-06-29T15:03:59.310Z"
   },
   {
    "duration": 938,
    "start_time": "2022-06-29T15:04:00.934Z"
   },
   {
    "duration": 140,
    "start_time": "2022-06-29T15:04:01.874Z"
   },
   {
    "duration": 21,
    "start_time": "2022-06-29T15:04:03.936Z"
   },
   {
    "duration": 32,
    "start_time": "2022-06-29T15:04:04.257Z"
   },
   {
    "duration": 131,
    "start_time": "2022-06-29T15:04:05.065Z"
   },
   {
    "duration": 476,
    "start_time": "2022-06-29T15:04:05.746Z"
   },
   {
    "duration": 95,
    "start_time": "2022-06-29T15:04:06.402Z"
   },
   {
    "duration": 231,
    "start_time": "2022-06-29T15:04:07.445Z"
   },
   {
    "duration": 12,
    "start_time": "2022-06-29T15:04:07.782Z"
   },
   {
    "duration": 266,
    "start_time": "2022-06-29T15:04:08.454Z"
   },
   {
    "duration": 158,
    "start_time": "2022-06-29T15:04:09.018Z"
   },
   {
    "duration": 263,
    "start_time": "2022-06-29T15:04:09.513Z"
   },
   {
    "duration": 108,
    "start_time": "2022-06-29T15:04:10.065Z"
   },
   {
    "duration": 496,
    "start_time": "2022-06-29T15:04:10.613Z"
   },
   {
    "duration": 198,
    "start_time": "2022-06-29T15:04:11.161Z"
   },
   {
    "duration": 265,
    "start_time": "2022-06-29T15:04:13.922Z"
   },
   {
    "duration": 190,
    "start_time": "2022-06-29T15:04:14.397Z"
   },
   {
    "duration": 235,
    "start_time": "2022-06-29T15:04:15.335Z"
   },
   {
    "duration": 11,
    "start_time": "2022-06-29T15:04:15.636Z"
   },
   {
    "duration": 330,
    "start_time": "2022-06-29T15:04:16.313Z"
   },
   {
    "duration": 487,
    "start_time": "2022-06-29T15:04:19.423Z"
   },
   {
    "duration": 28,
    "start_time": "2022-06-29T15:04:20.076Z"
   },
   {
    "duration": 37,
    "start_time": "2022-06-29T15:04:20.746Z"
   },
   {
    "duration": 47,
    "start_time": "2022-06-29T15:04:21.435Z"
   },
   {
    "duration": 21,
    "start_time": "2022-06-29T15:04:22.424Z"
   },
   {
    "duration": 35727,
    "start_time": "2022-06-29T15:04:24.485Z"
   },
   {
    "duration": 83,
    "start_time": "2022-06-29T15:05:25.959Z"
   },
   {
    "duration": 98,
    "start_time": "2022-06-29T15:05:26.828Z"
   },
   {
    "duration": 70,
    "start_time": "2022-06-29T15:05:27.343Z"
   },
   {
    "duration": 114,
    "start_time": "2022-06-29T15:05:28.698Z"
   },
   {
    "duration": 37,
    "start_time": "2022-06-29T15:05:29.484Z"
   },
   {
    "duration": 82,
    "start_time": "2022-06-29T15:05:29.859Z"
   },
   {
    "duration": 50,
    "start_time": "2022-06-29T15:05:30.817Z"
   },
   {
    "duration": 844,
    "start_time": "2022-06-29T15:05:31.729Z"
   },
   {
    "duration": 13,
    "start_time": "2022-06-29T15:05:32.960Z"
   },
   {
    "duration": 25,
    "start_time": "2022-06-29T15:05:37.147Z"
   },
   {
    "duration": 930,
    "start_time": "2022-06-29T15:05:42.380Z"
   },
   {
    "duration": 3,
    "start_time": "2022-06-29T15:05:49.836Z"
   },
   {
    "duration": 5,
    "start_time": "2022-06-29T15:05:50.088Z"
   },
   {
    "duration": 67,
    "start_time": "2022-06-29T15:06:01.121Z"
   },
   {
    "duration": 129,
    "start_time": "2022-06-29T15:06:08.247Z"
   },
   {
    "duration": 82569,
    "start_time": "2022-06-29T15:06:12.582Z"
   },
   {
    "duration": 10,
    "start_time": "2022-06-29T15:16:02.404Z"
   },
   {
    "duration": 9,
    "start_time": "2022-06-29T15:16:25.181Z"
   },
   {
    "duration": 416,
    "start_time": "2022-06-29T15:46:29.782Z"
   },
   {
    "duration": 0,
    "start_time": "2022-06-29T15:46:30.201Z"
   },
   {
    "duration": 0,
    "start_time": "2022-06-29T15:46:30.202Z"
   },
   {
    "duration": 0,
    "start_time": "2022-06-29T15:46:30.203Z"
   },
   {
    "duration": 0,
    "start_time": "2022-06-29T15:46:30.204Z"
   },
   {
    "duration": 0,
    "start_time": "2022-06-29T15:46:30.205Z"
   },
   {
    "duration": 0,
    "start_time": "2022-06-29T15:46:30.206Z"
   },
   {
    "duration": 0,
    "start_time": "2022-06-29T15:46:30.207Z"
   },
   {
    "duration": 0,
    "start_time": "2022-06-29T15:46:30.208Z"
   },
   {
    "duration": 0,
    "start_time": "2022-06-29T15:46:30.209Z"
   },
   {
    "duration": 0,
    "start_time": "2022-06-29T15:46:30.210Z"
   },
   {
    "duration": 0,
    "start_time": "2022-06-29T15:46:30.211Z"
   },
   {
    "duration": 0,
    "start_time": "2022-06-29T15:46:30.229Z"
   },
   {
    "duration": 0,
    "start_time": "2022-06-29T15:46:30.230Z"
   },
   {
    "duration": 0,
    "start_time": "2022-06-29T15:46:30.231Z"
   },
   {
    "duration": 0,
    "start_time": "2022-06-29T15:46:30.232Z"
   },
   {
    "duration": 0,
    "start_time": "2022-06-29T15:46:30.233Z"
   },
   {
    "duration": 0,
    "start_time": "2022-06-29T15:46:30.234Z"
   },
   {
    "duration": 0,
    "start_time": "2022-06-29T15:46:30.235Z"
   },
   {
    "duration": 0,
    "start_time": "2022-06-29T15:46:30.236Z"
   },
   {
    "duration": 0,
    "start_time": "2022-06-29T15:46:30.237Z"
   },
   {
    "duration": 0,
    "start_time": "2022-06-29T15:46:30.237Z"
   },
   {
    "duration": 0,
    "start_time": "2022-06-29T15:46:30.238Z"
   },
   {
    "duration": 0,
    "start_time": "2022-06-29T15:46:30.239Z"
   },
   {
    "duration": 0,
    "start_time": "2022-06-29T15:46:30.240Z"
   },
   {
    "duration": 0,
    "start_time": "2022-06-29T15:46:30.241Z"
   },
   {
    "duration": 0,
    "start_time": "2022-06-29T15:46:30.242Z"
   },
   {
    "duration": 0,
    "start_time": "2022-06-29T15:46:30.243Z"
   },
   {
    "duration": 0,
    "start_time": "2022-06-29T15:46:30.244Z"
   },
   {
    "duration": 0,
    "start_time": "2022-06-29T15:46:30.245Z"
   },
   {
    "duration": 0,
    "start_time": "2022-06-29T15:46:30.246Z"
   },
   {
    "duration": 0,
    "start_time": "2022-06-29T15:46:30.246Z"
   },
   {
    "duration": 0,
    "start_time": "2022-06-29T15:46:30.247Z"
   },
   {
    "duration": 0,
    "start_time": "2022-06-29T15:46:30.248Z"
   },
   {
    "duration": 0,
    "start_time": "2022-06-29T15:46:30.249Z"
   },
   {
    "duration": 0,
    "start_time": "2022-06-29T15:46:30.250Z"
   },
   {
    "duration": 0,
    "start_time": "2022-06-29T15:46:30.251Z"
   },
   {
    "duration": 0,
    "start_time": "2022-06-29T15:46:30.252Z"
   },
   {
    "duration": 0,
    "start_time": "2022-06-29T15:46:30.252Z"
   },
   {
    "duration": 0,
    "start_time": "2022-06-29T15:46:30.253Z"
   },
   {
    "duration": 0,
    "start_time": "2022-06-29T15:46:30.254Z"
   },
   {
    "duration": 0,
    "start_time": "2022-06-29T15:46:30.255Z"
   },
   {
    "duration": 0,
    "start_time": "2022-06-29T15:46:30.256Z"
   },
   {
    "duration": 0,
    "start_time": "2022-06-29T15:46:30.257Z"
   },
   {
    "duration": 0,
    "start_time": "2022-06-29T15:46:30.258Z"
   },
   {
    "duration": 0,
    "start_time": "2022-06-29T15:46:30.259Z"
   },
   {
    "duration": 0,
    "start_time": "2022-06-29T15:46:30.260Z"
   },
   {
    "duration": 0,
    "start_time": "2022-06-29T15:46:30.261Z"
   },
   {
    "duration": 0,
    "start_time": "2022-06-29T15:46:30.262Z"
   },
   {
    "duration": 0,
    "start_time": "2022-06-29T15:46:30.263Z"
   },
   {
    "duration": 0,
    "start_time": "2022-06-29T15:46:30.264Z"
   },
   {
    "duration": 0,
    "start_time": "2022-06-29T15:46:30.265Z"
   },
   {
    "duration": 0,
    "start_time": "2022-06-29T15:46:30.266Z"
   },
   {
    "duration": 0,
    "start_time": "2022-06-29T15:46:30.329Z"
   },
   {
    "duration": 0,
    "start_time": "2022-06-29T15:46:30.330Z"
   },
   {
    "duration": 0,
    "start_time": "2022-06-29T15:46:30.331Z"
   },
   {
    "duration": 435,
    "start_time": "2022-06-29T15:46:50.534Z"
   },
   {
    "duration": 0,
    "start_time": "2022-06-29T15:46:50.972Z"
   },
   {
    "duration": 0,
    "start_time": "2022-06-29T15:46:50.973Z"
   },
   {
    "duration": 0,
    "start_time": "2022-06-29T15:46:50.974Z"
   },
   {
    "duration": 0,
    "start_time": "2022-06-29T15:46:50.975Z"
   },
   {
    "duration": 0,
    "start_time": "2022-06-29T15:46:50.976Z"
   },
   {
    "duration": 0,
    "start_time": "2022-06-29T15:46:50.977Z"
   },
   {
    "duration": 0,
    "start_time": "2022-06-29T15:46:50.978Z"
   },
   {
    "duration": 0,
    "start_time": "2022-06-29T15:46:50.978Z"
   },
   {
    "duration": 0,
    "start_time": "2022-06-29T15:46:50.979Z"
   },
   {
    "duration": 0,
    "start_time": "2022-06-29T15:46:50.981Z"
   },
   {
    "duration": 0,
    "start_time": "2022-06-29T15:46:50.982Z"
   },
   {
    "duration": 0,
    "start_time": "2022-06-29T15:46:50.983Z"
   },
   {
    "duration": 0,
    "start_time": "2022-06-29T15:46:50.984Z"
   },
   {
    "duration": 0,
    "start_time": "2022-06-29T15:46:50.985Z"
   },
   {
    "duration": 0,
    "start_time": "2022-06-29T15:46:50.986Z"
   },
   {
    "duration": 0,
    "start_time": "2022-06-29T15:46:50.987Z"
   },
   {
    "duration": 0,
    "start_time": "2022-06-29T15:46:50.988Z"
   },
   {
    "duration": 0,
    "start_time": "2022-06-29T15:46:50.990Z"
   },
   {
    "duration": 0,
    "start_time": "2022-06-29T15:46:50.991Z"
   },
   {
    "duration": 0,
    "start_time": "2022-06-29T15:46:50.992Z"
   },
   {
    "duration": 0,
    "start_time": "2022-06-29T15:46:50.993Z"
   },
   {
    "duration": 0,
    "start_time": "2022-06-29T15:46:50.994Z"
   },
   {
    "duration": 0,
    "start_time": "2022-06-29T15:46:50.994Z"
   },
   {
    "duration": 0,
    "start_time": "2022-06-29T15:46:51.029Z"
   },
   {
    "duration": 0,
    "start_time": "2022-06-29T15:46:51.030Z"
   },
   {
    "duration": 0,
    "start_time": "2022-06-29T15:46:51.030Z"
   },
   {
    "duration": 0,
    "start_time": "2022-06-29T15:46:51.032Z"
   },
   {
    "duration": 0,
    "start_time": "2022-06-29T15:46:51.033Z"
   },
   {
    "duration": 0,
    "start_time": "2022-06-29T15:46:51.034Z"
   },
   {
    "duration": 0,
    "start_time": "2022-06-29T15:46:51.035Z"
   },
   {
    "duration": 0,
    "start_time": "2022-06-29T15:46:51.035Z"
   },
   {
    "duration": 0,
    "start_time": "2022-06-29T15:46:51.036Z"
   },
   {
    "duration": 0,
    "start_time": "2022-06-29T15:46:51.037Z"
   },
   {
    "duration": 0,
    "start_time": "2022-06-29T15:46:51.039Z"
   },
   {
    "duration": 0,
    "start_time": "2022-06-29T15:46:51.040Z"
   },
   {
    "duration": 0,
    "start_time": "2022-06-29T15:46:51.041Z"
   },
   {
    "duration": 0,
    "start_time": "2022-06-29T15:46:51.042Z"
   },
   {
    "duration": 0,
    "start_time": "2022-06-29T15:46:51.044Z"
   },
   {
    "duration": 0,
    "start_time": "2022-06-29T15:46:51.045Z"
   },
   {
    "duration": 0,
    "start_time": "2022-06-29T15:46:51.046Z"
   },
   {
    "duration": 0,
    "start_time": "2022-06-29T15:46:51.047Z"
   },
   {
    "duration": 0,
    "start_time": "2022-06-29T15:46:51.048Z"
   },
   {
    "duration": 0,
    "start_time": "2022-06-29T15:46:51.049Z"
   },
   {
    "duration": 0,
    "start_time": "2022-06-29T15:46:51.050Z"
   },
   {
    "duration": 0,
    "start_time": "2022-06-29T15:46:51.051Z"
   },
   {
    "duration": 0,
    "start_time": "2022-06-29T15:46:51.052Z"
   },
   {
    "duration": 0,
    "start_time": "2022-06-29T15:46:51.053Z"
   },
   {
    "duration": 0,
    "start_time": "2022-06-29T15:46:51.053Z"
   },
   {
    "duration": 0,
    "start_time": "2022-06-29T15:46:51.054Z"
   },
   {
    "duration": 0,
    "start_time": "2022-06-29T15:46:51.055Z"
   },
   {
    "duration": 0,
    "start_time": "2022-06-29T15:46:51.056Z"
   },
   {
    "duration": 0,
    "start_time": "2022-06-29T15:46:51.057Z"
   },
   {
    "duration": 0,
    "start_time": "2022-06-29T15:46:51.059Z"
   },
   {
    "duration": 0,
    "start_time": "2022-06-29T15:46:51.060Z"
   },
   {
    "duration": 0,
    "start_time": "2022-06-29T15:46:51.060Z"
   },
   {
    "duration": 4557,
    "start_time": "2022-06-29T15:47:27.486Z"
   },
   {
    "duration": 2824,
    "start_time": "2022-06-29T15:47:32.045Z"
   },
   {
    "duration": 105,
    "start_time": "2022-06-29T15:47:34.870Z"
   },
   {
    "duration": 16,
    "start_time": "2022-06-29T15:47:34.977Z"
   },
   {
    "duration": 40,
    "start_time": "2022-06-29T15:47:34.994Z"
   },
   {
    "duration": 106,
    "start_time": "2022-06-29T15:47:35.036Z"
   },
   {
    "duration": 432,
    "start_time": "2022-06-29T15:47:35.144Z"
   },
   {
    "duration": 95,
    "start_time": "2022-06-29T15:47:35.577Z"
   },
   {
    "duration": 219,
    "start_time": "2022-06-29T15:47:35.674Z"
   },
   {
    "duration": 11,
    "start_time": "2022-06-29T15:47:35.895Z"
   },
   {
    "duration": 277,
    "start_time": "2022-06-29T15:47:35.907Z"
   },
   {
    "duration": 149,
    "start_time": "2022-06-29T15:47:36.186Z"
   },
   {
    "duration": 219,
    "start_time": "2022-06-29T15:47:36.336Z"
   },
   {
    "duration": 117,
    "start_time": "2022-06-29T15:47:36.556Z"
   },
   {
    "duration": 377,
    "start_time": "2022-06-29T15:47:36.674Z"
   },
   {
    "duration": 157,
    "start_time": "2022-06-29T15:47:37.053Z"
   },
   {
    "duration": 233,
    "start_time": "2022-06-29T15:47:37.212Z"
   },
   {
    "duration": 169,
    "start_time": "2022-06-29T15:47:37.447Z"
   },
   {
    "duration": 227,
    "start_time": "2022-06-29T15:47:37.617Z"
   },
   {
    "duration": 8,
    "start_time": "2022-06-29T15:47:37.846Z"
   },
   {
    "duration": 311,
    "start_time": "2022-06-29T15:47:37.856Z"
   },
   {
    "duration": 414,
    "start_time": "2022-06-29T15:47:38.168Z"
   },
   {
    "duration": 28,
    "start_time": "2022-06-29T15:47:38.584Z"
   },
   {
    "duration": 48,
    "start_time": "2022-06-29T15:47:38.614Z"
   },
   {
    "duration": 27,
    "start_time": "2022-06-29T15:47:38.664Z"
   },
   {
    "duration": 38,
    "start_time": "2022-06-29T15:47:38.693Z"
   },
   {
    "duration": 29950,
    "start_time": "2022-06-29T15:47:38.733Z"
   },
   {
    "duration": 64,
    "start_time": "2022-06-29T15:48:08.687Z"
   },
   {
    "duration": 86,
    "start_time": "2022-06-29T15:48:08.752Z"
   },
   {
    "duration": 50,
    "start_time": "2022-06-29T15:48:08.840Z"
   },
   {
    "duration": 104,
    "start_time": "2022-06-29T15:48:08.891Z"
   },
   {
    "duration": 37,
    "start_time": "2022-06-29T15:48:08.996Z"
   },
   {
    "duration": 73,
    "start_time": "2022-06-29T15:48:09.035Z"
   },
   {
    "duration": 63,
    "start_time": "2022-06-29T15:48:09.109Z"
   },
   {
    "duration": 810,
    "start_time": "2022-06-29T15:48:09.174Z"
   },
   {
    "duration": 13,
    "start_time": "2022-06-29T15:48:09.986Z"
   },
   {
    "duration": 37,
    "start_time": "2022-06-29T15:48:10.001Z"
   },
   {
    "duration": 820,
    "start_time": "2022-06-29T15:48:10.039Z"
   },
   {
    "duration": 44,
    "start_time": "2022-06-29T15:48:10.860Z"
   },
   {
    "duration": 173,
    "start_time": "2022-06-29T15:48:10.905Z"
   },
   {
    "duration": 3,
    "start_time": "2022-06-29T15:48:11.079Z"
   },
   {
    "duration": 8,
    "start_time": "2022-06-29T15:48:11.084Z"
   },
   {
    "duration": 1064556,
    "start_time": "2022-06-29T15:48:11.093Z"
   },
   {
    "duration": 42778,
    "start_time": "2022-06-29T16:05:55.651Z"
   },
   {
    "duration": 159,
    "start_time": "2022-06-29T16:06:38.431Z"
   },
   {
    "duration": 1141,
    "start_time": "2022-06-29T16:06:38.592Z"
   },
   {
    "duration": 3803,
    "start_time": "2022-06-29T16:07:39.654Z"
   },
   {
    "duration": 2914,
    "start_time": "2022-06-29T16:07:43.459Z"
   },
   {
    "duration": 100,
    "start_time": "2022-06-29T16:07:46.375Z"
   },
   {
    "duration": 17,
    "start_time": "2022-06-29T16:07:46.478Z"
   },
   {
    "duration": 43,
    "start_time": "2022-06-29T16:07:46.496Z"
   },
   {
    "duration": 105,
    "start_time": "2022-06-29T16:07:46.541Z"
   },
   {
    "duration": 440,
    "start_time": "2022-06-29T16:07:46.647Z"
   },
   {
    "duration": 105,
    "start_time": "2022-06-29T16:07:47.088Z"
   },
   {
    "duration": 234,
    "start_time": "2022-06-29T16:07:47.195Z"
   },
   {
    "duration": 9,
    "start_time": "2022-06-29T16:07:47.431Z"
   },
   {
    "duration": 226,
    "start_time": "2022-06-29T16:07:47.441Z"
   },
   {
    "duration": 139,
    "start_time": "2022-06-29T16:07:47.668Z"
   },
   {
    "duration": 228,
    "start_time": "2022-06-29T16:07:47.808Z"
   },
   {
    "duration": 110,
    "start_time": "2022-06-29T16:07:48.037Z"
   },
   {
    "duration": 364,
    "start_time": "2022-06-29T16:07:48.149Z"
   },
   {
    "duration": 155,
    "start_time": "2022-06-29T16:07:48.515Z"
   },
   {
    "duration": 200,
    "start_time": "2022-06-29T16:07:48.672Z"
   },
   {
    "duration": 168,
    "start_time": "2022-06-29T16:07:48.874Z"
   },
   {
    "duration": 219,
    "start_time": "2022-06-29T16:07:49.043Z"
   },
   {
    "duration": 7,
    "start_time": "2022-06-29T16:07:49.264Z"
   },
   {
    "duration": 293,
    "start_time": "2022-06-29T16:07:49.273Z"
   },
   {
    "duration": 439,
    "start_time": "2022-06-29T16:07:49.567Z"
   },
   {
    "duration": 36,
    "start_time": "2022-06-29T16:07:50.008Z"
   },
   {
    "duration": 37,
    "start_time": "2022-06-29T16:07:50.045Z"
   },
   {
    "duration": 45,
    "start_time": "2022-06-29T16:07:50.084Z"
   },
   {
    "duration": 16,
    "start_time": "2022-06-29T16:07:50.131Z"
   },
   {
    "duration": 30592,
    "start_time": "2022-06-29T16:07:50.148Z"
   },
   {
    "duration": 60,
    "start_time": "2022-06-29T16:08:20.743Z"
   },
   {
    "duration": 87,
    "start_time": "2022-06-29T16:08:20.805Z"
   },
   {
    "duration": 60,
    "start_time": "2022-06-29T16:08:20.894Z"
   },
   {
    "duration": 87,
    "start_time": "2022-06-29T16:08:20.956Z"
   },
   {
    "duration": 27,
    "start_time": "2022-06-29T16:08:21.045Z"
   },
   {
    "duration": 83,
    "start_time": "2022-06-29T16:08:21.074Z"
   },
   {
    "duration": 71,
    "start_time": "2022-06-29T16:08:21.159Z"
   },
   {
    "duration": 825,
    "start_time": "2022-06-29T16:08:21.232Z"
   },
   {
    "duration": 14,
    "start_time": "2022-06-29T16:08:22.058Z"
   },
   {
    "duration": 22,
    "start_time": "2022-06-29T16:08:22.073Z"
   },
   {
    "duration": 836,
    "start_time": "2022-06-29T16:08:22.097Z"
   },
   {
    "duration": 47,
    "start_time": "2022-06-29T16:08:22.935Z"
   },
   {
    "duration": 167,
    "start_time": "2022-06-29T16:08:22.983Z"
   },
   {
    "duration": 3,
    "start_time": "2022-06-29T16:08:23.152Z"
   },
   {
    "duration": 6,
    "start_time": "2022-06-29T16:08:23.156Z"
   },
   {
    "duration": 1055001,
    "start_time": "2022-06-29T16:08:23.163Z"
   },
   {
    "duration": 40891,
    "start_time": "2022-06-29T16:25:58.165Z"
   },
   {
    "duration": 165,
    "start_time": "2022-06-29T16:26:39.057Z"
   },
   {
    "duration": 75,
    "start_time": "2022-06-29T16:26:39.225Z"
   },
   {
    "duration": 2612903,
    "start_time": "2022-06-29T16:26:39.302Z"
   },
   {
    "duration": 361221,
    "start_time": "2022-06-29T17:10:12.206Z"
   },
   {
    "duration": 152,
    "start_time": "2022-06-29T17:16:13.429Z"
   },
   {
    "duration": 143,
    "start_time": "2022-06-29T17:16:13.582Z"
   },
   {
    "duration": 1592,
    "start_time": "2022-06-30T10:18:10.404Z"
   },
   {
    "duration": 844,
    "start_time": "2022-06-30T10:18:11.998Z"
   },
   {
    "duration": 143,
    "start_time": "2022-06-30T10:18:12.844Z"
   },
   {
    "duration": 15,
    "start_time": "2022-06-30T10:18:12.989Z"
   },
   {
    "duration": 58,
    "start_time": "2022-06-30T10:18:13.006Z"
   },
   {
    "duration": 128,
    "start_time": "2022-06-30T10:18:13.065Z"
   },
   {
    "duration": 516,
    "start_time": "2022-06-30T10:18:13.195Z"
   },
   {
    "duration": 121,
    "start_time": "2022-06-30T10:18:13.713Z"
   },
   {
    "duration": 240,
    "start_time": "2022-06-30T10:18:13.835Z"
   },
   {
    "duration": 11,
    "start_time": "2022-06-30T10:18:14.077Z"
   },
   {
    "duration": 256,
    "start_time": "2022-06-30T10:18:14.090Z"
   },
   {
    "duration": 151,
    "start_time": "2022-06-30T10:18:14.347Z"
   },
   {
    "duration": 235,
    "start_time": "2022-06-30T10:18:14.499Z"
   },
   {
    "duration": 119,
    "start_time": "2022-06-30T10:18:14.738Z"
   },
   {
    "duration": 495,
    "start_time": "2022-06-30T10:18:14.858Z"
   },
   {
    "duration": 186,
    "start_time": "2022-06-30T10:18:15.355Z"
   },
   {
    "duration": 243,
    "start_time": "2022-06-30T10:18:15.545Z"
   },
   {
    "duration": 194,
    "start_time": "2022-06-30T10:18:15.789Z"
   },
   {
    "duration": 288,
    "start_time": "2022-06-30T10:18:15.984Z"
   },
   {
    "duration": 10,
    "start_time": "2022-06-30T10:18:16.274Z"
   },
   {
    "duration": 406,
    "start_time": "2022-06-30T10:18:16.287Z"
   },
   {
    "duration": 519,
    "start_time": "2022-06-30T10:18:16.694Z"
   },
   {
    "duration": 40,
    "start_time": "2022-06-30T10:18:17.214Z"
   },
   {
    "duration": 35,
    "start_time": "2022-06-30T10:18:17.256Z"
   },
   {
    "duration": 24,
    "start_time": "2022-06-30T10:18:17.293Z"
   },
   {
    "duration": 24,
    "start_time": "2022-06-30T10:18:17.335Z"
   },
   {
    "duration": 26423,
    "start_time": "2022-06-30T10:18:17.361Z"
   },
   {
    "duration": 0,
    "start_time": "2022-06-30T10:18:43.787Z"
   },
   {
    "duration": 0,
    "start_time": "2022-06-30T10:18:43.788Z"
   },
   {
    "duration": 0,
    "start_time": "2022-06-30T10:18:43.789Z"
   },
   {
    "duration": 0,
    "start_time": "2022-06-30T10:18:43.790Z"
   },
   {
    "duration": 0,
    "start_time": "2022-06-30T10:18:43.791Z"
   },
   {
    "duration": 0,
    "start_time": "2022-06-30T10:18:43.793Z"
   },
   {
    "duration": 0,
    "start_time": "2022-06-30T10:18:43.793Z"
   },
   {
    "duration": 0,
    "start_time": "2022-06-30T10:18:43.795Z"
   },
   {
    "duration": 0,
    "start_time": "2022-06-30T10:18:43.796Z"
   },
   {
    "duration": 0,
    "start_time": "2022-06-30T10:18:43.797Z"
   },
   {
    "duration": 0,
    "start_time": "2022-06-30T10:18:43.798Z"
   },
   {
    "duration": 0,
    "start_time": "2022-06-30T10:18:43.799Z"
   },
   {
    "duration": 0,
    "start_time": "2022-06-30T10:18:43.800Z"
   },
   {
    "duration": 0,
    "start_time": "2022-06-30T10:18:43.828Z"
   },
   {
    "duration": 0,
    "start_time": "2022-06-30T10:18:43.830Z"
   },
   {
    "duration": 0,
    "start_time": "2022-06-30T10:18:43.831Z"
   },
   {
    "duration": 0,
    "start_time": "2022-06-30T10:18:43.832Z"
   },
   {
    "duration": 0,
    "start_time": "2022-06-30T10:18:43.833Z"
   },
   {
    "duration": 0,
    "start_time": "2022-06-30T10:18:43.837Z"
   },
   {
    "duration": 0,
    "start_time": "2022-06-30T10:18:43.838Z"
   },
   {
    "duration": 0,
    "start_time": "2022-06-30T10:18:43.839Z"
   },
   {
    "duration": 0,
    "start_time": "2022-06-30T10:18:43.841Z"
   },
   {
    "duration": 0,
    "start_time": "2022-06-30T10:18:43.842Z"
   },
   {
    "duration": 0,
    "start_time": "2022-06-30T10:18:43.843Z"
   },
   {
    "duration": 0,
    "start_time": "2022-06-30T10:18:43.845Z"
   },
   {
    "duration": 0,
    "start_time": "2022-06-30T10:18:43.846Z"
   },
   {
    "duration": 0,
    "start_time": "2022-06-30T10:18:43.847Z"
   },
   {
    "duration": 0,
    "start_time": "2022-06-30T10:18:43.848Z"
   },
   {
    "duration": 0,
    "start_time": "2022-06-30T10:18:43.850Z"
   },
   {
    "duration": 1803,
    "start_time": "2022-06-30T10:19:18.421Z"
   },
   {
    "duration": 849,
    "start_time": "2022-06-30T10:19:20.226Z"
   },
   {
    "duration": 130,
    "start_time": "2022-06-30T10:19:21.077Z"
   },
   {
    "duration": 33,
    "start_time": "2022-06-30T10:19:21.210Z"
   },
   {
    "duration": 54,
    "start_time": "2022-06-30T10:19:21.247Z"
   },
   {
    "duration": 120,
    "start_time": "2022-06-30T10:19:21.302Z"
   },
   {
    "duration": 528,
    "start_time": "2022-06-30T10:19:21.423Z"
   },
   {
    "duration": 100,
    "start_time": "2022-06-30T10:19:21.952Z"
   },
   {
    "duration": 239,
    "start_time": "2022-06-30T10:19:22.054Z"
   },
   {
    "duration": 8,
    "start_time": "2022-06-30T10:19:22.295Z"
   },
   {
    "duration": 243,
    "start_time": "2022-06-30T10:19:22.305Z"
   },
   {
    "duration": 172,
    "start_time": "2022-06-30T10:19:22.549Z"
   },
   {
    "duration": 263,
    "start_time": "2022-06-30T10:19:22.722Z"
   },
   {
    "duration": 161,
    "start_time": "2022-06-30T10:19:22.987Z"
   },
   {
    "duration": 473,
    "start_time": "2022-06-30T10:19:23.152Z"
   },
   {
    "duration": 195,
    "start_time": "2022-06-30T10:19:23.634Z"
   },
   {
    "duration": 242,
    "start_time": "2022-06-30T10:19:23.831Z"
   },
   {
    "duration": 203,
    "start_time": "2022-06-30T10:19:24.075Z"
   },
   {
    "duration": 247,
    "start_time": "2022-06-30T10:19:24.280Z"
   },
   {
    "duration": 19,
    "start_time": "2022-06-30T10:19:24.528Z"
   },
   {
    "duration": 352,
    "start_time": "2022-06-30T10:19:24.548Z"
   },
   {
    "duration": 547,
    "start_time": "2022-06-30T10:19:24.901Z"
   },
   {
    "duration": 33,
    "start_time": "2022-06-30T10:19:25.450Z"
   },
   {
    "duration": 38,
    "start_time": "2022-06-30T10:19:25.485Z"
   },
   {
    "duration": 42,
    "start_time": "2022-06-30T10:19:25.530Z"
   },
   {
    "duration": 34,
    "start_time": "2022-06-30T10:19:25.575Z"
   },
   {
    "duration": 37983,
    "start_time": "2022-06-30T10:19:25.610Z"
   },
   {
    "duration": 110,
    "start_time": "2022-06-30T10:20:03.598Z"
   },
   {
    "duration": 109,
    "start_time": "2022-06-30T10:20:03.710Z"
   },
   {
    "duration": 87,
    "start_time": "2022-06-30T10:20:03.821Z"
   },
   {
    "duration": 110,
    "start_time": "2022-06-30T10:20:03.910Z"
   },
   {
    "duration": 36,
    "start_time": "2022-06-30T10:20:04.029Z"
   },
   {
    "duration": 107,
    "start_time": "2022-06-30T10:20:04.067Z"
   },
   {
    "duration": 69,
    "start_time": "2022-06-30T10:20:04.176Z"
   },
   {
    "duration": 941,
    "start_time": "2022-06-30T10:20:04.249Z"
   },
   {
    "duration": 13,
    "start_time": "2022-06-30T10:20:05.192Z"
   },
   {
    "duration": 56,
    "start_time": "2022-06-30T10:20:05.206Z"
   },
   {
    "duration": 1050,
    "start_time": "2022-06-30T10:20:05.270Z"
   },
   {
    "duration": 78,
    "start_time": "2022-06-30T10:20:06.322Z"
   },
   {
    "duration": 196,
    "start_time": "2022-06-30T10:20:06.402Z"
   },
   {
    "duration": 3,
    "start_time": "2022-06-30T10:20:06.600Z"
   },
   {
    "duration": 11,
    "start_time": "2022-06-30T10:20:06.604Z"
   },
   {
    "duration": 7395,
    "start_time": "2022-06-30T10:27:07.838Z"
   },
   {
    "duration": 2619,
    "start_time": "2022-06-30T10:27:15.254Z"
   },
   {
    "duration": 391,
    "start_time": "2022-06-30T10:27:17.877Z"
   },
   {
    "duration": 162,
    "start_time": "2022-06-30T10:27:18.274Z"
   },
   {
    "duration": 498,
    "start_time": "2022-06-30T10:27:18.441Z"
   },
   {
    "duration": 904,
    "start_time": "2022-06-30T10:27:18.958Z"
   },
   {
    "duration": 6787,
    "start_time": "2022-06-30T10:27:19.869Z"
   },
   {
    "duration": 816,
    "start_time": "2022-06-30T10:27:26.658Z"
   },
   {
    "duration": 2127,
    "start_time": "2022-06-30T10:27:27.546Z"
   },
   {
    "duration": 18,
    "start_time": "2022-06-30T10:27:29.750Z"
   },
   {
    "duration": 1615,
    "start_time": "2022-06-30T10:27:29.834Z"
   },
   {
    "duration": 1816,
    "start_time": "2022-06-30T10:27:31.458Z"
   },
   {
    "duration": 1800,
    "start_time": "2022-06-30T10:27:33.354Z"
   },
   {
    "duration": 791,
    "start_time": "2022-06-30T10:27:35.163Z"
   },
   {
    "duration": 4477,
    "start_time": "2022-06-30T10:27:35.956Z"
   },
   {
    "duration": 835,
    "start_time": "2022-06-30T10:27:40.448Z"
   },
   {
    "duration": 1110,
    "start_time": "2022-06-30T10:27:41.352Z"
   },
   {
    "duration": 2788,
    "start_time": "2022-06-30T10:27:42.563Z"
   },
   {
    "duration": 1749,
    "start_time": "2022-06-30T10:27:45.381Z"
   },
   {
    "duration": 26,
    "start_time": "2022-06-30T10:27:47.138Z"
   },
   {
    "duration": 2624,
    "start_time": "2022-06-30T10:27:47.234Z"
   },
   {
    "duration": 3810,
    "start_time": "2022-06-30T10:27:49.928Z"
   },
   {
    "duration": 216,
    "start_time": "2022-06-30T10:27:53.740Z"
   },
   {
    "duration": 430,
    "start_time": "2022-06-30T10:27:53.958Z"
   },
   {
    "duration": 445,
    "start_time": "2022-06-30T10:27:54.392Z"
   },
   {
    "duration": 212,
    "start_time": "2022-06-30T10:27:54.842Z"
   },
   {
    "duration": 255890,
    "start_time": "2022-06-30T10:27:55.061Z"
   },
   {
    "duration": 315,
    "start_time": "2022-06-30T10:32:10.953Z"
   },
   {
    "duration": 413,
    "start_time": "2022-06-30T10:32:11.278Z"
   },
   {
    "duration": 441,
    "start_time": "2022-06-30T10:32:11.737Z"
   },
   {
    "duration": 498,
    "start_time": "2022-06-30T10:32:12.180Z"
   },
   {
    "duration": 80,
    "start_time": "2022-06-30T10:32:12.690Z"
   },
   {
    "duration": 464,
    "start_time": "2022-06-30T10:32:12.832Z"
   },
   {
    "duration": 165,
    "start_time": "2022-06-30T10:32:13.299Z"
   },
   {
    "duration": 2427,
    "start_time": "2022-06-30T10:32:13.467Z"
   },
   {
    "duration": 47,
    "start_time": "2022-06-30T10:32:15.897Z"
   },
   {
    "duration": 84,
    "start_time": "2022-06-30T10:32:15.954Z"
   },
   {
    "duration": 2739,
    "start_time": "2022-06-30T10:32:16.040Z"
   },
   {
    "duration": 168,
    "start_time": "2022-06-30T10:32:18.780Z"
   },
   {
    "duration": 616,
    "start_time": "2022-06-30T10:32:18.950Z"
   },
   {
    "duration": 10,
    "start_time": "2022-06-30T10:32:19.568Z"
   },
   {
    "duration": 10,
    "start_time": "2022-06-30T10:32:19.632Z"
   },
   {
    "duration": 528,
    "start_time": "2022-08-13T13:49:01.738Z"
   },
   {
    "duration": 0,
    "start_time": "2022-08-13T13:49:02.269Z"
   },
   {
    "duration": 0,
    "start_time": "2022-08-13T13:49:02.270Z"
   },
   {
    "duration": 0,
    "start_time": "2022-08-13T13:49:02.272Z"
   },
   {
    "duration": 0,
    "start_time": "2022-08-13T13:49:02.273Z"
   },
   {
    "duration": 0,
    "start_time": "2022-08-13T13:49:02.274Z"
   },
   {
    "duration": 0,
    "start_time": "2022-08-13T13:49:02.275Z"
   },
   {
    "duration": 0,
    "start_time": "2022-08-13T13:49:02.292Z"
   },
   {
    "duration": 0,
    "start_time": "2022-08-13T13:49:02.293Z"
   },
   {
    "duration": 0,
    "start_time": "2022-08-13T13:49:02.294Z"
   },
   {
    "duration": 0,
    "start_time": "2022-08-13T13:49:02.295Z"
   },
   {
    "duration": 0,
    "start_time": "2022-08-13T13:49:02.296Z"
   },
   {
    "duration": 0,
    "start_time": "2022-08-13T13:49:02.297Z"
   },
   {
    "duration": 0,
    "start_time": "2022-08-13T13:49:02.298Z"
   },
   {
    "duration": 0,
    "start_time": "2022-08-13T13:49:02.300Z"
   },
   {
    "duration": 0,
    "start_time": "2022-08-13T13:49:02.301Z"
   },
   {
    "duration": 0,
    "start_time": "2022-08-13T13:49:02.302Z"
   },
   {
    "duration": 0,
    "start_time": "2022-08-13T13:49:02.303Z"
   },
   {
    "duration": 0,
    "start_time": "2022-08-13T13:49:02.304Z"
   },
   {
    "duration": 0,
    "start_time": "2022-08-13T13:49:02.306Z"
   },
   {
    "duration": 0,
    "start_time": "2022-08-13T13:49:02.306Z"
   },
   {
    "duration": 0,
    "start_time": "2022-08-13T13:49:02.307Z"
   },
   {
    "duration": 0,
    "start_time": "2022-08-13T13:49:02.308Z"
   },
   {
    "duration": 0,
    "start_time": "2022-08-13T13:49:02.309Z"
   },
   {
    "duration": 0,
    "start_time": "2022-08-13T13:49:02.310Z"
   },
   {
    "duration": 0,
    "start_time": "2022-08-13T13:49:02.311Z"
   },
   {
    "duration": 0,
    "start_time": "2022-08-13T13:49:02.312Z"
   },
   {
    "duration": 0,
    "start_time": "2022-08-13T13:49:02.313Z"
   },
   {
    "duration": 0,
    "start_time": "2022-08-13T13:49:02.315Z"
   },
   {
    "duration": 0,
    "start_time": "2022-08-13T13:49:02.316Z"
   },
   {
    "duration": 0,
    "start_time": "2022-08-13T13:49:02.317Z"
   },
   {
    "duration": 0,
    "start_time": "2022-08-13T13:49:02.319Z"
   },
   {
    "duration": 0,
    "start_time": "2022-08-13T13:49:02.319Z"
   },
   {
    "duration": 0,
    "start_time": "2022-08-13T13:49:02.321Z"
   },
   {
    "duration": 0,
    "start_time": "2022-08-13T13:49:02.322Z"
   },
   {
    "duration": 0,
    "start_time": "2022-08-13T13:49:02.323Z"
   },
   {
    "duration": 0,
    "start_time": "2022-08-13T13:49:02.324Z"
   },
   {
    "duration": 0,
    "start_time": "2022-08-13T13:49:02.325Z"
   },
   {
    "duration": 0,
    "start_time": "2022-08-13T13:49:02.326Z"
   },
   {
    "duration": 0,
    "start_time": "2022-08-13T13:49:02.327Z"
   },
   {
    "duration": 0,
    "start_time": "2022-08-13T13:49:02.328Z"
   },
   {
    "duration": 0,
    "start_time": "2022-08-13T13:49:02.329Z"
   },
   {
    "duration": 0,
    "start_time": "2022-08-13T13:49:02.330Z"
   },
   {
    "duration": 0,
    "start_time": "2022-08-13T13:49:02.392Z"
   },
   {
    "duration": 0,
    "start_time": "2022-08-13T13:49:02.393Z"
   },
   {
    "duration": 1,
    "start_time": "2022-08-13T13:49:02.394Z"
   },
   {
    "duration": 0,
    "start_time": "2022-08-13T13:49:02.396Z"
   },
   {
    "duration": 0,
    "start_time": "2022-08-13T13:49:02.397Z"
   },
   {
    "duration": 0,
    "start_time": "2022-08-13T13:49:02.398Z"
   },
   {
    "duration": 0,
    "start_time": "2022-08-13T13:49:02.399Z"
   },
   {
    "duration": 0,
    "start_time": "2022-08-13T13:49:02.400Z"
   },
   {
    "duration": 0,
    "start_time": "2022-08-13T13:49:02.400Z"
   },
   {
    "duration": 0,
    "start_time": "2022-08-13T13:49:02.401Z"
   },
   {
    "duration": 0,
    "start_time": "2022-08-13T13:49:02.403Z"
   },
   {
    "duration": 0,
    "start_time": "2022-08-13T13:49:02.404Z"
   },
   {
    "duration": 1,
    "start_time": "2022-08-13T13:49:02.405Z"
   },
   {
    "duration": 1281,
    "start_time": "2022-08-13T13:49:36.690Z"
   },
   {
    "duration": 3064,
    "start_time": "2022-08-13T13:49:40.773Z"
   },
   {
    "duration": 153,
    "start_time": "2022-08-13T13:49:43.839Z"
   },
   {
    "duration": 22,
    "start_time": "2022-08-13T13:49:43.995Z"
   },
   {
    "duration": 559,
    "start_time": "2022-08-13T13:49:52.753Z"
   },
   {
    "duration": 33,
    "start_time": "2022-08-13T13:49:53.565Z"
   },
   {
    "duration": 47,
    "start_time": "2022-08-13T13:49:54.408Z"
   },
   {
    "duration": 27,
    "start_time": "2022-08-13T13:49:55.271Z"
   },
   {
    "duration": 18,
    "start_time": "2022-08-13T13:49:57.023Z"
   },
   {
    "duration": 35096,
    "start_time": "2022-08-13T13:49:59.123Z"
   },
   {
    "duration": 78,
    "start_time": "2022-08-13T13:50:34.221Z"
   },
   {
    "duration": 93,
    "start_time": "2022-08-13T13:50:34.301Z"
   },
   {
    "duration": 63,
    "start_time": "2022-08-13T13:50:34.396Z"
   },
   {
    "duration": 95,
    "start_time": "2022-08-13T13:50:34.460Z"
   },
   {
    "duration": 36,
    "start_time": "2022-08-13T13:50:34.556Z"
   },
   {
    "duration": 77,
    "start_time": "2022-08-13T13:50:34.593Z"
   },
   {
    "duration": 63,
    "start_time": "2022-08-13T13:50:34.671Z"
   },
   {
    "duration": 853,
    "start_time": "2022-08-13T13:50:34.735Z"
   },
   {
    "duration": 13,
    "start_time": "2022-08-13T13:50:35.591Z"
   },
   {
    "duration": 25,
    "start_time": "2022-08-13T13:50:35.606Z"
   },
   {
    "duration": 79,
    "start_time": "2022-08-13T13:50:35.632Z"
   },
   {
    "duration": 69,
    "start_time": "2022-08-13T13:51:14.521Z"
   },
   {
    "duration": 3122,
    "start_time": "2022-08-13T13:51:25.109Z"
   },
   {
    "duration": 1077,
    "start_time": "2022-08-13T13:51:32.583Z"
   },
   {
    "duration": 58,
    "start_time": "2022-08-13T13:51:36.006Z"
   },
   {
    "duration": 173,
    "start_time": "2022-08-13T13:51:38.435Z"
   },
   {
    "duration": 3,
    "start_time": "2022-08-13T13:51:41.460Z"
   },
   {
    "duration": 6,
    "start_time": "2022-08-13T13:51:43.008Z"
   },
   {
    "duration": 49592,
    "start_time": "2022-08-13T13:51:47.150Z"
   },
   {
    "duration": 199,
    "start_time": "2022-08-13T13:52:36.744Z"
   },
   {
    "duration": 5,
    "start_time": "2022-08-13T13:52:36.945Z"
   },
   {
    "duration": 61,
    "start_time": "2022-08-13T13:53:14.239Z"
   },
   {
    "duration": 375130,
    "start_time": "2022-08-13T13:53:17.975Z"
   },
   {
    "duration": 129,
    "start_time": "2022-08-13T13:59:33.108Z"
   },
   {
    "duration": 95472,
    "start_time": "2022-08-13T13:59:33.239Z"
   },
   {
    "duration": 21,
    "start_time": "2022-08-13T14:01:08.713Z"
   },
   {
    "duration": 1326,
    "start_time": "2022-08-13T14:03:00.655Z"
   },
   {
    "duration": 20657,
    "start_time": "2022-08-13T14:03:03.062Z"
   },
   {
    "duration": 11,
    "start_time": "2022-08-13T14:03:34.313Z"
   }
  ],
  "kernelspec": {
   "display_name": "Python 3 (ipykernel)",
   "language": "python",
   "name": "python3"
  },
  "language_info": {
   "codemirror_mode": {
    "name": "ipython",
    "version": 3
   },
   "file_extension": ".py",
   "mimetype": "text/x-python",
   "name": "python",
   "nbconvert_exporter": "python",
   "pygments_lexer": "ipython3",
   "version": "3.9.7"
  },
  "toc": {
   "base_numbering": 1,
   "nav_menu": {},
   "number_sections": true,
   "sideBar": true,
   "skip_h1_title": true,
   "title_cell": "Table of Contents",
   "title_sidebar": "Contents",
   "toc_cell": true,
   "toc_position": {
    "height": "calc(100% - 180px)",
    "left": "10px",
    "top": "150px",
    "width": "287.195px"
   },
   "toc_section_display": true,
   "toc_window_display": true
  }
 },
 "nbformat": 4,
 "nbformat_minor": 5
}
